{
 "cells": [
  {
   "cell_type": "code",
   "execution_count": 2,
   "metadata": {},
   "outputs": [],
   "source": [
    "import numpy as np"
   ]
  },
  {
   "cell_type": "code",
   "execution_count": 4,
   "metadata": {},
   "outputs": [
    {
     "name": "stdout",
     "output_type": "stream",
     "text": [
      "[[ 7 10]\n",
      " [15 22]]\n"
     ]
    }
   ],
   "source": [
    "arr1 = np.array([[1,2],[3,4]])\n",
    "arr2 = np.array([[1,2],[3,4]])\n",
    "\n",
    "print(np.dot(arr1,arr2))"
   ]
  },
  {
   "cell_type": "code",
   "execution_count": 9,
   "metadata": {},
   "outputs": [
    {
     "name": "stdout",
     "output_type": "stream",
     "text": [
      "[  1. -11.   9.  11. -10.]\n"
     ]
    }
   ],
   "source": [
    "print(np.poly([-1, 1, 1, 10]))"
   ]
  },
  {
   "cell_type": "code",
   "execution_count": 3,
   "metadata": {},
   "outputs": [],
   "source": [
    "op = \"push 4\"\n",
    "l = op.split(\" \")"
   ]
  },
  {
   "cell_type": "code",
   "execution_count": 4,
   "metadata": {},
   "outputs": [
    {
     "data": {
      "text/plain": [
       "['push', '4']"
      ]
     },
     "execution_count": 4,
     "metadata": {},
     "output_type": "execute_result"
    }
   ],
   "source": [
    "l"
   ]
  },
  {
   "cell_type": "code",
   "execution_count": 28,
   "metadata": {},
   "outputs": [],
   "source": [
    "def superStack(operations):\n",
    "    superstack = []\n",
    "    \n",
    "    for operation in operations:\n",
    "        ops = operation.split(\" \")\n",
    "        if(ops[0] ==\"pop\"):\n",
    "            if(len(superstack)<1):\n",
    "                print(\"Empyty\")\n",
    "            else:\n",
    "                superstack.pop()\n",
    "                if(len(superstack)<1):\n",
    "                    print(\"Empyty\")\n",
    "                else:\n",
    "                    print(superstack[len(superstack)-1])\n",
    "        if(ops[0]==\"push\"):\n",
    "            superstack.append(int(ops[1]))\n",
    "            print(ops[1])\n",
    "        if(ops[0]==\"inc\"):\n",
    "            for i in range(int(ops[1])):\n",
    "                superstack[i] = superstack[i]+ int(ops[2])\n",
    "            print(superstack[len(superstack)-1])\n",
    "    return superstack;"
   ]
  },
  {
   "cell_type": "code",
   "execution_count": 29,
   "metadata": {},
   "outputs": [],
   "source": [
    "ls = [\"12\", \"push 4\", \"pop\", \"push 3\", \"push 5\",\"push 2\", \"inc 3 1\", \"pop\",\"push 1\", \"inc 2 2\", \"push 4\",\"pop\", \"pop\"]"
   ]
  },
  {
   "cell_type": "code",
   "execution_count": 30,
   "metadata": {},
   "outputs": [
    {
     "name": "stdout",
     "output_type": "stream",
     "text": [
      "4\n",
      "Empyty\n",
      "3\n",
      "5\n",
      "2\n",
      "3\n",
      "6\n",
      "1\n",
      "1\n",
      "4\n",
      "1\n",
      "8\n"
     ]
    }
   ],
   "source": [
    "stack = superStack(ls)"
   ]
  },
  {
   "cell_type": "code",
   "execution_count": 27,
   "metadata": {},
   "outputs": [
    {
     "name": "stdout",
     "output_type": "stream",
     "text": [
      "[6, 8]\n"
     ]
    }
   ],
   "source": [
    "print(stack)"
   ]
  },
  {
   "cell_type": "code",
   "execution_count": 86,
   "metadata": {},
   "outputs": [],
   "source": [
    "def Substring(string):\n",
    "    newString = string\n",
    "    substr = []\n",
    "    while len(newString)!=1:\n",
    "        for i in range(1, len(newString)+1):\n",
    "            if(newString[:i] not in substr):\n",
    "                substr.append(newString[:i])\n",
    "      \n",
    "        newString=newString[1:]\n",
    "        if(len(newString)==1):\n",
    "            if(newString[0] not in substr):\n",
    "                substr.append(newString[0])\n",
    "    return substr"
   ]
  },
  {
   "cell_type": "code",
   "execution_count": 87,
   "metadata": {},
   "outputs": [],
   "source": [
    "c = Substring(\"kincenvizh\")"
   ]
  },
  {
   "cell_type": "code",
   "execution_count": 90,
   "metadata": {},
   "outputs": [
    {
     "name": "stdout",
     "output_type": "stream",
     "text": [
      "53\n"
     ]
    }
   ],
   "source": [
    "print(len(c))"
   ]
  },
  {
   "cell_type": "code",
   "execution_count": 93,
   "metadata": {},
   "outputs": [],
   "source": [
    "s=Substring(\"aaaa\")"
   ]
  },
  {
   "cell_type": "code",
   "execution_count": 94,
   "metadata": {},
   "outputs": [
    {
     "name": "stdout",
     "output_type": "stream",
     "text": [
      "4\n"
     ]
    }
   ],
   "source": [
    "print(len(s))"
   ]
  },
  {
   "cell_type": "code",
   "execution_count": null,
   "metadata": {},
   "outputs": [],
   "source": []
  }
 ],
 "metadata": {
  "kernelspec": {
   "display_name": "Python 3",
   "language": "python",
   "name": "python3"
  },
  "language_info": {
   "codemirror_mode": {
    "name": "ipython",
    "version": 3
   },
   "file_extension": ".py",
   "mimetype": "text/x-python",
   "name": "python",
   "nbconvert_exporter": "python",
   "pygments_lexer": "ipython3",
   "version": "3.7.1"
  }
 },
 "nbformat": 4,
 "nbformat_minor": 2
}
