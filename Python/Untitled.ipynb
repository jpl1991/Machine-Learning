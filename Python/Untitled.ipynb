{
 "cells": [
  {
   "cell_type": "code",
   "execution_count": 4,
   "metadata": {},
   "outputs": [],
   "source": [
    "def minPathSum(grid):\n",
    "    cols = len(grid[0])\n",
    "    rows = len(grid)\n",
    "\n",
    "    new_grid = [[0 for _ in range(cols)] for _ in range(rows)]\n",
    "\n",
    "    for row in range(rows):\n",
    "        for col in range(cols):\n",
    "\n",
    "            if(row==0 and col!=0):\n",
    "                new_grid[row][col] =grid[row][col] + grid[row][col-1]\n",
    "            if(row!=0 and col==0):\n",
    "                new_grid[row][col] =grid[row][col] + grid[row-1][col]\n",
    "            if(row!=0 and col!=0):\n",
    "                new_grid[row][col] = grid[row][col]+ min(grid[row-1][col],grid[row][col-1])\n",
    "\n",
    "    return new_grid[rows-1][cols-1]"
   ]
  },
  {
   "cell_type": "code",
   "execution_count": null,
   "metadata": {},
   "outputs": [],
   "source": []
  }
 ],
 "metadata": {
  "kernelspec": {
   "display_name": "Python 3",
   "language": "python",
   "name": "python3"
  },
  "language_info": {
   "codemirror_mode": {
    "name": "ipython",
    "version": 3
   },
   "file_extension": ".py",
   "mimetype": "text/x-python",
   "name": "python",
   "nbconvert_exporter": "python",
   "pygments_lexer": "ipython3",
   "version": "3.7.1"
  }
 },
 "nbformat": 4,
 "nbformat_minor": 2
}
