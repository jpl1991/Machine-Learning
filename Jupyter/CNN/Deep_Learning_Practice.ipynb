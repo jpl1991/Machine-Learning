{
 "cells": [
  {
   "cell_type": "code",
   "execution_count": 1,
   "metadata": {},
   "outputs": [
    {
     "name": "stderr",
     "output_type": "stream",
     "text": [
      "Using TensorFlow backend.\n"
     ]
    }
   ],
   "source": [
    "from keras.datasets import reuters"
   ]
  },
  {
   "cell_type": "code",
   "execution_count": 2,
   "metadata": {},
   "outputs": [],
   "source": [
    "(train_data, train_labels),(test_data, test_labels) = reuters.load_data(num_words=10000)"
   ]
  },
  {
   "cell_type": "code",
   "execution_count": 3,
   "metadata": {},
   "outputs": [
    {
     "data": {
      "text/plain": [
       "8982"
      ]
     },
     "execution_count": 3,
     "metadata": {},
     "output_type": "execute_result"
    }
   ],
   "source": [
    "len(train_data)"
   ]
  },
  {
   "cell_type": "code",
   "execution_count": 4,
   "metadata": {},
   "outputs": [
    {
     "data": {
      "text/plain": [
       "2246"
      ]
     },
     "execution_count": 4,
     "metadata": {},
     "output_type": "execute_result"
    }
   ],
   "source": [
    "len(test_data)"
   ]
  },
  {
   "cell_type": "code",
   "execution_count": 5,
   "metadata": {},
   "outputs": [],
   "source": [
    "word_index = reuters.get_word_index()\n",
    "reverse_word_index = dict([(value,key) for (key, value) in word_index.items()])\n",
    "decoded_newswire = ''.join([reverse_word_index.get(i-3, '?') for i in train_data[0]])"
   ]
  },
  {
   "cell_type": "code",
   "execution_count": 6,
   "metadata": {},
   "outputs": [
    {
     "data": {
      "text/plain": [
       "3"
      ]
     },
     "execution_count": 6,
     "metadata": {},
     "output_type": "execute_result"
    }
   ],
   "source": [
    "train_labels[10]"
   ]
  },
  {
   "cell_type": "code",
   "execution_count": 7,
   "metadata": {},
   "outputs": [
    {
     "data": {
      "text/plain": [
       "'???saidasaresultofitsdecemberacquisitionofspacecoitexpectsearningspersharein1987of115to130dlrspershareupfrom70ctsin1986thecompanysaidpretaxnetshouldrisetonineto10mlndlrsfromsixmlndlrsin1986andrentaloperationrevenuesto19to22mlndlrsfrom125mlndlrsitsaidcashflowpersharethisyearshouldbe250tothreedlrsreuter3'"
      ]
     },
     "execution_count": 7,
     "metadata": {},
     "output_type": "execute_result"
    }
   ],
   "source": [
    "decoded_newswire"
   ]
  },
  {
   "cell_type": "markdown",
   "metadata": {},
   "source": [
    "**Preparing the data**"
   ]
  },
  {
   "cell_type": "code",
   "execution_count": 13,
   "metadata": {},
   "outputs": [],
   "source": [
    "# Encoding the data\n",
    "import numpy as np\n",
    "\n",
    "def vectorize_sequences(sequences, dimension = 10000):\n",
    "    results = np.zeros((len(sequences), dimension))\n",
    "    for i, sequence in enumerate(sequences):\n",
    "        results[i, sequence] = 1\n",
    "    return results\n"
   ]
  },
  {
   "cell_type": "code",
   "execution_count": 14,
   "metadata": {},
   "outputs": [],
   "source": [
    "x_train = vectorize_sequences(train_data)\n",
    "x_test = vectorize_sequences(test_data)"
   ]
  },
  {
   "cell_type": "code",
   "execution_count": 9,
   "metadata": {},
   "outputs": [],
   "source": [
    "from keras.utils.np_utils import to_categorical\n",
    "\n",
    "one_hot_train_labels = to_categorical(train_labels)\n",
    "one_hot_test_labels = to_categorical(test_labels)"
   ]
  },
  {
   "cell_type": "code",
   "execution_count": 19,
   "metadata": {},
   "outputs": [],
   "source": [
    "# Model definition\n",
    "from keras import models\n",
    "from keras import layers\n",
    "\n",
    "model = models.Sequential()\n",
    "model.add(layers.Dense(64, activation='relu', input_shape=(10000,)))\n",
    "model.add(layers.Dense(64, activation='relu'))\n",
    "model.add(layers.Dense(46, activation='softmax'))"
   ]
  },
  {
   "cell_type": "code",
   "execution_count": 20,
   "metadata": {},
   "outputs": [],
   "source": [
    "# compiling the model\n",
    "model.compile(optimizer='rmsprop',\n",
    "              loss='categorical_crossentropy',\n",
    "              metrics=['accuracy'])\n"
   ]
  },
  {
   "cell_type": "code",
   "execution_count": 22,
   "metadata": {},
   "outputs": [],
   "source": [
    "# setting aside a validation set\n",
    "x_val = x_train[:1000]\n",
    "partial_x_train = x_train[1000:]\n",
    "\n",
    "y_val = one_hot_train_labels[:1000]\n",
    "partial_y_train = one_hot_train_labels[1000:]\n"
   ]
  },
  {
   "cell_type": "code",
   "execution_count": 23,
   "metadata": {},
   "outputs": [
    {
     "name": "stdout",
     "output_type": "stream",
     "text": [
      "Train on 7982 samples, validate on 1000 samples\n",
      "Epoch 1/20\n",
      "7982/7982 [==============================] - 2s 308us/step - loss: 2.4997 - acc: 0.4899 - val_loss: 1.6813 - val_acc: 0.6480\n",
      "Epoch 2/20\n",
      "7982/7982 [==============================] - 2s 230us/step - loss: 1.3911 - acc: 0.7040 - val_loss: 1.2781 - val_acc: 0.7170\n",
      "Epoch 3/20\n",
      "7982/7982 [==============================] - 2s 231us/step - loss: 1.0482 - acc: 0.7699 - val_loss: 1.1177 - val_acc: 0.7630\n",
      "Epoch 4/20\n",
      "7982/7982 [==============================] - 2s 242us/step - loss: 0.8243 - acc: 0.8276 - val_loss: 1.0221 - val_acc: 0.7780\n",
      "Epoch 5/20\n",
      "7982/7982 [==============================] - 2s 224us/step - loss: 0.6596 - acc: 0.8638 - val_loss: 0.9705 - val_acc: 0.7950\n",
      "Epoch 6/20\n",
      "7982/7982 [==============================] - 2s 221us/step - loss: 0.5250 - acc: 0.8940 - val_loss: 0.9205 - val_acc: 0.8110\n",
      "Epoch 7/20\n",
      "7982/7982 [==============================] - 2s 222us/step - loss: 0.4289 - acc: 0.9109 - val_loss: 0.9118 - val_acc: 0.8040\n",
      "Epoch 8/20\n",
      "7982/7982 [==============================] - 2s 224us/step - loss: 0.3493 - acc: 0.9281 - val_loss: 0.8950 - val_acc: 0.8170\n",
      "Epoch 9/20\n",
      "7982/7982 [==============================] - 2s 224us/step - loss: 0.2892 - acc: 0.9387 - val_loss: 0.9131 - val_acc: 0.8090\n",
      "Epoch 10/20\n",
      "7982/7982 [==============================] - 2s 221us/step - loss: 0.2450 - acc: 0.9453 - val_loss: 0.9117 - val_acc: 0.8120\n",
      "Epoch 11/20\n",
      "7982/7982 [==============================] - 2s 218us/step - loss: 0.2103 - acc: 0.9485 - val_loss: 0.9530 - val_acc: 0.8110\n",
      "Epoch 12/20\n",
      "7982/7982 [==============================] - 2s 224us/step - loss: 0.1879 - acc: 0.9526 - val_loss: 0.9614 - val_acc: 0.8030\n",
      "Epoch 13/20\n",
      "7982/7982 [==============================] - 2s 221us/step - loss: 0.1657 - acc: 0.9529 - val_loss: 0.9961 - val_acc: 0.7980\n",
      "Epoch 14/20\n",
      "7982/7982 [==============================] - 2s 225us/step - loss: 0.1533 - acc: 0.9548 - val_loss: 0.9777 - val_acc: 0.8060\n",
      "Epoch 15/20\n",
      "7982/7982 [==============================] - 2s 220us/step - loss: 0.1454 - acc: 0.9551 - val_loss: 1.0205 - val_acc: 0.7990\n",
      "Epoch 16/20\n",
      "7982/7982 [==============================] - 2s 221us/step - loss: 0.1328 - acc: 0.9554 - val_loss: 1.0407 - val_acc: 0.7990\n",
      "Epoch 17/20\n",
      "7982/7982 [==============================] - 2s 220us/step - loss: 0.1255 - acc: 0.9555 - val_loss: 1.0482 - val_acc: 0.7960\n",
      "Epoch 18/20\n",
      "7982/7982 [==============================] - 2s 220us/step - loss: 0.1169 - acc: 0.9562 - val_loss: 1.0374 - val_acc: 0.8130\n",
      "Epoch 19/20\n",
      "7982/7982 [==============================] - 2s 219us/step - loss: 0.1159 - acc: 0.9570 - val_loss: 1.0314 - val_acc: 0.8060\n",
      "Epoch 20/20\n",
      "7982/7982 [==============================] - 2s 224us/step - loss: 0.1136 - acc: 0.9583 - val_loss: 1.0516 - val_acc: 0.8040\n"
     ]
    }
   ],
   "source": [
    "# training the model\n",
    "history = model.fit(partial_x_train, partial_y_train, epochs=20, batch_size=512, validation_data=(x_val,y_val))"
   ]
  },
  {
   "cell_type": "code",
   "execution_count": 26,
   "metadata": {},
   "outputs": [
    {
     "data": {
      "image/png": "[encoded data removed]",
      "text/plain": [
       "<Figure size 432x288 with 1 Axes>"
      ]
     },
     "metadata": {},
     "output_type": "display_data"
    }
   ],
   "source": [
    "#plotting the training and validation loss\n",
    "import matplotlib.pyplot as plt\n",
    "\n",
    "loss = history.history['loss']\n",
    "val_loss = history.history['val_loss']\n",
    "\n",
    "epochs = range(1, len(loss)+1)\n",
    "\n",
    "plt.plot(epochs, loss, 'bo', label = 'Training loss')\n",
    "plt.plot(epochs, val_loss, 'b', label = 'Validation loss')\n",
    "plt.title(\"Training and validation loss\")\n",
    "plt.xlabel('Epochs')\n",
    "plt.ylabel('Loss')\n",
    "plt.legend()\n",
    "plt.show()"
   ]
  },
  {
   "cell_type": "code",
   "execution_count": 28,
   "metadata": {},
   "outputs": [
    {
     "data": {
      "image/png": "[encoded data removed]",
      "text/plain": [
       "<Figure size 432x288 with 1 Axes>"
      ]
     },
     "metadata": {},
     "output_type": "display_data"
    }
   ],
   "source": [
    "# plotting the training and validation accuracy\n",
    "\n",
    "plt.clf\n",
    "\n",
    "acc = history.history['acc']\n",
    "val_acc = history.history['val_acc']\n",
    "\n",
    "plt.plot(epochs, acc, 'bo', label = 'Training acc')\n",
    "plt.plot(epochs, val_acc, 'b', label = 'Validation acc')\n",
    "plt.title('Training and validation accuracy')\n",
    "plt.xlabel('Epochs')\n",
    "plt.ylabel('Accuracy')\n",
    "plt.legend()\n",
    "plt.show()\n"
   ]
  },
  {
   "cell_type": "code",
   "execution_count": 32,
   "metadata": {},
   "outputs": [
    {
     "name": "stdout",
     "output_type": "stream",
     "text": [
      "Train on 7982 samples, validate on 1000 samples\n",
      "Epoch 1/9\n",
      "7982/7982 [==============================] - 2s 295us/step - loss: 2.5370 - acc: 0.5165 - val_loss: 1.7039 - val_acc: 0.6250\n",
      "Epoch 2/9\n",
      "7982/7982 [==============================] - 2s 215us/step - loss: 1.4389 - acc: 0.6943 - val_loss: 1.3625 - val_acc: 0.7040\n",
      "Epoch 3/9\n",
      "7982/7982 [==============================] - 2s 229us/step - loss: 1.0867 - acc: 0.7657 - val_loss: 1.1767 - val_acc: 0.7460\n",
      "Epoch 4/9\n",
      "7982/7982 [==============================] - 2s 228us/step - loss: 0.8450 - acc: 0.8196 - val_loss: 1.0579 - val_acc: 0.7750\n",
      "Epoch 5/9\n",
      "7982/7982 [==============================] - 2s 233us/step - loss: 0.6767 - acc: 0.8571 - val_loss: 0.9977 - val_acc: 0.7810\n",
      "Epoch 6/9\n",
      "7982/7982 [==============================] - 2s 219us/step - loss: 0.5326 - acc: 0.8899 - val_loss: 0.9606 - val_acc: 0.7950\n",
      "Epoch 7/9\n",
      "7982/7982 [==============================] - 2s 220us/step - loss: 0.4256 - acc: 0.9129 - val_loss: 0.9113 - val_acc: 0.8180\n",
      "Epoch 8/9\n",
      "7982/7982 [==============================] - 2s 216us/step - loss: 0.3428 - acc: 0.9281 - val_loss: 0.9172 - val_acc: 0.8100\n",
      "Epoch 9/9\n",
      "7982/7982 [==============================] - 2s 216us/step - loss: 0.2818 - acc: 0.9389 - val_loss: 0.9155 - val_acc: 0.8130\n",
      "2246/2246 [==============================] - 1s 226us/step\n"
     ]
    }
   ],
   "source": [
    "# Retraining a model from scratch\n",
    "\n",
    "model = models.Sequential()\n",
    "model.add(layers.Dense(64, activation='relu', input_shape=(10000,)))\n",
    "model.add(layers.Dense(64, activation='relu'))\n",
    "model.add(layers.Dense(46, activation='softmax'))\n",
    "\n",
    "model.compile(optimizer='rmsprop',\n",
    "              loss='categorical_crossentropy',\n",
    "              metrics = ['accuracy'])\n",
    "model.fit(partial_x_train, partial_y_train, epochs=9, batch_size=512, validation_data=(x_val, y_val))\n",
    "\n",
    "result = model.evaluate(x_test, one_hot_test_labels)"
   ]
  },
  {
   "cell_type": "code",
   "execution_count": 33,
   "metadata": {},
   "outputs": [
    {
     "data": {
      "text/plain": [
       "[1.0021692787231553, 0.7862867319944812]"
      ]
     },
     "execution_count": 33,
     "metadata": {},
     "output_type": "execute_result"
    }
   ],
   "source": [
    "result"
   ]
  },
  {
   "cell_type": "code",
   "execution_count": 35,
   "metadata": {},
   "outputs": [
    {
     "data": {
      "text/plain": [
       "0.182546749777382"
      ]
     },
     "execution_count": 35,
     "metadata": {},
     "output_type": "execute_result"
    }
   ],
   "source": [
    "import copy\n",
    "test_labels_copy = copy.copy(test_labels)\n",
    "np.random.shuffle(test_labels_copy)\n",
    "hits_array = np.array(test_labels) == np.array(test_labels_copy)\n",
    "float(np.sum(hits_array))/len(test_labels)"
   ]
  },
  {
   "cell_type": "code",
   "execution_count": 36,
   "metadata": {},
   "outputs": [],
   "source": [
    "predictions = model.predict(x_test)"
   ]
  },
  {
   "cell_type": "code",
   "execution_count": 37,
   "metadata": {},
   "outputs": [
    {
     "data": {
      "text/plain": [
       "(46,)"
      ]
     },
     "execution_count": 37,
     "metadata": {},
     "output_type": "execute_result"
    }
   ],
   "source": [
    "predictions[0].shape"
   ]
  },
  {
   "cell_type": "code",
   "execution_count": 38,
   "metadata": {},
   "outputs": [
    {
     "data": {
      "text/plain": [
       "0.9999999"
      ]
     },
     "execution_count": 38,
     "metadata": {},
     "output_type": "execute_result"
    }
   ],
   "source": [
    "np.sum(predictions[0])"
   ]
  },
  {
   "cell_type": "code",
   "execution_count": 39,
   "metadata": {},
   "outputs": [
    {
     "data": {
      "text/plain": [
       "3"
      ]
     },
     "execution_count": 39,
     "metadata": {},
     "output_type": "execute_result"
    }
   ],
   "source": [
    "np.argmax(predictions[0])"
   ]
  },
  {
   "cell_type": "code",
   "execution_count": 46,
   "metadata": {},
   "outputs": [],
   "source": [
    "y_train = np.array(train_labels)\n",
    "y_test = np.array(test_labels)"
   ]
  },
  {
   "cell_type": "code",
   "execution_count": null,
   "metadata": {},
   "outputs": [],
   "source": []
  }
 ],
 "metadata": {
  "kernelspec": {
   "display_name": "Python 3",
   "language": "python",
   "name": "python3"
  },
  "language_info": {
   "codemirror_mode": {
    "name": "ipython",
    "version": 3
   },
   "file_extension": ".py",
   "mimetype": "text/x-python",
   "name": "python",
   "nbconvert_exporter": "python",
   "pygments_lexer": "ipython3",
   "version": "3.6.6"
  }
 },
 "nbformat": 4,
 "nbformat_minor": 2
}
