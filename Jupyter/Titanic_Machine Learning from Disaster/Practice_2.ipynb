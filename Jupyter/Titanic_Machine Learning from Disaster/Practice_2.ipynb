{
 "cells": [
  {
   "cell_type": "code",
   "execution_count": 1,
   "metadata": {},
   "outputs": [],
   "source": [
    "import numpy as np\n",
    "import pandas as pd\n",
    "import matplotlib.pyplot as plt\n",
    "import seaborn as sns\n",
    "%matplotlib inline\n",
    "sns.set()\n",
    "\n",
    "import warnings\n",
    "warnings.filterwarnings('ignore', category = FutureWarning)\n",
    "\n",
    "from subprocess import check_output"
   ]
  },
  {
   "cell_type": "code",
   "execution_count": 2,
   "metadata": {},
   "outputs": [],
   "source": [
    "df_train = pd.read_csv(\"Data/train.csv\")               \n",
    "df_test= pd.read_csv(\"Data/test.csv\")"
   ]
  },
  {
   "cell_type": "code",
   "execution_count": 3,
   "metadata": {},
   "outputs": [
    {
     "data": {
      "text/html": [
       "<div>\n",
       "<style scoped>\n",
       "    .dataframe tbody tr th:only-of-type {\n",
       "        vertical-align: middle;\n",
       "    }\n",
       "\n",
       "    .dataframe tbody tr th {\n",
       "        vertical-align: top;\n",
       "    }\n",
       "\n",
       "    .dataframe thead th {\n",
       "        text-align: right;\n",
       "    }\n",
       "</style>\n",
       "<table border=\"1\" class=\"dataframe\">\n",
       "  <thead>\n",
       "    <tr style=\"text-align: right;\">\n",
       "      <th></th>\n",
       "      <th>PassengerId</th>\n",
       "      <th>Survived</th>\n",
       "      <th>Pclass</th>\n",
       "      <th>Name</th>\n",
       "      <th>Sex</th>\n",
       "      <th>Age</th>\n",
       "      <th>SibSp</th>\n",
       "      <th>Parch</th>\n",
       "      <th>Ticket</th>\n",
       "      <th>Fare</th>\n",
       "      <th>Cabin</th>\n",
       "      <th>Embarked</th>\n",
       "    </tr>\n",
       "  </thead>\n",
       "  <tbody>\n",
       "    <tr>\n",
       "      <th>0</th>\n",
       "      <td>1</td>\n",
       "      <td>0</td>\n",
       "      <td>3</td>\n",
       "      <td>Braund, Mr. Owen Harris</td>\n",
       "      <td>male</td>\n",
       "      <td>22.0</td>\n",
       "      <td>1</td>\n",
       "      <td>0</td>\n",
       "      <td>A/5 21171</td>\n",
       "      <td>7.2500</td>\n",
       "      <td>NaN</td>\n",
       "      <td>S</td>\n",
       "    </tr>\n",
       "    <tr>\n",
       "      <th>1</th>\n",
       "      <td>2</td>\n",
       "      <td>1</td>\n",
       "      <td>1</td>\n",
       "      <td>Cumings, Mrs. John Bradley (Florence Briggs Th...</td>\n",
       "      <td>female</td>\n",
       "      <td>38.0</td>\n",
       "      <td>1</td>\n",
       "      <td>0</td>\n",
       "      <td>PC 17599</td>\n",
       "      <td>71.2833</td>\n",
       "      <td>C85</td>\n",
       "      <td>C</td>\n",
       "    </tr>\n",
       "    <tr>\n",
       "      <th>2</th>\n",
       "      <td>3</td>\n",
       "      <td>1</td>\n",
       "      <td>3</td>\n",
       "      <td>Heikkinen, Miss. Laina</td>\n",
       "      <td>female</td>\n",
       "      <td>26.0</td>\n",
       "      <td>0</td>\n",
       "      <td>0</td>\n",
       "      <td>STON/O2. 3101282</td>\n",
       "      <td>7.9250</td>\n",
       "      <td>NaN</td>\n",
       "      <td>S</td>\n",
       "    </tr>\n",
       "    <tr>\n",
       "      <th>3</th>\n",
       "      <td>4</td>\n",
       "      <td>1</td>\n",
       "      <td>1</td>\n",
       "      <td>Futrelle, Mrs. Jacques Heath (Lily May Peel)</td>\n",
       "      <td>female</td>\n",
       "      <td>35.0</td>\n",
       "      <td>1</td>\n",
       "      <td>0</td>\n",
       "      <td>113803</td>\n",
       "      <td>53.1000</td>\n",
       "      <td>C123</td>\n",
       "      <td>S</td>\n",
       "    </tr>\n",
       "    <tr>\n",
       "      <th>4</th>\n",
       "      <td>5</td>\n",
       "      <td>0</td>\n",
       "      <td>3</td>\n",
       "      <td>Allen, Mr. William Henry</td>\n",
       "      <td>male</td>\n",
       "      <td>35.0</td>\n",
       "      <td>0</td>\n",
       "      <td>0</td>\n",
       "      <td>373450</td>\n",
       "      <td>8.0500</td>\n",
       "      <td>NaN</td>\n",
       "      <td>S</td>\n",
       "    </tr>\n",
       "  </tbody>\n",
       "</table>\n",
       "</div>"
      ],
      "text/plain": [
       "   PassengerId  Survived  Pclass  \\\n",
       "0            1         0       3   \n",
       "1            2         1       1   \n",
       "2            3         1       3   \n",
       "3            4         1       1   \n",
       "4            5         0       3   \n",
       "\n",
       "                                                Name     Sex   Age  SibSp  \\\n",
       "0                            Braund, Mr. Owen Harris    male  22.0      1   \n",
       "1  Cumings, Mrs. John Bradley (Florence Briggs Th...  female  38.0      1   \n",
       "2                             Heikkinen, Miss. Laina  female  26.0      0   \n",
       "3       Futrelle, Mrs. Jacques Heath (Lily May Peel)  female  35.0      1   \n",
       "4                           Allen, Mr. William Henry    male  35.0      0   \n",
       "\n",
       "   Parch            Ticket     Fare Cabin Embarked  \n",
       "0      0         A/5 21171   7.2500   NaN        S  \n",
       "1      0          PC 17599  71.2833   C85        C  \n",
       "2      0  STON/O2. 3101282   7.9250   NaN        S  \n",
       "3      0            113803  53.1000  C123        S  \n",
       "4      0            373450   8.0500   NaN        S  "
      ]
     },
     "execution_count": 3,
     "metadata": {},
     "output_type": "execute_result"
    }
   ],
   "source": [
    "df_train.head()"
   ]
  },
  {
   "cell_type": "code",
   "execution_count": 4,
   "metadata": {},
   "outputs": [
    {
     "name": "stdout",
     "output_type": "stream",
     "text": [
      "<class 'pandas.core.frame.DataFrame'>\n",
      "RangeIndex: 891 entries, 0 to 890\n",
      "Data columns (total 12 columns):\n",
      "PassengerId    891 non-null int64\n",
      "Survived       891 non-null int64\n",
      "Pclass         891 non-null int64\n",
      "Name           891 non-null object\n",
      "Sex            891 non-null object\n",
      "Age            714 non-null float64\n",
      "SibSp          891 non-null int64\n",
      "Parch          891 non-null int64\n",
      "Ticket         891 non-null object\n",
      "Fare           891 non-null float64\n",
      "Cabin          204 non-null object\n",
      "Embarked       889 non-null object\n",
      "dtypes: float64(2), int64(5), object(5)\n",
      "memory usage: 83.6+ KB\n"
     ]
    }
   ],
   "source": [
    "df_train.info()"
   ]
  },
  {
   "cell_type": "code",
   "execution_count": 5,
   "metadata": {},
   "outputs": [
    {
     "data": {
      "text/html": [
       "<div>\n",
       "<style scoped>\n",
       "    .dataframe tbody tr th:only-of-type {\n",
       "        vertical-align: middle;\n",
       "    }\n",
       "\n",
       "    .dataframe tbody tr th {\n",
       "        vertical-align: top;\n",
       "    }\n",
       "\n",
       "    .dataframe thead th {\n",
       "        text-align: right;\n",
       "    }\n",
       "</style>\n",
       "<table border=\"1\" class=\"dataframe\">\n",
       "  <thead>\n",
       "    <tr style=\"text-align: right;\">\n",
       "      <th></th>\n",
       "      <th>PassengerId</th>\n",
       "      <th>Survived</th>\n",
       "      <th>Pclass</th>\n",
       "      <th>Age</th>\n",
       "      <th>SibSp</th>\n",
       "      <th>Parch</th>\n",
       "      <th>Fare</th>\n",
       "    </tr>\n",
       "  </thead>\n",
       "  <tbody>\n",
       "    <tr>\n",
       "      <th>count</th>\n",
       "      <td>891.000000</td>\n",
       "      <td>891.000000</td>\n",
       "      <td>891.000000</td>\n",
       "      <td>714.000000</td>\n",
       "      <td>891.000000</td>\n",
       "      <td>891.000000</td>\n",
       "      <td>891.000000</td>\n",
       "    </tr>\n",
       "    <tr>\n",
       "      <th>mean</th>\n",
       "      <td>446.000000</td>\n",
       "      <td>0.383838</td>\n",
       "      <td>2.308642</td>\n",
       "      <td>29.699118</td>\n",
       "      <td>0.523008</td>\n",
       "      <td>0.381594</td>\n",
       "      <td>32.204208</td>\n",
       "    </tr>\n",
       "    <tr>\n",
       "      <th>std</th>\n",
       "      <td>257.353842</td>\n",
       "      <td>0.486592</td>\n",
       "      <td>0.836071</td>\n",
       "      <td>14.526497</td>\n",
       "      <td>1.102743</td>\n",
       "      <td>0.806057</td>\n",
       "      <td>49.693429</td>\n",
       "    </tr>\n",
       "    <tr>\n",
       "      <th>min</th>\n",
       "      <td>1.000000</td>\n",
       "      <td>0.000000</td>\n",
       "      <td>1.000000</td>\n",
       "      <td>0.420000</td>\n",
       "      <td>0.000000</td>\n",
       "      <td>0.000000</td>\n",
       "      <td>0.000000</td>\n",
       "    </tr>\n",
       "    <tr>\n",
       "      <th>25%</th>\n",
       "      <td>223.500000</td>\n",
       "      <td>0.000000</td>\n",
       "      <td>2.000000</td>\n",
       "      <td>20.125000</td>\n",
       "      <td>0.000000</td>\n",
       "      <td>0.000000</td>\n",
       "      <td>7.910400</td>\n",
       "    </tr>\n",
       "    <tr>\n",
       "      <th>50%</th>\n",
       "      <td>446.000000</td>\n",
       "      <td>0.000000</td>\n",
       "      <td>3.000000</td>\n",
       "      <td>28.000000</td>\n",
       "      <td>0.000000</td>\n",
       "      <td>0.000000</td>\n",
       "      <td>14.454200</td>\n",
       "    </tr>\n",
       "    <tr>\n",
       "      <th>75%</th>\n",
       "      <td>668.500000</td>\n",
       "      <td>1.000000</td>\n",
       "      <td>3.000000</td>\n",
       "      <td>38.000000</td>\n",
       "      <td>1.000000</td>\n",
       "      <td>0.000000</td>\n",
       "      <td>31.000000</td>\n",
       "    </tr>\n",
       "    <tr>\n",
       "      <th>max</th>\n",
       "      <td>891.000000</td>\n",
       "      <td>1.000000</td>\n",
       "      <td>3.000000</td>\n",
       "      <td>80.000000</td>\n",
       "      <td>8.000000</td>\n",
       "      <td>6.000000</td>\n",
       "      <td>512.329200</td>\n",
       "    </tr>\n",
       "  </tbody>\n",
       "</table>\n",
       "</div>"
      ],
      "text/plain": [
       "       PassengerId    Survived      Pclass         Age       SibSp  \\\n",
       "count   891.000000  891.000000  891.000000  714.000000  891.000000   \n",
       "mean    446.000000    0.383838    2.308642   29.699118    0.523008   \n",
       "std     257.353842    0.486592    0.836071   14.526497    1.102743   \n",
       "min       1.000000    0.000000    1.000000    0.420000    0.000000   \n",
       "25%     223.500000    0.000000    2.000000   20.125000    0.000000   \n",
       "50%     446.000000    0.000000    3.000000   28.000000    0.000000   \n",
       "75%     668.500000    1.000000    3.000000   38.000000    1.000000   \n",
       "max     891.000000    1.000000    3.000000   80.000000    8.000000   \n",
       "\n",
       "            Parch        Fare  \n",
       "count  891.000000  891.000000  \n",
       "mean     0.381594   32.204208  \n",
       "std      0.806057   49.693429  \n",
       "min      0.000000    0.000000  \n",
       "25%      0.000000    7.910400  \n",
       "50%      0.000000   14.454200  \n",
       "75%      0.000000   31.000000  \n",
       "max      6.000000  512.329200  "
      ]
     },
     "execution_count": 5,
     "metadata": {},
     "output_type": "execute_result"
    }
   ],
   "source": [
    "df_train.describe()"
   ]
  },
  {
   "cell_type": "code",
   "execution_count": 6,
   "metadata": {},
   "outputs": [
    {
     "data": {
      "text/html": [
       "<div>\n",
       "<style scoped>\n",
       "    .dataframe tbody tr th:only-of-type {\n",
       "        vertical-align: middle;\n",
       "    }\n",
       "\n",
       "    .dataframe tbody tr th {\n",
       "        vertical-align: top;\n",
       "    }\n",
       "\n",
       "    .dataframe thead th {\n",
       "        text-align: right;\n",
       "    }\n",
       "</style>\n",
       "<table border=\"1\" class=\"dataframe\">\n",
       "  <thead>\n",
       "    <tr style=\"text-align: right;\">\n",
       "      <th></th>\n",
       "      <th>PassengerId</th>\n",
       "      <th>Pclass</th>\n",
       "      <th>Age</th>\n",
       "      <th>SibSp</th>\n",
       "      <th>Parch</th>\n",
       "      <th>Fare</th>\n",
       "    </tr>\n",
       "  </thead>\n",
       "  <tbody>\n",
       "    <tr>\n",
       "      <th>count</th>\n",
       "      <td>418.000000</td>\n",
       "      <td>418.000000</td>\n",
       "      <td>332.000000</td>\n",
       "      <td>418.000000</td>\n",
       "      <td>418.000000</td>\n",
       "      <td>417.000000</td>\n",
       "    </tr>\n",
       "    <tr>\n",
       "      <th>mean</th>\n",
       "      <td>1100.500000</td>\n",
       "      <td>2.265550</td>\n",
       "      <td>30.272590</td>\n",
       "      <td>0.447368</td>\n",
       "      <td>0.392344</td>\n",
       "      <td>35.627188</td>\n",
       "    </tr>\n",
       "    <tr>\n",
       "      <th>std</th>\n",
       "      <td>120.810458</td>\n",
       "      <td>0.841838</td>\n",
       "      <td>14.181209</td>\n",
       "      <td>0.896760</td>\n",
       "      <td>0.981429</td>\n",
       "      <td>55.907576</td>\n",
       "    </tr>\n",
       "    <tr>\n",
       "      <th>min</th>\n",
       "      <td>892.000000</td>\n",
       "      <td>1.000000</td>\n",
       "      <td>0.170000</td>\n",
       "      <td>0.000000</td>\n",
       "      <td>0.000000</td>\n",
       "      <td>0.000000</td>\n",
       "    </tr>\n",
       "    <tr>\n",
       "      <th>25%</th>\n",
       "      <td>996.250000</td>\n",
       "      <td>1.000000</td>\n",
       "      <td>21.000000</td>\n",
       "      <td>0.000000</td>\n",
       "      <td>0.000000</td>\n",
       "      <td>7.895800</td>\n",
       "    </tr>\n",
       "    <tr>\n",
       "      <th>50%</th>\n",
       "      <td>1100.500000</td>\n",
       "      <td>3.000000</td>\n",
       "      <td>27.000000</td>\n",
       "      <td>0.000000</td>\n",
       "      <td>0.000000</td>\n",
       "      <td>14.454200</td>\n",
       "    </tr>\n",
       "    <tr>\n",
       "      <th>75%</th>\n",
       "      <td>1204.750000</td>\n",
       "      <td>3.000000</td>\n",
       "      <td>39.000000</td>\n",
       "      <td>1.000000</td>\n",
       "      <td>0.000000</td>\n",
       "      <td>31.500000</td>\n",
       "    </tr>\n",
       "    <tr>\n",
       "      <th>max</th>\n",
       "      <td>1309.000000</td>\n",
       "      <td>3.000000</td>\n",
       "      <td>76.000000</td>\n",
       "      <td>8.000000</td>\n",
       "      <td>9.000000</td>\n",
       "      <td>512.329200</td>\n",
       "    </tr>\n",
       "  </tbody>\n",
       "</table>\n",
       "</div>"
      ],
      "text/plain": [
       "       PassengerId      Pclass         Age       SibSp       Parch        Fare\n",
       "count   418.000000  418.000000  332.000000  418.000000  418.000000  417.000000\n",
       "mean   1100.500000    2.265550   30.272590    0.447368    0.392344   35.627188\n",
       "std     120.810458    0.841838   14.181209    0.896760    0.981429   55.907576\n",
       "min     892.000000    1.000000    0.170000    0.000000    0.000000    0.000000\n",
       "25%     996.250000    1.000000   21.000000    0.000000    0.000000    7.895800\n",
       "50%    1100.500000    3.000000   27.000000    0.000000    0.000000   14.454200\n",
       "75%    1204.750000    3.000000   39.000000    1.000000    0.000000   31.500000\n",
       "max    1309.000000    3.000000   76.000000    8.000000    9.000000  512.329200"
      ]
     },
     "execution_count": 6,
     "metadata": {},
     "output_type": "execute_result"
    }
   ],
   "source": [
    "df_test.describe()"
   ]
  },
  {
   "cell_type": "code",
   "execution_count": 7,
   "metadata": {},
   "outputs": [
    {
     "data": {
      "text/plain": [
       "<matplotlib.axes._subplots.AxesSubplot at 0x25f0542be48>"
      ]
     },
     "execution_count": 7,
     "metadata": {},
     "output_type": "execute_result"
    },
    {
     "data": {
      "image/png": "[encoded data removed]",
      "text/plain": [
       "<Figure size 432x288 with 1 Axes>"
      ]
     },
     "metadata": {},
     "output_type": "display_data"
    }
   ],
   "source": [
    "sns.countplot(x='Survived', data=df_train)"
   ]
  },
  {
   "cell_type": "code",
   "execution_count": 8,
   "metadata": {},
   "outputs": [
    {
     "name": "stdout",
     "output_type": "stream",
     "text": [
      "0.3838383838383838\n"
     ]
    }
   ],
   "source": [
    "print(df_train.Survived.sum()/df_train.Survived.count())"
   ]
  },
  {
   "cell_type": "markdown",
   "metadata": {},
   "source": [
    "**Sex:Female more likely to survive than male**"
   ]
  },
  {
   "cell_type": "code",
   "execution_count": 9,
   "metadata": {},
   "outputs": [
    {
     "data": {
      "text/plain": [
       "Survived  Sex   \n",
       "0         female     81\n",
       "          male      468\n",
       "1         female    233\n",
       "          male      109\n",
       "Name: Survived, dtype: int64"
      ]
     },
     "execution_count": 9,
     "metadata": {},
     "output_type": "execute_result"
    }
   ],
   "source": [
    "df_train.groupby(['Survived','Sex'])['Survived'].count()"
   ]
  },
  {
   "cell_type": "code",
   "execution_count": 10,
   "metadata": {},
   "outputs": [
    {
     "data": {
      "text/plain": [
       "<seaborn.axisgrid.FacetGrid at 0x25f07488390>"
      ]
     },
     "execution_count": 10,
     "metadata": {},
     "output_type": "execute_result"
    },
    {
     "data": {
      "image/png": "[encoded data removed]",
      "text/plain": [
       "<Figure size 720x360 with 2 Axes>"
      ]
     },
     "metadata": {},
     "output_type": "display_data"
    }
   ],
   "source": [
    "sns.catplot(x='Sex', col='Survived', kind ='count', data=df_train)"
   ]
  },
  {
   "cell_type": "code",
   "execution_count": 11,
   "metadata": {},
   "outputs": [
    {
     "name": "stdout",
     "output_type": "stream",
     "text": [
      "% of women survived:  0.7420382165605095\n",
      "% of women survived:  0.18890814558058924\n"
     ]
    }
   ],
   "source": [
    "print(\"% of women survived: \", df_train[df_train.Sex=='female'].Survived.sum()/\n",
    "         df_train[df_train.Sex=='female'].Survived.count())\n",
    "\n",
    "print(\"% of women survived: \", df_train[df_train.Sex=='male'].Survived.sum()/df_train[df_train.Sex=='male'].Survived.count())\n",
    "\n"
   ]
  },
  {
   "cell_type": "code",
   "execution_count": 12,
   "metadata": {},
   "outputs": [
    {
     "data": {
      "image/png": "[encoded data removed]",
      "text/plain": [
       "<Figure size 1152x504 with 2 Axes>"
      ]
     },
     "metadata": {},
     "output_type": "display_data"
    }
   ],
   "source": [
    "f, ax =plt.subplots(1,2,figsize=(16,7))\n",
    "df_train['Survived'][df_train['Sex']=='male'].value_counts().plot.pie(explode=[0,0.2], autopct='%1.1f%%', ax=ax[0], shadow=True)\n",
    "\n",
    "df_train['Survived'][df_train['Sex']=='female'].value_counts().plot.pie(explode=[0,0.2], autopct='%1.1f%%', ax=ax[1], shadow=True)\n",
    "\n",
    "ax[0].set_title('Survived(male)')\n",
    "ax[1].set_title('Survived(female)')\n",
    "plt.show()"
   ]
  },
  {
   "cell_type": "markdown",
   "metadata": {},
   "source": [
    "**Passenger Class: Survival rate decreases with Pclass**"
   ]
  },
  {
   "cell_type": "code",
   "execution_count": 13,
   "metadata": {},
   "outputs": [
    {
     "data": {
      "text/html": [
       "<style  type=\"text/css\" >\n",
       "    #T_c8fb698c_0238_11e9_b327_185e0f6ca47frow0_col0 {\n",
       "            background-color:  #ffff00;\n",
       "        }    #T_c8fb698c_0238_11e9_b327_185e0f6ca47frow0_col1 {\n",
       "            background-color:  #ffce00;\n",
       "        }    #T_c8fb698c_0238_11e9_b327_185e0f6ca47frow0_col2 {\n",
       "            background-color:  #fff400;\n",
       "        }    #T_c8fb698c_0238_11e9_b327_185e0f6ca47frow1_col0 {\n",
       "            background-color:  #fff600;\n",
       "        }    #T_c8fb698c_0238_11e9_b327_185e0f6ca47frow1_col1 {\n",
       "            background-color:  #ffff00;\n",
       "        }    #T_c8fb698c_0238_11e9_b327_185e0f6ca47frow1_col2 {\n",
       "            background-color:  #ffff00;\n",
       "        }    #T_c8fb698c_0238_11e9_b327_185e0f6ca47frow2_col0 {\n",
       "            background-color:  #ff6000;\n",
       "        }    #T_c8fb698c_0238_11e9_b327_185e0f6ca47frow2_col1 {\n",
       "            background-color:  #ffdf00;\n",
       "        }    #T_c8fb698c_0238_11e9_b327_185e0f6ca47frow2_col2 {\n",
       "            background-color:  #ff9000;\n",
       "        }    #T_c8fb698c_0238_11e9_b327_185e0f6ca47frow3_col0 {\n",
       "            background-color:  #ff0000;\n",
       "        }    #T_c8fb698c_0238_11e9_b327_185e0f6ca47frow3_col1 {\n",
       "            background-color:  #ff0000;\n",
       "        }    #T_c8fb698c_0238_11e9_b327_185e0f6ca47frow3_col2 {\n",
       "            background-color:  #ff0000;\n",
       "        }</style>  \n",
       "<table id=\"T_c8fb698c_0238_11e9_b327_185e0f6ca47f\" > \n",
       "<thead>    <tr> \n",
       "        <th class=\"index_name level0\" >Survived</th> \n",
       "        <th class=\"col_heading level0 col0\" >0</th> \n",
       "        <th class=\"col_heading level0 col1\" >1</th> \n",
       "        <th class=\"col_heading level0 col2\" >All</th> \n",
       "    </tr>    <tr> \n",
       "        <th class=\"index_name level0\" >Pclass</th> \n",
       "        <th class=\"blank\" ></th> \n",
       "        <th class=\"blank\" ></th> \n",
       "        <th class=\"blank\" ></th> \n",
       "    </tr></thead> \n",
       "<tbody>    <tr> \n",
       "        <th id=\"T_c8fb698c_0238_11e9_b327_185e0f6ca47flevel0_row0\" class=\"row_heading level0 row0\" >1</th> \n",
       "        <td id=\"T_c8fb698c_0238_11e9_b327_185e0f6ca47frow0_col0\" class=\"data row0 col0\" >80</td> \n",
       "        <td id=\"T_c8fb698c_0238_11e9_b327_185e0f6ca47frow0_col1\" class=\"data row0 col1\" >136</td> \n",
       "        <td id=\"T_c8fb698c_0238_11e9_b327_185e0f6ca47frow0_col2\" class=\"data row0 col2\" >216</td> \n",
       "    </tr>    <tr> \n",
       "        <th id=\"T_c8fb698c_0238_11e9_b327_185e0f6ca47flevel0_row1\" class=\"row_heading level0 row1\" >2</th> \n",
       "        <td id=\"T_c8fb698c_0238_11e9_b327_185e0f6ca47frow1_col0\" class=\"data row1 col0\" >97</td> \n",
       "        <td id=\"T_c8fb698c_0238_11e9_b327_185e0f6ca47frow1_col1\" class=\"data row1 col1\" >87</td> \n",
       "        <td id=\"T_c8fb698c_0238_11e9_b327_185e0f6ca47frow1_col2\" class=\"data row1 col2\" >184</td> \n",
       "    </tr>    <tr> \n",
       "        <th id=\"T_c8fb698c_0238_11e9_b327_185e0f6ca47flevel0_row2\" class=\"row_heading level0 row2\" >3</th> \n",
       "        <td id=\"T_c8fb698c_0238_11e9_b327_185e0f6ca47frow2_col0\" class=\"data row2 col0\" >372</td> \n",
       "        <td id=\"T_c8fb698c_0238_11e9_b327_185e0f6ca47frow2_col1\" class=\"data row2 col1\" >119</td> \n",
       "        <td id=\"T_c8fb698c_0238_11e9_b327_185e0f6ca47frow2_col2\" class=\"data row2 col2\" >491</td> \n",
       "    </tr>    <tr> \n",
       "        <th id=\"T_c8fb698c_0238_11e9_b327_185e0f6ca47flevel0_row3\" class=\"row_heading level0 row3\" >All</th> \n",
       "        <td id=\"T_c8fb698c_0238_11e9_b327_185e0f6ca47frow3_col0\" class=\"data row3 col0\" >549</td> \n",
       "        <td id=\"T_c8fb698c_0238_11e9_b327_185e0f6ca47frow3_col1\" class=\"data row3 col1\" >342</td> \n",
       "        <td id=\"T_c8fb698c_0238_11e9_b327_185e0f6ca47frow3_col2\" class=\"data row3 col2\" >891</td> \n",
       "    </tr></tbody> \n",
       "</table> "
      ],
      "text/plain": [
       "<pandas.io.formats.style.Styler at 0x25f075e7fd0>"
      ]
     },
     "execution_count": 13,
     "metadata": {},
     "output_type": "execute_result"
    }
   ],
   "source": [
    "pd.crosstab(df_train.Pclass, df_train.Survived, margins=True).style.background_gradient(cmap='autumn_r')"
   ]
  },
  {
   "cell_type": "code",
   "execution_count": 14,
   "metadata": {},
   "outputs": [
    {
     "name": "stdout",
     "output_type": "stream",
     "text": [
      "% of survivals in\n",
      "Pclass=1:  0.6296296296296297\n",
      "Pclass=2 0.47282608695652173\n",
      "Pclass=3 0.24236252545824846\n"
     ]
    }
   ],
   "source": [
    "print('% of survivals in')\n",
    "print('Pclass=1: ', df_train.Survived[df_train.Pclass==1].sum()/df_train[df_train.Pclass==1].Survived.count())\n",
    "\n",
    "print('Pclass=2', df_train.Survived[df_train.Pclass==2].sum()/df_train[df_train.Pclass==2].Survived.count())\n",
    "\n",
    "print('Pclass=3', df_train.Survived[df_train.Pclass==3].sum()/df_train[df_train.Pclass==3].Survived.count())\n"
   ]
  },
  {
   "cell_type": "code",
   "execution_count": 15,
   "metadata": {},
   "outputs": [
    {
     "data": {
      "text/plain": [
       "<seaborn.axisgrid.FacetGrid at 0x25f077536a0>"
      ]
     },
     "execution_count": 15,
     "metadata": {},
     "output_type": "execute_result"
    },
    {
     "data": {
      "image/png": "[encoded data removed]",
      "text/plain": [
       "<Figure size 360x360 with 1 Axes>"
      ]
     },
     "metadata": {},
     "output_type": "display_data"
    }
   ],
   "source": [
    "sns.catplot('Pclass','Survived', kind='point', data=df_train)"
   ]
  },
  {
   "cell_type": "markdown",
   "metadata": {},
   "source": [
    "**Passenger Class and Sex:**<br>\n",
    "**Almost all women in Pclass 1 and 2 survived and nearly all men in Pclass 2 and 3 died**"
   ]
  },
  {
   "cell_type": "code",
   "execution_count": 16,
   "metadata": {},
   "outputs": [
    {
     "data": {
      "text/html": [
       "<style  type=\"text/css\" >\n",
       "    #T_c9544f46_0238_11e9_a264_185e0f6ca47frow0_col0 {\n",
       "            background-color:  #ffff00;\n",
       "        }    #T_c9544f46_0238_11e9_a264_185e0f6ca47frow0_col1 {\n",
       "            background-color:  #ffff00;\n",
       "        }    #T_c9544f46_0238_11e9_a264_185e0f6ca47frow0_col2 {\n",
       "            background-color:  #fff100;\n",
       "        }    #T_c9544f46_0238_11e9_a264_185e0f6ca47frow0_col3 {\n",
       "            background-color:  #ffff00;\n",
       "        }    #T_c9544f46_0238_11e9_a264_185e0f6ca47frow1_col0 {\n",
       "            background-color:  #ff9600;\n",
       "        }    #T_c9544f46_0238_11e9_a264_185e0f6ca47frow1_col1 {\n",
       "            background-color:  #ffa300;\n",
       "        }    #T_c9544f46_0238_11e9_a264_185e0f6ca47frow1_col2 {\n",
       "            background-color:  #fff100;\n",
       "        }    #T_c9544f46_0238_11e9_a264_185e0f6ca47frow1_col3 {\n",
       "            background-color:  #ffcf00;\n",
       "        }    #T_c9544f46_0238_11e9_a264_185e0f6ca47frow2_col0 {\n",
       "            background-color:  #ffa700;\n",
       "        }    #T_c9544f46_0238_11e9_a264_185e0f6ca47frow2_col1 {\n",
       "            background-color:  #ff8500;\n",
       "        }    #T_c9544f46_0238_11e9_a264_185e0f6ca47frow2_col2 {\n",
       "            background-color:  #ff6e00;\n",
       "        }    #T_c9544f46_0238_11e9_a264_185e0f6ca47frow2_col3 {\n",
       "            background-color:  #ff8500;\n",
       "        }    #T_c9544f46_0238_11e9_a264_185e0f6ca47frow3_col0 {\n",
       "            background-color:  #ffcd00;\n",
       "        }    #T_c9544f46_0238_11e9_a264_185e0f6ca47frow3_col1 {\n",
       "            background-color:  #fff000;\n",
       "        }    #T_c9544f46_0238_11e9_a264_185e0f6ca47frow3_col2 {\n",
       "            background-color:  #ffff00;\n",
       "        }    #T_c9544f46_0238_11e9_a264_185e0f6ca47frow3_col3 {\n",
       "            background-color:  #fff700;\n",
       "        }    #T_c9544f46_0238_11e9_a264_185e0f6ca47frow4_col0 {\n",
       "            background-color:  #ff0000;\n",
       "        }    #T_c9544f46_0238_11e9_a264_185e0f6ca47frow4_col1 {\n",
       "            background-color:  #ff0000;\n",
       "        }    #T_c9544f46_0238_11e9_a264_185e0f6ca47frow4_col2 {\n",
       "            background-color:  #ff0000;\n",
       "        }    #T_c9544f46_0238_11e9_a264_185e0f6ca47frow4_col3 {\n",
       "            background-color:  #ff0000;\n",
       "        }</style>  \n",
       "<table id=\"T_c9544f46_0238_11e9_a264_185e0f6ca47f\" > \n",
       "<thead>    <tr> \n",
       "        <th class=\"blank\" ></th> \n",
       "        <th class=\"index_name level0\" >Pclass</th> \n",
       "        <th class=\"col_heading level0 col0\" >1</th> \n",
       "        <th class=\"col_heading level0 col1\" >2</th> \n",
       "        <th class=\"col_heading level0 col2\" >3</th> \n",
       "        <th class=\"col_heading level0 col3\" >All</th> \n",
       "    </tr>    <tr> \n",
       "        <th class=\"index_name level0\" >Sex</th> \n",
       "        <th class=\"index_name level1\" >Survived</th> \n",
       "        <th class=\"blank\" ></th> \n",
       "        <th class=\"blank\" ></th> \n",
       "        <th class=\"blank\" ></th> \n",
       "        <th class=\"blank\" ></th> \n",
       "    </tr></thead> \n",
       "<tbody>    <tr> \n",
       "        <th id=\"T_c9544f46_0238_11e9_a264_185e0f6ca47flevel0_row0\" class=\"row_heading level0 row0\" rowspan=2>female</th> \n",
       "        <th id=\"T_c9544f46_0238_11e9_a264_185e0f6ca47flevel1_row0\" class=\"row_heading level1 row0\" >0</th> \n",
       "        <td id=\"T_c9544f46_0238_11e9_a264_185e0f6ca47frow0_col0\" class=\"data row0 col0\" >3</td> \n",
       "        <td id=\"T_c9544f46_0238_11e9_a264_185e0f6ca47frow0_col1\" class=\"data row0 col1\" >6</td> \n",
       "        <td id=\"T_c9544f46_0238_11e9_a264_185e0f6ca47frow0_col2\" class=\"data row0 col2\" >72</td> \n",
       "        <td id=\"T_c9544f46_0238_11e9_a264_185e0f6ca47frow0_col3\" class=\"data row0 col3\" >81</td> \n",
       "    </tr>    <tr> \n",
       "        <th id=\"T_c9544f46_0238_11e9_a264_185e0f6ca47flevel1_row1\" class=\"row_heading level1 row1\" >1</th> \n",
       "        <td id=\"T_c9544f46_0238_11e9_a264_185e0f6ca47frow1_col0\" class=\"data row1 col0\" >91</td> \n",
       "        <td id=\"T_c9544f46_0238_11e9_a264_185e0f6ca47frow1_col1\" class=\"data row1 col1\" >70</td> \n",
       "        <td id=\"T_c9544f46_0238_11e9_a264_185e0f6ca47frow1_col2\" class=\"data row1 col2\" >72</td> \n",
       "        <td id=\"T_c9544f46_0238_11e9_a264_185e0f6ca47frow1_col3\" class=\"data row1 col3\" >233</td> \n",
       "    </tr>    <tr> \n",
       "        <th id=\"T_c9544f46_0238_11e9_a264_185e0f6ca47flevel0_row2\" class=\"row_heading level0 row2\" rowspan=2>male</th> \n",
       "        <th id=\"T_c9544f46_0238_11e9_a264_185e0f6ca47flevel1_row2\" class=\"row_heading level1 row2\" >0</th> \n",
       "        <td id=\"T_c9544f46_0238_11e9_a264_185e0f6ca47frow2_col0\" class=\"data row2 col0\" >77</td> \n",
       "        <td id=\"T_c9544f46_0238_11e9_a264_185e0f6ca47frow2_col1\" class=\"data row2 col1\" >91</td> \n",
       "        <td id=\"T_c9544f46_0238_11e9_a264_185e0f6ca47frow2_col2\" class=\"data row2 col2\" >300</td> \n",
       "        <td id=\"T_c9544f46_0238_11e9_a264_185e0f6ca47frow2_col3\" class=\"data row2 col3\" >468</td> \n",
       "    </tr>    <tr> \n",
       "        <th id=\"T_c9544f46_0238_11e9_a264_185e0f6ca47flevel1_row3\" class=\"row_heading level1 row3\" >1</th> \n",
       "        <td id=\"T_c9544f46_0238_11e9_a264_185e0f6ca47frow3_col0\" class=\"data row3 col0\" >45</td> \n",
       "        <td id=\"T_c9544f46_0238_11e9_a264_185e0f6ca47frow3_col1\" class=\"data row3 col1\" >17</td> \n",
       "        <td id=\"T_c9544f46_0238_11e9_a264_185e0f6ca47frow3_col2\" class=\"data row3 col2\" >47</td> \n",
       "        <td id=\"T_c9544f46_0238_11e9_a264_185e0f6ca47frow3_col3\" class=\"data row3 col3\" >109</td> \n",
       "    </tr>    <tr> \n",
       "        <th id=\"T_c9544f46_0238_11e9_a264_185e0f6ca47flevel0_row4\" class=\"row_heading level0 row4\" >All</th> \n",
       "        <th id=\"T_c9544f46_0238_11e9_a264_185e0f6ca47flevel1_row4\" class=\"row_heading level1 row4\" ></th> \n",
       "        <td id=\"T_c9544f46_0238_11e9_a264_185e0f6ca47frow4_col0\" class=\"data row4 col0\" >216</td> \n",
       "        <td id=\"T_c9544f46_0238_11e9_a264_185e0f6ca47frow4_col1\" class=\"data row4 col1\" >184</td> \n",
       "        <td id=\"T_c9544f46_0238_11e9_a264_185e0f6ca47frow4_col2\" class=\"data row4 col2\" >491</td> \n",
       "        <td id=\"T_c9544f46_0238_11e9_a264_185e0f6ca47frow4_col3\" class=\"data row4 col3\" >891</td> \n",
       "    </tr></tbody> \n",
       "</table> "
      ],
      "text/plain": [
       "<pandas.io.formats.style.Styler at 0x25f07753438>"
      ]
     },
     "execution_count": 16,
     "metadata": {},
     "output_type": "execute_result"
    }
   ],
   "source": [
    "pd.crosstab([df_train.Sex, df_train.Survived], df_train.Pclass, margins=True).style.background_gradient(cmap='autumn_r')"
   ]
  },
  {
   "cell_type": "code",
   "execution_count": 17,
   "metadata": {},
   "outputs": [
    {
     "data": {
      "text/plain": [
       "<seaborn.axisgrid.FacetGrid at 0x25f075314e0>"
      ]
     },
     "execution_count": 17,
     "metadata": {},
     "output_type": "execute_result"
    },
    {
     "data": {
      "image/png": "[encoded data removed]",
      "text/plain": [
       "<Figure size 432.85x360 with 1 Axes>"
      ]
     },
     "metadata": {},
     "output_type": "display_data"
    }
   ],
   "source": [
    "sns.catplot('Pclass','Survived',hue='Sex', kind='point', data = df_train)"
   ]
  },
  {
   "cell_type": "markdown",
   "metadata": {},
   "source": [
    "**Embarked:Survival rate lowest for S and highest for C**"
   ]
  },
  {
   "cell_type": "code",
   "execution_count": 18,
   "metadata": {},
   "outputs": [
    {
     "data": {
      "text/plain": [
       "<seaborn.axisgrid.FacetGrid at 0x25f07610160>"
      ]
     },
     "execution_count": 18,
     "metadata": {},
     "output_type": "execute_result"
    },
    {
     "data": {
      "image/png": "[encoded data removed]",
      "text/plain": [
       "<Figure size 1080x360 with 3 Axes>"
      ]
     },
     "metadata": {},
     "output_type": "display_data"
    }
   ],
   "source": [
    "sns.catplot(x='Survived', col ='Embarked', kind='count', data=df_train)"
   ]
  },
  {
   "cell_type": "code",
   "execution_count": 19,
   "metadata": {},
   "outputs": [
    {
     "data": {
      "text/plain": [
       "<seaborn.axisgrid.FacetGrid at 0x25f07f70470>"
      ]
     },
     "execution_count": 19,
     "metadata": {},
     "output_type": "execute_result"
    },
    {
     "data": {
      "image/png": "[encoded data removed]",
      "text/plain": [
       "<Figure size 360x360 with 1 Axes>"
      ]
     },
     "metadata": {},
     "output_type": "display_data"
    }
   ],
   "source": [
    "sns.catplot('Embarked','Survived',kind='point', data=df_train)"
   ]
  },
  {
   "cell_type": "markdown",
   "metadata": {},
   "source": [
    "**Embarked and Sex**"
   ]
  },
  {
   "cell_type": "code",
   "execution_count": 20,
   "metadata": {},
   "outputs": [
    {
     "data": {
      "text/plain": [
       "<seaborn.axisgrid.FacetGrid at 0x25f07f70550>"
      ]
     },
     "execution_count": 20,
     "metadata": {},
     "output_type": "execute_result"
    },
    {
     "data": {
      "image/png": "[encoded data removed]",
      "text/plain": [
       "<Figure size 432.85x360 with 1 Axes>"
      ]
     },
     "metadata": {},
     "output_type": "display_data"
    }
   ],
   "source": [
    "sns.catplot('Embarked','Survived', hue='Sex', kind='point', data=df_train)"
   ]
  },
  {
   "cell_type": "markdown",
   "metadata": {},
   "source": [
    "**Embarked, Pclass and Sex:**<br>"
   ]
  },
  {
   "cell_type": "markdown",
   "metadata": {},
   "source": [
    "**Practically all women of Pclass 2 that embarked in C and Q survived, also nearly all women of Pclass 1 survived.<br>\n",
    "All men of Pclass 1 and 2 embarked in Q died, survival rate for men in Pclass2 and 3 is always below 0.2<br>\n",
    "For the remaining men in Pclass 1 that embarked in S an Q, survival rate is approx 0.4**"
   ]
  },
  {
   "cell_type": "code",
   "execution_count": 21,
   "metadata": {},
   "outputs": [
    {
     "data": {
      "text/plain": [
       "<seaborn.axisgrid.FacetGrid at 0x25f7a9ca128>"
      ]
     },
     "execution_count": 21,
     "metadata": {},
     "output_type": "execute_result"
    },
    {
     "data": {
      "image/png": "[encoded data removed]",
      "text/plain": [
       "<Figure size 1152.85x360 with 3 Axes>"
      ]
     },
     "metadata": {},
     "output_type": "display_data"
    }
   ],
   "source": [
    "sns.catplot('Embarked','Survived', col='Pclass', hue='Sex', kind='point', data=df_train)"
   ]
  },
  {
   "cell_type": "code",
   "execution_count": 22,
   "metadata": {},
   "outputs": [
    {
     "data": {
      "text/html": [
       "<div>\n",
       "<style scoped>\n",
       "    .dataframe tbody tr th:only-of-type {\n",
       "        vertical-align: middle;\n",
       "    }\n",
       "\n",
       "    .dataframe tbody tr th {\n",
       "        vertical-align: top;\n",
       "    }\n",
       "\n",
       "    .dataframe thead tr th {\n",
       "        text-align: left;\n",
       "    }\n",
       "\n",
       "    .dataframe thead tr:last-of-type th {\n",
       "        text-align: right;\n",
       "    }\n",
       "</style>\n",
       "<table border=\"1\" class=\"dataframe\">\n",
       "  <thead>\n",
       "    <tr>\n",
       "      <th>Sex</th>\n",
       "      <th colspan=\"9\" halign=\"left\">female</th>\n",
       "      <th colspan=\"9\" halign=\"left\">male</th>\n",
       "      <th>All</th>\n",
       "    </tr>\n",
       "    <tr>\n",
       "      <th>Pclass</th>\n",
       "      <th colspan=\"3\" halign=\"left\">1</th>\n",
       "      <th colspan=\"3\" halign=\"left\">2</th>\n",
       "      <th colspan=\"3\" halign=\"left\">3</th>\n",
       "      <th colspan=\"3\" halign=\"left\">1</th>\n",
       "      <th colspan=\"3\" halign=\"left\">2</th>\n",
       "      <th colspan=\"3\" halign=\"left\">3</th>\n",
       "      <th></th>\n",
       "    </tr>\n",
       "    <tr>\n",
       "      <th>Embarked</th>\n",
       "      <th>C</th>\n",
       "      <th>Q</th>\n",
       "      <th>S</th>\n",
       "      <th>C</th>\n",
       "      <th>Q</th>\n",
       "      <th>S</th>\n",
       "      <th>C</th>\n",
       "      <th>Q</th>\n",
       "      <th>S</th>\n",
       "      <th>C</th>\n",
       "      <th>Q</th>\n",
       "      <th>S</th>\n",
       "      <th>C</th>\n",
       "      <th>Q</th>\n",
       "      <th>S</th>\n",
       "      <th>C</th>\n",
       "      <th>Q</th>\n",
       "      <th>S</th>\n",
       "      <th></th>\n",
       "    </tr>\n",
       "    <tr>\n",
       "      <th>Survived</th>\n",
       "      <th></th>\n",
       "      <th></th>\n",
       "      <th></th>\n",
       "      <th></th>\n",
       "      <th></th>\n",
       "      <th></th>\n",
       "      <th></th>\n",
       "      <th></th>\n",
       "      <th></th>\n",
       "      <th></th>\n",
       "      <th></th>\n",
       "      <th></th>\n",
       "      <th></th>\n",
       "      <th></th>\n",
       "      <th></th>\n",
       "      <th></th>\n",
       "      <th></th>\n",
       "      <th></th>\n",
       "      <th></th>\n",
       "    </tr>\n",
       "  </thead>\n",
       "  <tbody>\n",
       "    <tr>\n",
       "      <th>0</th>\n",
       "      <td>1</td>\n",
       "      <td>0</td>\n",
       "      <td>2</td>\n",
       "      <td>0</td>\n",
       "      <td>0</td>\n",
       "      <td>6</td>\n",
       "      <td>8</td>\n",
       "      <td>9</td>\n",
       "      <td>55</td>\n",
       "      <td>25</td>\n",
       "      <td>1</td>\n",
       "      <td>51</td>\n",
       "      <td>8</td>\n",
       "      <td>1</td>\n",
       "      <td>82</td>\n",
       "      <td>33</td>\n",
       "      <td>36</td>\n",
       "      <td>231</td>\n",
       "      <td>549</td>\n",
       "    </tr>\n",
       "    <tr>\n",
       "      <th>1</th>\n",
       "      <td>42</td>\n",
       "      <td>1</td>\n",
       "      <td>46</td>\n",
       "      <td>7</td>\n",
       "      <td>2</td>\n",
       "      <td>61</td>\n",
       "      <td>15</td>\n",
       "      <td>24</td>\n",
       "      <td>33</td>\n",
       "      <td>17</td>\n",
       "      <td>0</td>\n",
       "      <td>28</td>\n",
       "      <td>2</td>\n",
       "      <td>0</td>\n",
       "      <td>15</td>\n",
       "      <td>10</td>\n",
       "      <td>3</td>\n",
       "      <td>34</td>\n",
       "      <td>340</td>\n",
       "    </tr>\n",
       "    <tr>\n",
       "      <th>All</th>\n",
       "      <td>43</td>\n",
       "      <td>1</td>\n",
       "      <td>48</td>\n",
       "      <td>7</td>\n",
       "      <td>2</td>\n",
       "      <td>67</td>\n",
       "      <td>23</td>\n",
       "      <td>33</td>\n",
       "      <td>88</td>\n",
       "      <td>42</td>\n",
       "      <td>1</td>\n",
       "      <td>79</td>\n",
       "      <td>10</td>\n",
       "      <td>1</td>\n",
       "      <td>97</td>\n",
       "      <td>43</td>\n",
       "      <td>39</td>\n",
       "      <td>265</td>\n",
       "      <td>889</td>\n",
       "    </tr>\n",
       "  </tbody>\n",
       "</table>\n",
       "</div>"
      ],
      "text/plain": [
       "Sex      female                              male                            \\\n",
       "Pclass        1         2          3            1          2          3       \n",
       "Embarked      C  Q   S  C  Q   S   C   Q   S    C  Q   S   C  Q   S   C   Q   \n",
       "Survived                                                                      \n",
       "0             1  0   2  0  0   6   8   9  55   25  1  51   8  1  82  33  36   \n",
       "1            42  1  46  7  2  61  15  24  33   17  0  28   2  0  15  10   3   \n",
       "All          43  1  48  7  2  67  23  33  88   42  1  79  10  1  97  43  39   \n",
       "\n",
       "Sex            All  \n",
       "Pclass              \n",
       "Embarked    S       \n",
       "Survived            \n",
       "0         231  549  \n",
       "1          34  340  \n",
       "All       265  889  "
      ]
     },
     "execution_count": 22,
     "metadata": {},
     "output_type": "execute_result"
    }
   ],
   "source": [
    "pd.crosstab([df_train.Survived],[df_train.Sex, df_train.Pclass,df_train.Embarked], margins=True)"
   ]
  },
  {
   "cell_type": "markdown",
   "metadata": {},
   "source": [
    "**Third Model: based on PClass, Sex and Embarked, submission: 0.779accuracy**"
   ]
  },
  {
   "cell_type": "code",
   "execution_count": 23,
   "metadata": {},
   "outputs": [
    {
     "data": {
      "text/html": [
       "<div>\n",
       "<style scoped>\n",
       "    .dataframe tbody tr th:only-of-type {\n",
       "        vertical-align: middle;\n",
       "    }\n",
       "\n",
       "    .dataframe tbody tr th {\n",
       "        vertical-align: top;\n",
       "    }\n",
       "\n",
       "    .dataframe thead th {\n",
       "        text-align: right;\n",
       "    }\n",
       "</style>\n",
       "<table border=\"1\" class=\"dataframe\">\n",
       "  <thead>\n",
       "    <tr style=\"text-align: right;\">\n",
       "      <th></th>\n",
       "      <th>PassengerId</th>\n",
       "      <th>Pclass</th>\n",
       "      <th>Name</th>\n",
       "      <th>Sex</th>\n",
       "      <th>Age</th>\n",
       "      <th>SibSp</th>\n",
       "      <th>Parch</th>\n",
       "      <th>Ticket</th>\n",
       "      <th>Fare</th>\n",
       "      <th>Cabin</th>\n",
       "      <th>Embarked</th>\n",
       "    </tr>\n",
       "  </thead>\n",
       "  <tbody>\n",
       "    <tr>\n",
       "      <th>0</th>\n",
       "      <td>892</td>\n",
       "      <td>3</td>\n",
       "      <td>Kelly, Mr. James</td>\n",
       "      <td>male</td>\n",
       "      <td>34.5</td>\n",
       "      <td>0</td>\n",
       "      <td>0</td>\n",
       "      <td>330911</td>\n",
       "      <td>7.8292</td>\n",
       "      <td>NaN</td>\n",
       "      <td>Q</td>\n",
       "    </tr>\n",
       "    <tr>\n",
       "      <th>1</th>\n",
       "      <td>893</td>\n",
       "      <td>3</td>\n",
       "      <td>Wilkes, Mrs. James (Ellen Needs)</td>\n",
       "      <td>female</td>\n",
       "      <td>47.0</td>\n",
       "      <td>1</td>\n",
       "      <td>0</td>\n",
       "      <td>363272</td>\n",
       "      <td>7.0000</td>\n",
       "      <td>NaN</td>\n",
       "      <td>S</td>\n",
       "    </tr>\n",
       "  </tbody>\n",
       "</table>\n",
       "</div>"
      ],
      "text/plain": [
       "   PassengerId  Pclass                              Name     Sex   Age  SibSp  \\\n",
       "0          892       3                  Kelly, Mr. James    male  34.5      0   \n",
       "1          893       3  Wilkes, Mrs. James (Ellen Needs)  female  47.0      1   \n",
       "\n",
       "   Parch  Ticket    Fare Cabin Embarked  \n",
       "0      0  330911  7.8292   NaN        Q  \n",
       "1      0  363272  7.0000   NaN        S  "
      ]
     },
     "execution_count": 23,
     "metadata": {},
     "output_type": "execute_result"
    }
   ],
   "source": [
    "df_test.head(2)"
   ]
  },
  {
   "cell_type": "code",
   "execution_count": 24,
   "metadata": {},
   "outputs": [],
   "source": [
    "# #model 3\n",
    "\n",
    "# df_test['Survived'] = 0\n",
    "# # all women survived\n",
    "# df_test.loc[(df_test.Sex=='female'), 'Survived']=1\n",
    "# #except for those in Pclass 3 and embarked in S\n",
    "# df_test.loc[(df_test.Sex=='female')&(df_test.Pclass==3)&(df_test.Embarked=='S'),'Survived']=0\n"
   ]
  },
  {
   "cell_type": "markdown",
   "metadata": {},
   "source": [
    "**Age: continuous numerical to 8 bins**"
   ]
  },
  {
   "cell_type": "code",
   "execution_count": 25,
   "metadata": {},
   "outputs": [
    {
     "data": {
      "text/plain": [
       "891"
      ]
     },
     "execution_count": 25,
     "metadata": {},
     "output_type": "execute_result"
    }
   ],
   "source": [
    "len(df_train)"
   ]
  },
  {
   "cell_type": "code",
   "execution_count": 26,
   "metadata": {},
   "outputs": [
    {
     "data": {
      "text/plain": [
       "714"
      ]
     },
     "execution_count": 26,
     "metadata": {},
     "output_type": "execute_result"
    }
   ],
   "source": [
    "df_train['Age'].count()"
   ]
  },
  {
   "cell_type": "code",
   "execution_count": 27,
   "metadata": {},
   "outputs": [],
   "source": [
    "for df in [df_train, df_test]:\n",
    "    df['Age_bin'] = np.nan\n",
    "    for i in range(8,0,-1):\n",
    "        df.loc[df['Age']<=i*10, 'Age_bin']=i"
   ]
  },
  {
   "cell_type": "code",
   "execution_count": 28,
   "metadata": {},
   "outputs": [
    {
     "name": "stdout",
     "output_type": "stream",
     "text": [
      "    Age  Age_bin\n",
      "0  22.0      3.0\n",
      "1  38.0      4.0\n",
      "2  26.0      3.0\n",
      "3  35.0      4.0\n",
      "4  35.0      4.0\n",
      "5   NaN      NaN\n",
      "6  54.0      6.0\n",
      "7   2.0      1.0\n",
      "8  27.0      3.0\n",
      "9  14.0      2.0\n"
     ]
    }
   ],
   "source": [
    "print(df_train[['Age','Age_bin']].head(10))"
   ]
  },
  {
   "cell_type": "code",
   "execution_count": 29,
   "metadata": {},
   "outputs": [
    {
     "data": {
      "text/plain": [
       "<seaborn.axisgrid.FacetGrid at 0x25f08136f98>"
      ]
     },
     "execution_count": 29,
     "metadata": {},
     "output_type": "execute_result"
    },
    {
     "data": {
      "image/png": "[encoded data removed]",
      "text/plain": [
       "<Figure size 432.85x360 with 1 Axes>"
      ]
     },
     "metadata": {},
     "output_type": "display_data"
    }
   ],
   "source": [
    "sns.catplot('Age_bin','Survived',hue='Sex', kind='point', data=df_train)"
   ]
  },
  {
   "cell_type": "code",
   "execution_count": 30,
   "metadata": {},
   "outputs": [
    {
     "data": {
      "text/plain": [
       "<seaborn.axisgrid.FacetGrid at 0x25f0844a128>"
      ]
     },
     "execution_count": 30,
     "metadata": {},
     "output_type": "execute_result"
    },
    {
     "data": {
      "image/png": "[encoded data removed]",
      "text/plain": [
       "<Figure size 1080x720 with 6 Axes>"
      ]
     },
     "metadata": {},
     "output_type": "display_data"
    }
   ],
   "source": [
    "sns.catplot('Age_bin','Survived',col='Pclass', row='Sex', kind='point', data=df_train)"
   ]
  },
  {
   "cell_type": "code",
   "execution_count": 31,
   "metadata": {},
   "outputs": [
    {
     "data": {
      "text/html": [
       "<style  type=\"text/css\" >\n",
       "    #T_ccd2707a_0238_11e9_8d0f_185e0f6ca47frow0_col0 {\n",
       "            background-color:  #ffaa00;\n",
       "        }    #T_ccd2707a_0238_11e9_8d0f_185e0f6ca47frow0_col1 {\n",
       "            background-color:  #ffff00;\n",
       "        }    #T_ccd2707a_0238_11e9_8d0f_185e0f6ca47frow0_col2 {\n",
       "            background-color:  #ffea00;\n",
       "        }    #T_ccd2707a_0238_11e9_8d0f_185e0f6ca47frow0_col3 {\n",
       "            background-color:  #ffff00;\n",
       "        }    #T_ccd2707a_0238_11e9_8d0f_185e0f6ca47frow0_col4 {\n",
       "            background-color:  #ffff00;\n",
       "        }    #T_ccd2707a_0238_11e9_8d0f_185e0f6ca47frow0_col5 {\n",
       "            background-color:  #ffee00;\n",
       "        }    #T_ccd2707a_0238_11e9_8d0f_185e0f6ca47frow0_col6 {\n",
       "            background-color:  #ffff00;\n",
       "        }    #T_ccd2707a_0238_11e9_8d0f_185e0f6ca47frow0_col7 {\n",
       "            background-color:  #fff300;\n",
       "        }    #T_ccd2707a_0238_11e9_8d0f_185e0f6ca47frow0_col8 {\n",
       "            background-color:  #fffb00;\n",
       "        }    #T_ccd2707a_0238_11e9_8d0f_185e0f6ca47frow0_col9 {\n",
       "            background-color:  #ffff00;\n",
       "        }    #T_ccd2707a_0238_11e9_8d0f_185e0f6ca47frow0_col10 {\n",
       "            background-color:  #ffff00;\n",
       "        }    #T_ccd2707a_0238_11e9_8d0f_185e0f6ca47frow0_col11 {\n",
       "            background-color:  #fff700;\n",
       "        }    #T_ccd2707a_0238_11e9_8d0f_185e0f6ca47frow0_col12 {\n",
       "            background-color:  #ffff00;\n",
       "        }    #T_ccd2707a_0238_11e9_8d0f_185e0f6ca47frow0_col13 {\n",
       "            background-color:  #ffff00;\n",
       "        }    #T_ccd2707a_0238_11e9_8d0f_185e0f6ca47frow0_col14 {\n",
       "            background-color:  #ffbb00;\n",
       "        }    #T_ccd2707a_0238_11e9_8d0f_185e0f6ca47frow0_col15 {\n",
       "            background-color:  #ffff00;\n",
       "        }    #T_ccd2707a_0238_11e9_8d0f_185e0f6ca47frow0_col16 {\n",
       "            background-color:  #ffea00;\n",
       "        }    #T_ccd2707a_0238_11e9_8d0f_185e0f6ca47frow0_col17 {\n",
       "            background-color:  #ffff00;\n",
       "        }    #T_ccd2707a_0238_11e9_8d0f_185e0f6ca47frow0_col18 {\n",
       "            background-color:  #ffff00;\n",
       "        }    #T_ccd2707a_0238_11e9_8d0f_185e0f6ca47frow0_col19 {\n",
       "            background-color:  #ffff00;\n",
       "        }    #T_ccd2707a_0238_11e9_8d0f_185e0f6ca47frow0_col20 {\n",
       "            background-color:  #ffff00;\n",
       "        }    #T_ccd2707a_0238_11e9_8d0f_185e0f6ca47frow0_col21 {\n",
       "            background-color:  #ffff00;\n",
       "        }    #T_ccd2707a_0238_11e9_8d0f_185e0f6ca47frow0_col22 {\n",
       "            background-color:  #ffff00;\n",
       "        }    #T_ccd2707a_0238_11e9_8d0f_185e0f6ca47frow0_col23 {\n",
       "            background-color:  #ffff00;\n",
       "        }    #T_ccd2707a_0238_11e9_8d0f_185e0f6ca47frow1_col0 {\n",
       "            background-color:  #ffff00;\n",
       "        }    #T_ccd2707a_0238_11e9_8d0f_185e0f6ca47frow1_col1 {\n",
       "            background-color:  #ff8700;\n",
       "        }    #T_ccd2707a_0238_11e9_8d0f_185e0f6ca47frow1_col2 {\n",
       "            background-color:  #ffea00;\n",
       "        }    #T_ccd2707a_0238_11e9_8d0f_185e0f6ca47frow1_col3 {\n",
       "            background-color:  #ff4700;\n",
       "        }    #T_ccd2707a_0238_11e9_8d0f_185e0f6ca47frow1_col4 {\n",
       "            background-color:  #ff8e00;\n",
       "        }    #T_ccd2707a_0238_11e9_8d0f_185e0f6ca47frow1_col5 {\n",
       "            background-color:  #ffea00;\n",
       "        }    #T_ccd2707a_0238_11e9_8d0f_185e0f6ca47frow1_col6 {\n",
       "            background-color:  #ff8300;\n",
       "        }    #T_ccd2707a_0238_11e9_8d0f_185e0f6ca47frow1_col7 {\n",
       "            background-color:  #ff9700;\n",
       "        }    #T_ccd2707a_0238_11e9_8d0f_185e0f6ca47frow1_col8 {\n",
       "            background-color:  #fffb00;\n",
       "        }    #T_ccd2707a_0238_11e9_8d0f_185e0f6ca47frow1_col9 {\n",
       "            background-color:  #ff8200;\n",
       "        }    #T_ccd2707a_0238_11e9_8d0f_185e0f6ca47frow1_col10 {\n",
       "            background-color:  #ffa400;\n",
       "        }    #T_ccd2707a_0238_11e9_8d0f_185e0f6ca47frow1_col11 {\n",
       "            background-color:  #ffff00;\n",
       "        }    #T_ccd2707a_0238_11e9_8d0f_185e0f6ca47frow1_col12 {\n",
       "            background-color:  #ffb100;\n",
       "        }    #T_ccd2707a_0238_11e9_8d0f_185e0f6ca47frow1_col13 {\n",
       "            background-color:  #ff8e00;\n",
       "        }    #T_ccd2707a_0238_11e9_8d0f_185e0f6ca47frow1_col14 {\n",
       "            background-color:  #ffff00;\n",
       "        }    #T_ccd2707a_0238_11e9_8d0f_185e0f6ca47frow1_col15 {\n",
       "            background-color:  #ff8f00;\n",
       "        }    #T_ccd2707a_0238_11e9_8d0f_185e0f6ca47frow1_col16 {\n",
       "            background-color:  #ffd500;\n",
       "        }    #T_ccd2707a_0238_11e9_8d0f_185e0f6ca47frow1_col17 {\n",
       "            background-color:  #ffff00;\n",
       "        }    #T_ccd2707a_0238_11e9_8d0f_185e0f6ca47frow1_col18 {\n",
       "            background-color:  #ffd100;\n",
       "        }    #T_ccd2707a_0238_11e9_8d0f_185e0f6ca47frow1_col19 {\n",
       "            background-color:  #ffff00;\n",
       "        }    #T_ccd2707a_0238_11e9_8d0f_185e0f6ca47frow1_col20 {\n",
       "            background-color:  #ffaa00;\n",
       "        }    #T_ccd2707a_0238_11e9_8d0f_185e0f6ca47frow1_col21 {\n",
       "            background-color:  #ffff00;\n",
       "        }    #T_ccd2707a_0238_11e9_8d0f_185e0f6ca47frow1_col22 {\n",
       "            background-color:  #ffff00;\n",
       "        }    #T_ccd2707a_0238_11e9_8d0f_185e0f6ca47frow1_col23 {\n",
       "            background-color:  #ffcb00;\n",
       "        }    #T_ccd2707a_0238_11e9_8d0f_185e0f6ca47frow2_col0 {\n",
       "            background-color:  #ffff00;\n",
       "        }    #T_ccd2707a_0238_11e9_8d0f_185e0f6ca47frow2_col1 {\n",
       "            background-color:  #ffff00;\n",
       "        }    #T_ccd2707a_0238_11e9_8d0f_185e0f6ca47frow2_col2 {\n",
       "            background-color:  #ffd500;\n",
       "        }    #T_ccd2707a_0238_11e9_8d0f_185e0f6ca47frow2_col3 {\n",
       "            background-color:  #ffd500;\n",
       "        }    #T_ccd2707a_0238_11e9_8d0f_185e0f6ca47frow2_col4 {\n",
       "            background-color:  #ff7f00;\n",
       "        }    #T_ccd2707a_0238_11e9_8d0f_185e0f6ca47frow2_col5 {\n",
       "            background-color:  #ff7100;\n",
       "        }    #T_ccd2707a_0238_11e9_8d0f_185e0f6ca47frow2_col6 {\n",
       "            background-color:  #ffc400;\n",
       "        }    #T_ccd2707a_0238_11e9_8d0f_185e0f6ca47frow2_col7 {\n",
       "            background-color:  #ff7500;\n",
       "        }    #T_ccd2707a_0238_11e9_8d0f_185e0f6ca47frow2_col8 {\n",
       "            background-color:  #ff6600;\n",
       "        }    #T_ccd2707a_0238_11e9_8d0f_185e0f6ca47frow2_col9 {\n",
       "            background-color:  #ffc100;\n",
       "        }    #T_ccd2707a_0238_11e9_8d0f_185e0f6ca47frow2_col10 {\n",
       "            background-color:  #ff7900;\n",
       "        }    #T_ccd2707a_0238_11e9_8d0f_185e0f6ca47frow2_col11 {\n",
       "            background-color:  #ff5e00;\n",
       "        }    #T_ccd2707a_0238_11e9_8d0f_185e0f6ca47frow2_col12 {\n",
       "            background-color:  #ff9c00;\n",
       "        }    #T_ccd2707a_0238_11e9_8d0f_185e0f6ca47frow2_col13 {\n",
       "            background-color:  #ff9c00;\n",
       "        }    #T_ccd2707a_0238_11e9_8d0f_185e0f6ca47frow2_col14 {\n",
       "            background-color:  #ff5500;\n",
       "        }    #T_ccd2707a_0238_11e9_8d0f_185e0f6ca47frow2_col15 {\n",
       "            background-color:  #ff9900;\n",
       "        }    #T_ccd2707a_0238_11e9_8d0f_185e0f6ca47frow2_col16 {\n",
       "            background-color:  #ff3f00;\n",
       "        }    #T_ccd2707a_0238_11e9_8d0f_185e0f6ca47frow2_col17 {\n",
       "            background-color:  #ff0000;\n",
       "        }    #T_ccd2707a_0238_11e9_8d0f_185e0f6ca47frow2_col18 {\n",
       "            background-color:  #ff2e00;\n",
       "        }    #T_ccd2707a_0238_11e9_8d0f_185e0f6ca47frow2_col19 {\n",
       "            background-color:  #ff5500;\n",
       "        }    #T_ccd2707a_0238_11e9_8d0f_185e0f6ca47frow2_col20 {\n",
       "            background-color:  #ff5500;\n",
       "        }    #T_ccd2707a_0238_11e9_8d0f_185e0f6ca47frow2_col21 {\n",
       "            background-color:  #ff5500;\n",
       "        }    #T_ccd2707a_0238_11e9_8d0f_185e0f6ca47frow2_col22 {\n",
       "            background-color:  #ff0000;\n",
       "        }    #T_ccd2707a_0238_11e9_8d0f_185e0f6ca47frow2_col23 {\n",
       "            background-color:  #ff8b00;\n",
       "        }    #T_ccd2707a_0238_11e9_8d0f_185e0f6ca47frow3_col0 {\n",
       "            background-color:  #ff5500;\n",
       "        }    #T_ccd2707a_0238_11e9_8d0f_185e0f6ca47frow3_col1 {\n",
       "            background-color:  #ff7800;\n",
       "        }    #T_ccd2707a_0238_11e9_8d0f_185e0f6ca47frow3_col2 {\n",
       "            background-color:  #ffff00;\n",
       "        }    #T_ccd2707a_0238_11e9_8d0f_185e0f6ca47frow3_col3 {\n",
       "            background-color:  #ffe300;\n",
       "        }    #T_ccd2707a_0238_11e9_8d0f_185e0f6ca47frow3_col4 {\n",
       "            background-color:  #fff100;\n",
       "        }    #T_ccd2707a_0238_11e9_8d0f_185e0f6ca47frow3_col5 {\n",
       "            background-color:  #ffff00;\n",
       "        }    #T_ccd2707a_0238_11e9_8d0f_185e0f6ca47frow3_col6 {\n",
       "            background-color:  #ffcb00;\n",
       "        }    #T_ccd2707a_0238_11e9_8d0f_185e0f6ca47frow3_col7 {\n",
       "            background-color:  #ffff00;\n",
       "        }    #T_ccd2707a_0238_11e9_8d0f_185e0f6ca47frow3_col8 {\n",
       "            background-color:  #ffff00;\n",
       "        }    #T_ccd2707a_0238_11e9_8d0f_185e0f6ca47frow3_col9 {\n",
       "            background-color:  #ffbc00;\n",
       "        }    #T_ccd2707a_0238_11e9_8d0f_185e0f6ca47frow3_col10 {\n",
       "            background-color:  #fff300;\n",
       "        }    #T_ccd2707a_0238_11e9_8d0f_185e0f6ca47frow3_col11 {\n",
       "            background-color:  #fffb00;\n",
       "        }    #T_ccd2707a_0238_11e9_8d0f_185e0f6ca47frow3_col12 {\n",
       "            background-color:  #ffc700;\n",
       "        }    #T_ccd2707a_0238_11e9_8d0f_185e0f6ca47frow3_col13 {\n",
       "            background-color:  #ffff00;\n",
       "        }    #T_ccd2707a_0238_11e9_8d0f_185e0f6ca47frow3_col14 {\n",
       "            background-color:  #ffee00;\n",
       "        }    #T_ccd2707a_0238_11e9_8d0f_185e0f6ca47frow3_col15 {\n",
       "            background-color:  #ffd700;\n",
       "        }    #T_ccd2707a_0238_11e9_8d0f_185e0f6ca47frow3_col16 {\n",
       "            background-color:  #ffff00;\n",
       "        }    #T_ccd2707a_0238_11e9_8d0f_185e0f6ca47frow3_col17 {\n",
       "            background-color:  #ffff00;\n",
       "        }    #T_ccd2707a_0238_11e9_8d0f_185e0f6ca47frow3_col18 {\n",
       "            background-color:  #ffff00;\n",
       "        }    #T_ccd2707a_0238_11e9_8d0f_185e0f6ca47frow3_col19 {\n",
       "            background-color:  #ffaa00;\n",
       "        }    #T_ccd2707a_0238_11e9_8d0f_185e0f6ca47frow3_col20 {\n",
       "            background-color:  #ffff00;\n",
       "        }    #T_ccd2707a_0238_11e9_8d0f_185e0f6ca47frow3_col21 {\n",
       "            background-color:  #ffaa00;\n",
       "        }    #T_ccd2707a_0238_11e9_8d0f_185e0f6ca47frow3_col22 {\n",
       "            background-color:  #ffff00;\n",
       "        }    #T_ccd2707a_0238_11e9_8d0f_185e0f6ca47frow3_col23 {\n",
       "            background-color:  #fff400;\n",
       "        }    #T_ccd2707a_0238_11e9_8d0f_185e0f6ca47frow4_col0 {\n",
       "            background-color:  #ff0000;\n",
       "        }    #T_ccd2707a_0238_11e9_8d0f_185e0f6ca47frow4_col1 {\n",
       "            background-color:  #ff0000;\n",
       "        }    #T_ccd2707a_0238_11e9_8d0f_185e0f6ca47frow4_col2 {\n",
       "            background-color:  #ff0000;\n",
       "        }    #T_ccd2707a_0238_11e9_8d0f_185e0f6ca47frow4_col3 {\n",
       "            background-color:  #ff0000;\n",
       "        }    #T_ccd2707a_0238_11e9_8d0f_185e0f6ca47frow4_col4 {\n",
       "            background-color:  #ff0000;\n",
       "        }    #T_ccd2707a_0238_11e9_8d0f_185e0f6ca47frow4_col5 {\n",
       "            background-color:  #ff0000;\n",
       "        }    #T_ccd2707a_0238_11e9_8d0f_185e0f6ca47frow4_col6 {\n",
       "            background-color:  #ff0000;\n",
       "        }    #T_ccd2707a_0238_11e9_8d0f_185e0f6ca47frow4_col7 {\n",
       "            background-color:  #ff0000;\n",
       "        }    #T_ccd2707a_0238_11e9_8d0f_185e0f6ca47frow4_col8 {\n",
       "            background-color:  #ff0000;\n",
       "        }    #T_ccd2707a_0238_11e9_8d0f_185e0f6ca47frow4_col9 {\n",
       "            background-color:  #ff0000;\n",
       "        }    #T_ccd2707a_0238_11e9_8d0f_185e0f6ca47frow4_col10 {\n",
       "            background-color:  #ff0000;\n",
       "        }    #T_ccd2707a_0238_11e9_8d0f_185e0f6ca47frow4_col11 {\n",
       "            background-color:  #ff0000;\n",
       "        }    #T_ccd2707a_0238_11e9_8d0f_185e0f6ca47frow4_col12 {\n",
       "            background-color:  #ff0000;\n",
       "        }    #T_ccd2707a_0238_11e9_8d0f_185e0f6ca47frow4_col13 {\n",
       "            background-color:  #ff0000;\n",
       "        }    #T_ccd2707a_0238_11e9_8d0f_185e0f6ca47frow4_col14 {\n",
       "            background-color:  #ff0000;\n",
       "        }    #T_ccd2707a_0238_11e9_8d0f_185e0f6ca47frow4_col15 {\n",
       "            background-color:  #ff0000;\n",
       "        }    #T_ccd2707a_0238_11e9_8d0f_185e0f6ca47frow4_col16 {\n",
       "            background-color:  #ff0000;\n",
       "        }    #T_ccd2707a_0238_11e9_8d0f_185e0f6ca47frow4_col17 {\n",
       "            background-color:  #ff0000;\n",
       "        }    #T_ccd2707a_0238_11e9_8d0f_185e0f6ca47frow4_col18 {\n",
       "            background-color:  #ff0000;\n",
       "        }    #T_ccd2707a_0238_11e9_8d0f_185e0f6ca47frow4_col19 {\n",
       "            background-color:  #ff0000;\n",
       "        }    #T_ccd2707a_0238_11e9_8d0f_185e0f6ca47frow4_col20 {\n",
       "            background-color:  #ff0000;\n",
       "        }    #T_ccd2707a_0238_11e9_8d0f_185e0f6ca47frow4_col21 {\n",
       "            background-color:  #ff0000;\n",
       "        }    #T_ccd2707a_0238_11e9_8d0f_185e0f6ca47frow4_col22 {\n",
       "            background-color:  #ff0000;\n",
       "        }    #T_ccd2707a_0238_11e9_8d0f_185e0f6ca47frow4_col23 {\n",
       "            background-color:  #ff0000;\n",
       "        }</style>  \n",
       "<table id=\"T_ccd2707a_0238_11e9_8d0f_185e0f6ca47f\" > \n",
       "<thead>    <tr> \n",
       "        <th class=\"blank\" ></th> \n",
       "        <th class=\"index_name level0\" >Age_bin</th> \n",
       "        <th class=\"col_heading level0 col0\" colspan=3>1.0</th> \n",
       "        <th class=\"col_heading level0 col3\" colspan=3>2.0</th> \n",
       "        <th class=\"col_heading level0 col6\" colspan=3>3.0</th> \n",
       "        <th class=\"col_heading level0 col9\" colspan=3>4.0</th> \n",
       "        <th class=\"col_heading level0 col12\" colspan=3>5.0</th> \n",
       "        <th class=\"col_heading level0 col15\" colspan=3>6.0</th> \n",
       "        <th class=\"col_heading level0 col18\" colspan=3>7.0</th> \n",
       "        <th class=\"col_heading level0 col21\" colspan=2>8.0</th> \n",
       "        <th class=\"col_heading level0 col23\" >All</th> \n",
       "    </tr>    <tr> \n",
       "        <th class=\"blank\" ></th> \n",
       "        <th class=\"index_name level1\" >Pclass</th> \n",
       "        <th class=\"col_heading level1 col0\" >1</th> \n",
       "        <th class=\"col_heading level1 col1\" >2</th> \n",
       "        <th class=\"col_heading level1 col2\" >3</th> \n",
       "        <th class=\"col_heading level1 col3\" >1</th> \n",
       "        <th class=\"col_heading level1 col4\" >2</th> \n",
       "        <th class=\"col_heading level1 col5\" >3</th> \n",
       "        <th class=\"col_heading level1 col6\" >1</th> \n",
       "        <th class=\"col_heading level1 col7\" >2</th> \n",
       "        <th class=\"col_heading level1 col8\" >3</th> \n",
       "        <th class=\"col_heading level1 col9\" >1</th> \n",
       "        <th class=\"col_heading level1 col10\" >2</th> \n",
       "        <th class=\"col_heading level1 col11\" >3</th> \n",
       "        <th class=\"col_heading level1 col12\" >1</th> \n",
       "        <th class=\"col_heading level1 col13\" >2</th> \n",
       "        <th class=\"col_heading level1 col14\" >3</th> \n",
       "        <th class=\"col_heading level1 col15\" >1</th> \n",
       "        <th class=\"col_heading level1 col16\" >2</th> \n",
       "        <th class=\"col_heading level1 col17\" >3</th> \n",
       "        <th class=\"col_heading level1 col18\" >1</th> \n",
       "        <th class=\"col_heading level1 col19\" >2</th> \n",
       "        <th class=\"col_heading level1 col20\" >3</th> \n",
       "        <th class=\"col_heading level1 col21\" >1</th> \n",
       "        <th class=\"col_heading level1 col22\" >3</th> \n",
       "        <th class=\"col_heading level1 col23\" ></th> \n",
       "    </tr>    <tr> \n",
       "        <th class=\"index_name level0\" >Sex</th> \n",
       "        <th class=\"index_name level1\" >Survived</th> \n",
       "        <th class=\"blank\" ></th> \n",
       "        <th class=\"blank\" ></th> \n",
       "        <th class=\"blank\" ></th> \n",
       "        <th class=\"blank\" ></th> \n",
       "        <th class=\"blank\" ></th> \n",
       "        <th class=\"blank\" ></th> \n",
       "        <th class=\"blank\" ></th> \n",
       "        <th class=\"blank\" ></th> \n",
       "        <th class=\"blank\" ></th> \n",
       "        <th class=\"blank\" ></th> \n",
       "        <th class=\"blank\" ></th> \n",
       "        <th class=\"blank\" ></th> \n",
       "        <th class=\"blank\" ></th> \n",
       "        <th class=\"blank\" ></th> \n",
       "        <th class=\"blank\" ></th> \n",
       "        <th class=\"blank\" ></th> \n",
       "        <th class=\"blank\" ></th> \n",
       "        <th class=\"blank\" ></th> \n",
       "        <th class=\"blank\" ></th> \n",
       "        <th class=\"blank\" ></th> \n",
       "        <th class=\"blank\" ></th> \n",
       "        <th class=\"blank\" ></th> \n",
       "        <th class=\"blank\" ></th> \n",
       "        <th class=\"blank\" ></th> \n",
       "    </tr></thead> \n",
       "<tbody>    <tr> \n",
       "        <th id=\"T_ccd2707a_0238_11e9_8d0f_185e0f6ca47flevel0_row0\" class=\"row_heading level0 row0\" rowspan=2>female</th> \n",
       "        <th id=\"T_ccd2707a_0238_11e9_8d0f_185e0f6ca47flevel1_row0\" class=\"row_heading level1 row0\" >0</th> \n",
       "        <td id=\"T_ccd2707a_0238_11e9_8d0f_185e0f6ca47frow0_col0\" class=\"data row0 col0\" >1</td> \n",
       "        <td id=\"T_ccd2707a_0238_11e9_8d0f_185e0f6ca47frow0_col1\" class=\"data row0 col1\" >0</td> \n",
       "        <td id=\"T_ccd2707a_0238_11e9_8d0f_185e0f6ca47frow0_col2\" class=\"data row0 col2\" >11</td> \n",
       "        <td id=\"T_ccd2707a_0238_11e9_8d0f_185e0f6ca47frow0_col3\" class=\"data row0 col3\" >0</td> \n",
       "        <td id=\"T_ccd2707a_0238_11e9_8d0f_185e0f6ca47frow0_col4\" class=\"data row0 col4\" >0</td> \n",
       "        <td id=\"T_ccd2707a_0238_11e9_8d0f_185e0f6ca47frow0_col5\" class=\"data row0 col5\" >12</td> \n",
       "        <td id=\"T_ccd2707a_0238_11e9_8d0f_185e0f6ca47frow0_col6\" class=\"data row0 col6\" >1</td> \n",
       "        <td id=\"T_ccd2707a_0238_11e9_8d0f_185e0f6ca47frow0_col7\" class=\"data row0 col7\" >3</td> \n",
       "        <td id=\"T_ccd2707a_0238_11e9_8d0f_185e0f6ca47frow0_col8\" class=\"data row0 col8\" >16</td> \n",
       "        <td id=\"T_ccd2707a_0238_11e9_8d0f_185e0f6ca47frow0_col9\" class=\"data row0 col9\" >0</td> \n",
       "        <td id=\"T_ccd2707a_0238_11e9_8d0f_185e0f6ca47frow0_col10\" class=\"data row0 col10\" >1</td> \n",
       "        <td id=\"T_ccd2707a_0238_11e9_8d0f_185e0f6ca47frow0_col11\" class=\"data row0 col11\" >8</td> \n",
       "        <td id=\"T_ccd2707a_0238_11e9_8d0f_185e0f6ca47frow0_col12\" class=\"data row0 col12\" >1</td> \n",
       "        <td id=\"T_ccd2707a_0238_11e9_8d0f_185e0f6ca47frow0_col13\" class=\"data row0 col13\" >1</td> \n",
       "        <td id=\"T_ccd2707a_0238_11e9_8d0f_185e0f6ca47frow0_col14\" class=\"data row0 col14\" >8</td> \n",
       "        <td id=\"T_ccd2707a_0238_11e9_8d0f_185e0f6ca47frow0_col15\" class=\"data row0 col15\" >0</td> \n",
       "        <td id=\"T_ccd2707a_0238_11e9_8d0f_185e0f6ca47frow0_col16\" class=\"data row0 col16\" >1</td> \n",
       "        <td id=\"T_ccd2707a_0238_11e9_8d0f_185e0f6ca47frow0_col17\" class=\"data row0 col17\" >0</td> \n",
       "        <td id=\"T_ccd2707a_0238_11e9_8d0f_185e0f6ca47frow0_col18\" class=\"data row0 col18\" >0</td> \n",
       "        <td id=\"T_ccd2707a_0238_11e9_8d0f_185e0f6ca47frow0_col19\" class=\"data row0 col19\" >0</td> \n",
       "        <td id=\"T_ccd2707a_0238_11e9_8d0f_185e0f6ca47frow0_col20\" class=\"data row0 col20\" >0</td> \n",
       "        <td id=\"T_ccd2707a_0238_11e9_8d0f_185e0f6ca47frow0_col21\" class=\"data row0 col21\" >0</td> \n",
       "        <td id=\"T_ccd2707a_0238_11e9_8d0f_185e0f6ca47frow0_col22\" class=\"data row0 col22\" >0</td> \n",
       "        <td id=\"T_ccd2707a_0238_11e9_8d0f_185e0f6ca47frow0_col23\" class=\"data row0 col23\" >64</td> \n",
       "    </tr>    <tr> \n",
       "        <th id=\"T_ccd2707a_0238_11e9_8d0f_185e0f6ca47flevel1_row1\" class=\"row_heading level1 row1\" >1</th> \n",
       "        <td id=\"T_ccd2707a_0238_11e9_8d0f_185e0f6ca47frow1_col0\" class=\"data row1 col0\" >0</td> \n",
       "        <td id=\"T_ccd2707a_0238_11e9_8d0f_185e0f6ca47frow1_col1\" class=\"data row1 col1\" >8</td> \n",
       "        <td id=\"T_ccd2707a_0238_11e9_8d0f_185e0f6ca47frow1_col2\" class=\"data row1 col2\" >11</td> \n",
       "        <td id=\"T_ccd2707a_0238_11e9_8d0f_185e0f6ca47frow1_col3\" class=\"data row1 col3\" >13</td> \n",
       "        <td id=\"T_ccd2707a_0238_11e9_8d0f_185e0f6ca47frow1_col4\" class=\"data row1 col4\" >8</td> \n",
       "        <td id=\"T_ccd2707a_0238_11e9_8d0f_185e0f6ca47frow1_col5\" class=\"data row1 col5\" >13</td> \n",
       "        <td id=\"T_ccd2707a_0238_11e9_8d0f_185e0f6ca47frow1_col6\" class=\"data row1 col6\" >20</td> \n",
       "        <td id=\"T_ccd2707a_0238_11e9_8d0f_185e0f6ca47frow1_col7\" class=\"data row1 col7\" >25</td> \n",
       "        <td id=\"T_ccd2707a_0238_11e9_8d0f_185e0f6ca47frow1_col8\" class=\"data row1 col8\" >16</td> \n",
       "        <td id=\"T_ccd2707a_0238_11e9_8d0f_185e0f6ca47frow1_col9\" class=\"data row1 col9\" >24</td> \n",
       "        <td id=\"T_ccd2707a_0238_11e9_8d0f_185e0f6ca47frow1_col10\" class=\"data row1 col10\" >16</td> \n",
       "        <td id=\"T_ccd2707a_0238_11e9_8d0f_185e0f6ca47frow1_col11\" class=\"data row1 col11\" >6</td> \n",
       "        <td id=\"T_ccd2707a_0238_11e9_8d0f_185e0f6ca47frow1_col12\" class=\"data row1 col12\" >12</td> \n",
       "        <td id=\"T_ccd2707a_0238_11e9_8d0f_185e0f6ca47frow1_col13\" class=\"data row1 col13\" >9</td> \n",
       "        <td id=\"T_ccd2707a_0238_11e9_8d0f_185e0f6ca47frow1_col14\" class=\"data row1 col14\" >0</td> \n",
       "        <td id=\"T_ccd2707a_0238_11e9_8d0f_185e0f6ca47frow1_col15\" class=\"data row1 col15\" >11</td> \n",
       "        <td id=\"T_ccd2707a_0238_11e9_8d0f_185e0f6ca47frow1_col16\" class=\"data row1 col16\" >2</td> \n",
       "        <td id=\"T_ccd2707a_0238_11e9_8d0f_185e0f6ca47frow1_col17\" class=\"data row1 col17\" >0</td> \n",
       "        <td id=\"T_ccd2707a_0238_11e9_8d0f_185e0f6ca47frow1_col18\" class=\"data row1 col18\" >2</td> \n",
       "        <td id=\"T_ccd2707a_0238_11e9_8d0f_185e0f6ca47frow1_col19\" class=\"data row1 col19\" >0</td> \n",
       "        <td id=\"T_ccd2707a_0238_11e9_8d0f_185e0f6ca47frow1_col20\" class=\"data row1 col20\" >1</td> \n",
       "        <td id=\"T_ccd2707a_0238_11e9_8d0f_185e0f6ca47frow1_col21\" class=\"data row1 col21\" >0</td> \n",
       "        <td id=\"T_ccd2707a_0238_11e9_8d0f_185e0f6ca47frow1_col22\" class=\"data row1 col22\" >0</td> \n",
       "        <td id=\"T_ccd2707a_0238_11e9_8d0f_185e0f6ca47frow1_col23\" class=\"data row1 col23\" >197</td> \n",
       "    </tr>    <tr> \n",
       "        <th id=\"T_ccd2707a_0238_11e9_8d0f_185e0f6ca47flevel0_row2\" class=\"row_heading level0 row2\" rowspan=2>male</th> \n",
       "        <th id=\"T_ccd2707a_0238_11e9_8d0f_185e0f6ca47flevel1_row2\" class=\"row_heading level1 row2\" >0</th> \n",
       "        <td id=\"T_ccd2707a_0238_11e9_8d0f_185e0f6ca47frow2_col0\" class=\"data row2 col0\" >0</td> \n",
       "        <td id=\"T_ccd2707a_0238_11e9_8d0f_185e0f6ca47frow2_col1\" class=\"data row2 col1\" >0</td> \n",
       "        <td id=\"T_ccd2707a_0238_11e9_8d0f_185e0f6ca47frow2_col2\" class=\"data row2 col2\" >14</td> \n",
       "        <td id=\"T_ccd2707a_0238_11e9_8d0f_185e0f6ca47frow2_col3\" class=\"data row2 col3\" >3</td> \n",
       "        <td id=\"T_ccd2707a_0238_11e9_8d0f_185e0f6ca47frow2_col4\" class=\"data row2 col4\" >9</td> \n",
       "        <td id=\"T_ccd2707a_0238_11e9_8d0f_185e0f6ca47frow2_col5\" class=\"data row2 col5\" >47</td> \n",
       "        <td id=\"T_ccd2707a_0238_11e9_8d0f_185e0f6ca47frow2_col6\" class=\"data row2 col6\" >10</td> \n",
       "        <td id=\"T_ccd2707a_0238_11e9_8d0f_185e0f6ca47frow2_col7\" class=\"data row2 col7\" >33</td> \n",
       "        <td id=\"T_ccd2707a_0238_11e9_8d0f_185e0f6ca47frow2_col8\" class=\"data row2 col8\" >83</td> \n",
       "        <td id=\"T_ccd2707a_0238_11e9_8d0f_185e0f6ca47frow2_col9\" class=\"data row2 col9\" >12</td> \n",
       "        <td id=\"T_ccd2707a_0238_11e9_8d0f_185e0f6ca47frow2_col10\" class=\"data row2 col10\" >23</td> \n",
       "        <td id=\"T_ccd2707a_0238_11e9_8d0f_185e0f6ca47frow2_col11\" class=\"data row2 col11\" >42</td> \n",
       "        <td id=\"T_ccd2707a_0238_11e9_8d0f_185e0f6ca47frow2_col12\" class=\"data row2 col12\" >15</td> \n",
       "        <td id=\"T_ccd2707a_0238_11e9_8d0f_185e0f6ca47frow2_col13\" class=\"data row2 col13\" >8</td> \n",
       "        <td id=\"T_ccd2707a_0238_11e9_8d0f_185e0f6ca47frow2_col14\" class=\"data row2 col14\" >20</td> \n",
       "        <td id=\"T_ccd2707a_0238_11e9_8d0f_185e0f6ca47frow2_col15\" class=\"data row2 col15\" >10</td> \n",
       "        <td id=\"T_ccd2707a_0238_11e9_8d0f_185e0f6ca47frow2_col16\" class=\"data row2 col16\" >9</td> \n",
       "        <td id=\"T_ccd2707a_0238_11e9_8d0f_185e0f6ca47frow2_col17\" class=\"data row2 col17\" >5</td> \n",
       "        <td id=\"T_ccd2707a_0238_11e9_8d0f_185e0f6ca47frow2_col18\" class=\"data row2 col18\" >9</td> \n",
       "        <td id=\"T_ccd2707a_0238_11e9_8d0f_185e0f6ca47frow2_col19\" class=\"data row2 col19\" >2</td> \n",
       "        <td id=\"T_ccd2707a_0238_11e9_8d0f_185e0f6ca47frow2_col20\" class=\"data row2 col20\" >2</td> \n",
       "        <td id=\"T_ccd2707a_0238_11e9_8d0f_185e0f6ca47frow2_col21\" class=\"data row2 col21\" >2</td> \n",
       "        <td id=\"T_ccd2707a_0238_11e9_8d0f_185e0f6ca47frow2_col22\" class=\"data row2 col22\" >2</td> \n",
       "        <td id=\"T_ccd2707a_0238_11e9_8d0f_185e0f6ca47frow2_col23\" class=\"data row2 col23\" >360</td> \n",
       "    </tr>    <tr> \n",
       "        <th id=\"T_ccd2707a_0238_11e9_8d0f_185e0f6ca47flevel1_row3\" class=\"row_heading level1 row3\" >1</th> \n",
       "        <td id=\"T_ccd2707a_0238_11e9_8d0f_185e0f6ca47frow3_col0\" class=\"data row3 col0\" >2</td> \n",
       "        <td id=\"T_ccd2707a_0238_11e9_8d0f_185e0f6ca47frow3_col1\" class=\"data row3 col1\" >9</td> \n",
       "        <td id=\"T_ccd2707a_0238_11e9_8d0f_185e0f6ca47frow3_col2\" class=\"data row3 col2\" >8</td> \n",
       "        <td id=\"T_ccd2707a_0238_11e9_8d0f_185e0f6ca47frow3_col3\" class=\"data row3 col3\" >2</td> \n",
       "        <td id=\"T_ccd2707a_0238_11e9_8d0f_185e0f6ca47frow3_col4\" class=\"data row3 col4\" >1</td> \n",
       "        <td id=\"T_ccd2707a_0238_11e9_8d0f_185e0f6ca47frow3_col5\" class=\"data row3 col5\" >7</td> \n",
       "        <td id=\"T_ccd2707a_0238_11e9_8d0f_185e0f6ca47frow3_col6\" class=\"data row3 col6\" >9</td> \n",
       "        <td id=\"T_ccd2707a_0238_11e9_8d0f_185e0f6ca47frow3_col7\" class=\"data row3 col7\" >0</td> \n",
       "        <td id=\"T_ccd2707a_0238_11e9_8d0f_185e0f6ca47frow3_col8\" class=\"data row3 col8\" >14</td> \n",
       "        <td id=\"T_ccd2707a_0238_11e9_8d0f_185e0f6ca47frow3_col9\" class=\"data row3 col9\" >13</td> \n",
       "        <td id=\"T_ccd2707a_0238_11e9_8d0f_185e0f6ca47frow3_col10\" class=\"data row3 col10\" >3</td> \n",
       "        <td id=\"T_ccd2707a_0238_11e9_8d0f_185e0f6ca47frow3_col11\" class=\"data row3 col11\" >7</td> \n",
       "        <td id=\"T_ccd2707a_0238_11e9_8d0f_185e0f6ca47frow3_col12\" class=\"data row3 col12\" >9</td> \n",
       "        <td id=\"T_ccd2707a_0238_11e9_8d0f_185e0f6ca47frow3_col13\" class=\"data row3 col13\" >1</td> \n",
       "        <td id=\"T_ccd2707a_0238_11e9_8d0f_185e0f6ca47frow3_col14\" class=\"data row3 col14\" >2</td> \n",
       "        <td id=\"T_ccd2707a_0238_11e9_8d0f_185e0f6ca47frow3_col15\" class=\"data row3 col15\" >4</td> \n",
       "        <td id=\"T_ccd2707a_0238_11e9_8d0f_185e0f6ca47frow3_col16\" class=\"data row3 col16\" >0</td> \n",
       "        <td id=\"T_ccd2707a_0238_11e9_8d0f_185e0f6ca47frow3_col17\" class=\"data row3 col17\" >0</td> \n",
       "        <td id=\"T_ccd2707a_0238_11e9_8d0f_185e0f6ca47frow3_col18\" class=\"data row3 col18\" >0</td> \n",
       "        <td id=\"T_ccd2707a_0238_11e9_8d0f_185e0f6ca47frow3_col19\" class=\"data row3 col19\" >1</td> \n",
       "        <td id=\"T_ccd2707a_0238_11e9_8d0f_185e0f6ca47frow3_col20\" class=\"data row3 col20\" >0</td> \n",
       "        <td id=\"T_ccd2707a_0238_11e9_8d0f_185e0f6ca47frow3_col21\" class=\"data row3 col21\" >1</td> \n",
       "        <td id=\"T_ccd2707a_0238_11e9_8d0f_185e0f6ca47frow3_col22\" class=\"data row3 col22\" >0</td> \n",
       "        <td id=\"T_ccd2707a_0238_11e9_8d0f_185e0f6ca47frow3_col23\" class=\"data row3 col23\" >93</td> \n",
       "    </tr>    <tr> \n",
       "        <th id=\"T_ccd2707a_0238_11e9_8d0f_185e0f6ca47flevel0_row4\" class=\"row_heading level0 row4\" >All</th> \n",
       "        <th id=\"T_ccd2707a_0238_11e9_8d0f_185e0f6ca47flevel1_row4\" class=\"row_heading level1 row4\" ></th> \n",
       "        <td id=\"T_ccd2707a_0238_11e9_8d0f_185e0f6ca47frow4_col0\" class=\"data row4 col0\" >3</td> \n",
       "        <td id=\"T_ccd2707a_0238_11e9_8d0f_185e0f6ca47frow4_col1\" class=\"data row4 col1\" >17</td> \n",
       "        <td id=\"T_ccd2707a_0238_11e9_8d0f_185e0f6ca47frow4_col2\" class=\"data row4 col2\" >44</td> \n",
       "        <td id=\"T_ccd2707a_0238_11e9_8d0f_185e0f6ca47frow4_col3\" class=\"data row4 col3\" >18</td> \n",
       "        <td id=\"T_ccd2707a_0238_11e9_8d0f_185e0f6ca47frow4_col4\" class=\"data row4 col4\" >18</td> \n",
       "        <td id=\"T_ccd2707a_0238_11e9_8d0f_185e0f6ca47frow4_col5\" class=\"data row4 col5\" >79</td> \n",
       "        <td id=\"T_ccd2707a_0238_11e9_8d0f_185e0f6ca47frow4_col6\" class=\"data row4 col6\" >40</td> \n",
       "        <td id=\"T_ccd2707a_0238_11e9_8d0f_185e0f6ca47frow4_col7\" class=\"data row4 col7\" >61</td> \n",
       "        <td id=\"T_ccd2707a_0238_11e9_8d0f_185e0f6ca47frow4_col8\" class=\"data row4 col8\" >129</td> \n",
       "        <td id=\"T_ccd2707a_0238_11e9_8d0f_185e0f6ca47frow4_col9\" class=\"data row4 col9\" >49</td> \n",
       "        <td id=\"T_ccd2707a_0238_11e9_8d0f_185e0f6ca47frow4_col10\" class=\"data row4 col10\" >43</td> \n",
       "        <td id=\"T_ccd2707a_0238_11e9_8d0f_185e0f6ca47frow4_col11\" class=\"data row4 col11\" >63</td> \n",
       "        <td id=\"T_ccd2707a_0238_11e9_8d0f_185e0f6ca47frow4_col12\" class=\"data row4 col12\" >37</td> \n",
       "        <td id=\"T_ccd2707a_0238_11e9_8d0f_185e0f6ca47frow4_col13\" class=\"data row4 col13\" >19</td> \n",
       "        <td id=\"T_ccd2707a_0238_11e9_8d0f_185e0f6ca47frow4_col14\" class=\"data row4 col14\" >30</td> \n",
       "        <td id=\"T_ccd2707a_0238_11e9_8d0f_185e0f6ca47frow4_col15\" class=\"data row4 col15\" >25</td> \n",
       "        <td id=\"T_ccd2707a_0238_11e9_8d0f_185e0f6ca47frow4_col16\" class=\"data row4 col16\" >12</td> \n",
       "        <td id=\"T_ccd2707a_0238_11e9_8d0f_185e0f6ca47frow4_col17\" class=\"data row4 col17\" >5</td> \n",
       "        <td id=\"T_ccd2707a_0238_11e9_8d0f_185e0f6ca47frow4_col18\" class=\"data row4 col18\" >11</td> \n",
       "        <td id=\"T_ccd2707a_0238_11e9_8d0f_185e0f6ca47frow4_col19\" class=\"data row4 col19\" >3</td> \n",
       "        <td id=\"T_ccd2707a_0238_11e9_8d0f_185e0f6ca47frow4_col20\" class=\"data row4 col20\" >3</td> \n",
       "        <td id=\"T_ccd2707a_0238_11e9_8d0f_185e0f6ca47frow4_col21\" class=\"data row4 col21\" >3</td> \n",
       "        <td id=\"T_ccd2707a_0238_11e9_8d0f_185e0f6ca47frow4_col22\" class=\"data row4 col22\" >2</td> \n",
       "        <td id=\"T_ccd2707a_0238_11e9_8d0f_185e0f6ca47frow4_col23\" class=\"data row4 col23\" >714</td> \n",
       "    </tr></tbody> \n",
       "</table> "
      ],
      "text/plain": [
       "<pandas.io.formats.style.Styler at 0x25f083eb630>"
      ]
     },
     "execution_count": 31,
     "metadata": {},
     "output_type": "execute_result"
    }
   ],
   "source": [
    "pd.crosstab([df_train.Sex, df_train.Survived], [df_train.Age_bin, df_train.Pclass], margins=True).style.background_gradient(cmap='autumn_r')"
   ]
  },
  {
   "cell_type": "markdown",
   "metadata": {},
   "source": [
    "For passengers in Age_Bin =1 (younger than 10): all male in Pclass 1 and 2 survived<br>\n",
    "All female in Pclass 3 and Age_bin = 5 died.<br>\n",
    "(Survival rate for female in Pclass 3 and Age_bin = 4 is below 50%)<br>\n",
    "(Survival rate for male in Pclass 1 and Age_bin = 4 is above 50%)"
   ]
  },
  {
   "cell_type": "code",
   "execution_count": 32,
   "metadata": {},
   "outputs": [],
   "source": [
    "# # in Pclass 1 and 2 all men in Age_bin = 1 survived\n",
    "# df_test.loc[ (df_test.Sex == 'male') & (df_test.Pclass == 1) & (df_test.Age_bin == 1), 'Survived'] = 1\n",
    "# df_test.loc[ (df_test.Sex == 'male') & (df_test.Pclass == 2) & (df_test.Age_bin == 1), 'Survived'] = 1"
   ]
  },
  {
   "cell_type": "markdown",
   "metadata": {},
   "source": [
    "**SibSp and Parch**"
   ]
  },
  {
   "cell_type": "code",
   "execution_count": 33,
   "metadata": {},
   "outputs": [
    {
     "data": {
      "text/plain": [
       "<seaborn.axisgrid.FacetGrid at 0x25f0811e940>"
      ]
     },
     "execution_count": 33,
     "metadata": {},
     "output_type": "execute_result"
    },
    {
     "data": {
      "image/png": "[encoded data removed]",
      "text/plain": [
       "<Figure size 1080x720 with 6 Axes>"
      ]
     },
     "metadata": {},
     "output_type": "display_data"
    }
   ],
   "source": [
    "sns.catplot('SibSp', 'Survived', col='Pclass', row='Sex', kind='point', data=df_train)"
   ]
  },
  {
   "cell_type": "code",
   "execution_count": 34,
   "metadata": {},
   "outputs": [
    {
     "data": {
      "text/html": [
       "<style  type=\"text/css\" >\n",
       "    #T_cde3d0f0_0238_11e9_ac3b_185e0f6ca47frow0_col0 {\n",
       "            background-color:  #ffff00;\n",
       "        }    #T_cde3d0f0_0238_11e9_ac3b_185e0f6ca47frow0_col1 {\n",
       "            background-color:  #ffff00;\n",
       "        }    #T_cde3d0f0_0238_11e9_ac3b_185e0f6ca47frow0_col2 {\n",
       "            background-color:  #ffff00;\n",
       "        }    #T_cde3d0f0_0238_11e9_ac3b_185e0f6ca47frow0_col3 {\n",
       "            background-color:  #ffff00;\n",
       "        }    #T_cde3d0f0_0238_11e9_ac3b_185e0f6ca47frow0_col4 {\n",
       "            background-color:  #ffff00;\n",
       "        }    #T_cde3d0f0_0238_11e9_ac3b_185e0f6ca47frow0_col5 {\n",
       "            background-color:  #ffd900;\n",
       "        }    #T_cde3d0f0_0238_11e9_ac3b_185e0f6ca47frow0_col6 {\n",
       "            background-color:  #ffff00;\n",
       "        }    #T_cde3d0f0_0238_11e9_ac3b_185e0f6ca47frow0_col7 {\n",
       "            background-color:  #ffff00;\n",
       "        }    #T_cde3d0f0_0238_11e9_ac3b_185e0f6ca47frow0_col8 {\n",
       "            background-color:  #ffdb00;\n",
       "        }    #T_cde3d0f0_0238_11e9_ac3b_185e0f6ca47frow0_col9 {\n",
       "            background-color:  #ffff00;\n",
       "        }    #T_cde3d0f0_0238_11e9_ac3b_185e0f6ca47frow0_col10 {\n",
       "            background-color:  #ffff00;\n",
       "        }    #T_cde3d0f0_0238_11e9_ac3b_185e0f6ca47frow0_col11 {\n",
       "            background-color:  #ff6a00;\n",
       "        }    #T_cde3d0f0_0238_11e9_ac3b_185e0f6ca47frow0_col12 {\n",
       "            background-color:  #ffd200;\n",
       "        }    #T_cde3d0f0_0238_11e9_ac3b_185e0f6ca47frow0_col13 {\n",
       "            background-color:  #ffcc00;\n",
       "        }    #T_cde3d0f0_0238_11e9_ac3b_185e0f6ca47frow0_col14 {\n",
       "            background-color:  #ff9200;\n",
       "        }    #T_cde3d0f0_0238_11e9_ac3b_185e0f6ca47frow0_col15 {\n",
       "            background-color:  #ffff00;\n",
       "        }    #T_cde3d0f0_0238_11e9_ac3b_185e0f6ca47frow1_col0 {\n",
       "            background-color:  #ffa700;\n",
       "        }    #T_cde3d0f0_0238_11e9_ac3b_185e0f6ca47frow1_col1 {\n",
       "            background-color:  #ffac00;\n",
       "        }    #T_cde3d0f0_0238_11e9_ac3b_185e0f6ca47frow1_col2 {\n",
       "            background-color:  #fff300;\n",
       "        }    #T_cde3d0f0_0238_11e9_ac3b_185e0f6ca47frow1_col3 {\n",
       "            background-color:  #ff7a00;\n",
       "        }    #T_cde3d0f0_0238_11e9_ac3b_185e0f6ca47frow1_col4 {\n",
       "            background-color:  #ff9300;\n",
       "        }    #T_cde3d0f0_0238_11e9_ac3b_185e0f6ca47frow1_col5 {\n",
       "            background-color:  #ffe700;\n",
       "        }    #T_cde3d0f0_0238_11e9_ac3b_185e0f6ca47frow1_col6 {\n",
       "            background-color:  #ff6600;\n",
       "        }    #T_cde3d0f0_0238_11e9_ac3b_185e0f6ca47frow1_col7 {\n",
       "            background-color:  #ff9f00;\n",
       "        }    #T_cde3d0f0_0238_11e9_ac3b_185e0f6ca47frow1_col8 {\n",
       "            background-color:  #ffc900;\n",
       "        }    #T_cde3d0f0_0238_11e9_ac3b_185e0f6ca47frow1_col9 {\n",
       "            background-color:  #ff5500;\n",
       "        }    #T_cde3d0f0_0238_11e9_ac3b_185e0f6ca47frow1_col10 {\n",
       "            background-color:  #ff0000;\n",
       "        }    #T_cde3d0f0_0238_11e9_ac3b_185e0f6ca47frow1_col11 {\n",
       "            background-color:  #ffea00;\n",
       "        }    #T_cde3d0f0_0238_11e9_ac3b_185e0f6ca47frow1_col12 {\n",
       "            background-color:  #fff000;\n",
       "        }    #T_cde3d0f0_0238_11e9_ac3b_185e0f6ca47frow1_col13 {\n",
       "            background-color:  #ffff00;\n",
       "        }    #T_cde3d0f0_0238_11e9_ac3b_185e0f6ca47frow1_col14 {\n",
       "            background-color:  #ffff00;\n",
       "        }    #T_cde3d0f0_0238_11e9_ac3b_185e0f6ca47frow1_col15 {\n",
       "            background-color:  #ffcf00;\n",
       "        }    #T_cde3d0f0_0238_11e9_ac3b_185e0f6ca47frow2_col0 {\n",
       "            background-color:  #ff9200;\n",
       "        }    #T_cde3d0f0_0238_11e9_ac3b_185e0f6ca47frow2_col1 {\n",
       "            background-color:  #ff7300;\n",
       "        }    #T_cde3d0f0_0238_11e9_ac3b_185e0f6ca47frow2_col2 {\n",
       "            background-color:  #ff5d00;\n",
       "        }    #T_cde3d0f0_0238_11e9_ac3b_185e0f6ca47frow2_col3 {\n",
       "            background-color:  #ffcc00;\n",
       "        }    #T_cde3d0f0_0238_11e9_ac3b_185e0f6ca47frow2_col4 {\n",
       "            background-color:  #ffac00;\n",
       "        }    #T_cde3d0f0_0238_11e9_ac3b_185e0f6ca47frow2_col5 {\n",
       "            background-color:  #ffa800;\n",
       "        }    #T_cde3d0f0_0238_11e9_ac3b_185e0f6ca47frow2_col6 {\n",
       "            background-color:  #ffcc00;\n",
       "        }    #T_cde3d0f0_0238_11e9_ac3b_185e0f6ca47frow2_col7 {\n",
       "            background-color:  #ff7f00;\n",
       "        }    #T_cde3d0f0_0238_11e9_ac3b_185e0f6ca47frow2_col8 {\n",
       "            background-color:  #ff9200;\n",
       "        }    #T_cde3d0f0_0238_11e9_ac3b_185e0f6ca47frow2_col9 {\n",
       "            background-color:  #ffaa00;\n",
       "        }    #T_cde3d0f0_0238_11e9_ac3b_185e0f6ca47frow2_col10 {\n",
       "            background-color:  #ffff00;\n",
       "        }    #T_cde3d0f0_0238_11e9_ac3b_185e0f6ca47frow2_col11 {\n",
       "            background-color:  #ffaa00;\n",
       "        }    #T_cde3d0f0_0238_11e9_ac3b_185e0f6ca47frow2_col12 {\n",
       "            background-color:  #ff6900;\n",
       "        }    #T_cde3d0f0_0238_11e9_ac3b_185e0f6ca47frow2_col13 {\n",
       "            background-color:  #ff3300;\n",
       "        }    #T_cde3d0f0_0238_11e9_ac3b_185e0f6ca47frow2_col14 {\n",
       "            background-color:  #ff6d00;\n",
       "        }    #T_cde3d0f0_0238_11e9_ac3b_185e0f6ca47frow2_col15 {\n",
       "            background-color:  #ff8500;\n",
       "        }    #T_cde3d0f0_0238_11e9_ac3b_185e0f6ca47frow3_col0 {\n",
       "            background-color:  #ffcb00;\n",
       "        }    #T_cde3d0f0_0238_11e9_ac3b_185e0f6ca47frow3_col1 {\n",
       "            background-color:  #fff200;\n",
       "        }    #T_cde3d0f0_0238_11e9_ac3b_185e0f6ca47frow3_col2 {\n",
       "            background-color:  #fffe00;\n",
       "        }    #T_cde3d0f0_0238_11e9_ac3b_185e0f6ca47frow3_col3 {\n",
       "            background-color:  #ffcf00;\n",
       "        }    #T_cde3d0f0_0238_11e9_ac3b_185e0f6ca47frow3_col4 {\n",
       "            background-color:  #ffec00;\n",
       "        }    #T_cde3d0f0_0238_11e9_ac3b_185e0f6ca47frow3_col5 {\n",
       "            background-color:  #ffff00;\n",
       "        }    #T_cde3d0f0_0238_11e9_ac3b_185e0f6ca47frow3_col6 {\n",
       "            background-color:  #ffcc00;\n",
       "        }    #T_cde3d0f0_0238_11e9_ac3b_185e0f6ca47frow3_col7 {\n",
       "            background-color:  #ffdf00;\n",
       "        }    #T_cde3d0f0_0238_11e9_ac3b_185e0f6ca47frow3_col8 {\n",
       "            background-color:  #ffff00;\n",
       "        }    #T_cde3d0f0_0238_11e9_ac3b_185e0f6ca47frow3_col9 {\n",
       "            background-color:  #ffff00;\n",
       "        }    #T_cde3d0f0_0238_11e9_ac3b_185e0f6ca47frow3_col10 {\n",
       "            background-color:  #ffff00;\n",
       "        }    #T_cde3d0f0_0238_11e9_ac3b_185e0f6ca47frow3_col11 {\n",
       "            background-color:  #ffff00;\n",
       "        }    #T_cde3d0f0_0238_11e9_ac3b_185e0f6ca47frow3_col12 {\n",
       "            background-color:  #ffff00;\n",
       "        }    #T_cde3d0f0_0238_11e9_ac3b_185e0f6ca47frow3_col13 {\n",
       "            background-color:  #ffff00;\n",
       "        }    #T_cde3d0f0_0238_11e9_ac3b_185e0f6ca47frow3_col14 {\n",
       "            background-color:  #ffff00;\n",
       "        }    #T_cde3d0f0_0238_11e9_ac3b_185e0f6ca47frow3_col15 {\n",
       "            background-color:  #fff700;\n",
       "        }    #T_cde3d0f0_0238_11e9_ac3b_185e0f6ca47frow4_col0 {\n",
       "            background-color:  #ff0000;\n",
       "        }    #T_cde3d0f0_0238_11e9_ac3b_185e0f6ca47frow4_col1 {\n",
       "            background-color:  #ff0000;\n",
       "        }    #T_cde3d0f0_0238_11e9_ac3b_185e0f6ca47frow4_col2 {\n",
       "            background-color:  #ff0000;\n",
       "        }    #T_cde3d0f0_0238_11e9_ac3b_185e0f6ca47frow4_col3 {\n",
       "            background-color:  #ff0000;\n",
       "        }    #T_cde3d0f0_0238_11e9_ac3b_185e0f6ca47frow4_col4 {\n",
       "            background-color:  #ff0000;\n",
       "        }    #T_cde3d0f0_0238_11e9_ac3b_185e0f6ca47frow4_col5 {\n",
       "            background-color:  #ff0000;\n",
       "        }    #T_cde3d0f0_0238_11e9_ac3b_185e0f6ca47frow4_col6 {\n",
       "            background-color:  #ff0000;\n",
       "        }    #T_cde3d0f0_0238_11e9_ac3b_185e0f6ca47frow4_col7 {\n",
       "            background-color:  #ff0000;\n",
       "        }    #T_cde3d0f0_0238_11e9_ac3b_185e0f6ca47frow4_col8 {\n",
       "            background-color:  #ff0000;\n",
       "        }    #T_cde3d0f0_0238_11e9_ac3b_185e0f6ca47frow4_col9 {\n",
       "            background-color:  #ff0000;\n",
       "        }    #T_cde3d0f0_0238_11e9_ac3b_185e0f6ca47frow4_col10 {\n",
       "            background-color:  #ff0000;\n",
       "        }    #T_cde3d0f0_0238_11e9_ac3b_185e0f6ca47frow4_col11 {\n",
       "            background-color:  #ff0000;\n",
       "        }    #T_cde3d0f0_0238_11e9_ac3b_185e0f6ca47frow4_col12 {\n",
       "            background-color:  #ff0000;\n",
       "        }    #T_cde3d0f0_0238_11e9_ac3b_185e0f6ca47frow4_col13 {\n",
       "            background-color:  #ff0000;\n",
       "        }    #T_cde3d0f0_0238_11e9_ac3b_185e0f6ca47frow4_col14 {\n",
       "            background-color:  #ff0000;\n",
       "        }    #T_cde3d0f0_0238_11e9_ac3b_185e0f6ca47frow4_col15 {\n",
       "            background-color:  #ff0000;\n",
       "        }</style>  \n",
       "<table id=\"T_cde3d0f0_0238_11e9_ac3b_185e0f6ca47f\" > \n",
       "<thead>    <tr> \n",
       "        <th class=\"blank\" ></th> \n",
       "        <th class=\"index_name level0\" >SibSp</th> \n",
       "        <th class=\"col_heading level0 col0\" colspan=3>0</th> \n",
       "        <th class=\"col_heading level0 col3\" colspan=3>1</th> \n",
       "        <th class=\"col_heading level0 col6\" colspan=3>2</th> \n",
       "        <th class=\"col_heading level0 col9\" colspan=3>3</th> \n",
       "        <th class=\"col_heading level0 col12\" >4</th> \n",
       "        <th class=\"col_heading level0 col13\" >5</th> \n",
       "        <th class=\"col_heading level0 col14\" >8</th> \n",
       "        <th class=\"col_heading level0 col15\" >All</th> \n",
       "    </tr>    <tr> \n",
       "        <th class=\"blank\" ></th> \n",
       "        <th class=\"index_name level1\" >Pclass</th> \n",
       "        <th class=\"col_heading level1 col0\" >1</th> \n",
       "        <th class=\"col_heading level1 col1\" >2</th> \n",
       "        <th class=\"col_heading level1 col2\" >3</th> \n",
       "        <th class=\"col_heading level1 col3\" >1</th> \n",
       "        <th class=\"col_heading level1 col4\" >2</th> \n",
       "        <th class=\"col_heading level1 col5\" >3</th> \n",
       "        <th class=\"col_heading level1 col6\" >1</th> \n",
       "        <th class=\"col_heading level1 col7\" >2</th> \n",
       "        <th class=\"col_heading level1 col8\" >3</th> \n",
       "        <th class=\"col_heading level1 col9\" >1</th> \n",
       "        <th class=\"col_heading level1 col10\" >2</th> \n",
       "        <th class=\"col_heading level1 col11\" >3</th> \n",
       "        <th class=\"col_heading level1 col12\" >3</th> \n",
       "        <th class=\"col_heading level1 col13\" >3</th> \n",
       "        <th class=\"col_heading level1 col14\" >3</th> \n",
       "        <th class=\"col_heading level1 col15\" ></th> \n",
       "    </tr>    <tr> \n",
       "        <th class=\"index_name level0\" >Sex</th> \n",
       "        <th class=\"index_name level1\" >Survived</th> \n",
       "        <th class=\"blank\" ></th> \n",
       "        <th class=\"blank\" ></th> \n",
       "        <th class=\"blank\" ></th> \n",
       "        <th class=\"blank\" ></th> \n",
       "        <th class=\"blank\" ></th> \n",
       "        <th class=\"blank\" ></th> \n",
       "        <th class=\"blank\" ></th> \n",
       "        <th class=\"blank\" ></th> \n",
       "        <th class=\"blank\" ></th> \n",
       "        <th class=\"blank\" ></th> \n",
       "        <th class=\"blank\" ></th> \n",
       "        <th class=\"blank\" ></th> \n",
       "        <th class=\"blank\" ></th> \n",
       "        <th class=\"blank\" ></th> \n",
       "        <th class=\"blank\" ></th> \n",
       "        <th class=\"blank\" ></th> \n",
       "    </tr></thead> \n",
       "<tbody>    <tr> \n",
       "        <th id=\"T_cde3d0f0_0238_11e9_ac3b_185e0f6ca47flevel0_row0\" class=\"row_heading level0 row0\" rowspan=2>female</th> \n",
       "        <th id=\"T_cde3d0f0_0238_11e9_ac3b_185e0f6ca47flevel1_row0\" class=\"row_heading level1 row0\" >0</th> \n",
       "        <td id=\"T_cde3d0f0_0238_11e9_ac3b_185e0f6ca47frow0_col0\" class=\"data row0 col0\" >1</td> \n",
       "        <td id=\"T_cde3d0f0_0238_11e9_ac3b_185e0f6ca47frow0_col1\" class=\"data row0 col1\" >3</td> \n",
       "        <td id=\"T_cde3d0f0_0238_11e9_ac3b_185e0f6ca47frow0_col2\" class=\"data row0 col2\" >33</td> \n",
       "        <td id=\"T_cde3d0f0_0238_11e9_ac3b_185e0f6ca47frow0_col3\" class=\"data row0 col3\" >2</td> \n",
       "        <td id=\"T_cde3d0f0_0238_11e9_ac3b_185e0f6ca47frow0_col4\" class=\"data row0 col4\" >3</td> \n",
       "        <td id=\"T_cde3d0f0_0238_11e9_ac3b_185e0f6ca47frow0_col5\" class=\"data row0 col5\" >21</td> \n",
       "        <td id=\"T_cde3d0f0_0238_11e9_ac3b_185e0f6ca47frow0_col6\" class=\"data row0 col6\" >0</td> \n",
       "        <td id=\"T_cde3d0f0_0238_11e9_ac3b_185e0f6ca47frow0_col7\" class=\"data row0 col7\" >0</td> \n",
       "        <td id=\"T_cde3d0f0_0238_11e9_ac3b_185e0f6ca47frow0_col8\" class=\"data row0 col8\" >3</td> \n",
       "        <td id=\"T_cde3d0f0_0238_11e9_ac3b_185e0f6ca47frow0_col9\" class=\"data row0 col9\" >0</td> \n",
       "        <td id=\"T_cde3d0f0_0238_11e9_ac3b_185e0f6ca47frow0_col10\" class=\"data row0 col10\" >0</td> \n",
       "        <td id=\"T_cde3d0f0_0238_11e9_ac3b_185e0f6ca47frow0_col11\" class=\"data row0 col11\" >7</td> \n",
       "        <td id=\"T_cde3d0f0_0238_11e9_ac3b_185e0f6ca47frow0_col12\" class=\"data row0 col12\" >4</td> \n",
       "        <td id=\"T_cde3d0f0_0238_11e9_ac3b_185e0f6ca47frow0_col13\" class=\"data row0 col13\" >1</td> \n",
       "        <td id=\"T_cde3d0f0_0238_11e9_ac3b_185e0f6ca47frow0_col14\" class=\"data row0 col14\" >3</td> \n",
       "        <td id=\"T_cde3d0f0_0238_11e9_ac3b_185e0f6ca47frow0_col15\" class=\"data row0 col15\" >81</td> \n",
       "    </tr>    <tr> \n",
       "        <th id=\"T_cde3d0f0_0238_11e9_ac3b_185e0f6ca47flevel1_row1\" class=\"row_heading level1 row1\" >1</th> \n",
       "        <td id=\"T_cde3d0f0_0238_11e9_ac3b_185e0f6ca47frow1_col0\" class=\"data row1 col0\" >48</td> \n",
       "        <td id=\"T_cde3d0f0_0238_11e9_ac3b_185e0f6ca47frow1_col1\" class=\"data row1 col1\" >41</td> \n",
       "        <td id=\"T_cde3d0f0_0238_11e9_ac3b_185e0f6ca47frow1_col2\" class=\"data row1 col2\" >48</td> \n",
       "        <td id=\"T_cde3d0f0_0238_11e9_ac3b_185e0f6ca47frow1_col3\" class=\"data row1 col3\" >38</td> \n",
       "        <td id=\"T_cde3d0f0_0238_11e9_ac3b_185e0f6ca47frow1_col4\" class=\"data row1 col4\" >25</td> \n",
       "        <td id=\"T_cde3d0f0_0238_11e9_ac3b_185e0f6ca47frow1_col5\" class=\"data row1 col5\" >17</td> \n",
       "        <td id=\"T_cde3d0f0_0238_11e9_ac3b_185e0f6ca47frow1_col6\" class=\"data row1 col6\" >3</td> \n",
       "        <td id=\"T_cde3d0f0_0238_11e9_ac3b_185e0f6ca47frow1_col7\" class=\"data row1 col7\" >3</td> \n",
       "        <td id=\"T_cde3d0f0_0238_11e9_ac3b_185e0f6ca47frow1_col8\" class=\"data row1 col8\" >4</td> \n",
       "        <td id=\"T_cde3d0f0_0238_11e9_ac3b_185e0f6ca47frow1_col9\" class=\"data row1 col9\" >2</td> \n",
       "        <td id=\"T_cde3d0f0_0238_11e9_ac3b_185e0f6ca47frow1_col10\" class=\"data row1 col10\" >1</td> \n",
       "        <td id=\"T_cde3d0f0_0238_11e9_ac3b_185e0f6ca47frow1_col11\" class=\"data row1 col11\" >1</td> \n",
       "        <td id=\"T_cde3d0f0_0238_11e9_ac3b_185e0f6ca47frow1_col12\" class=\"data row1 col12\" >2</td> \n",
       "        <td id=\"T_cde3d0f0_0238_11e9_ac3b_185e0f6ca47frow1_col13\" class=\"data row1 col13\" >0</td> \n",
       "        <td id=\"T_cde3d0f0_0238_11e9_ac3b_185e0f6ca47frow1_col14\" class=\"data row1 col14\" >0</td> \n",
       "        <td id=\"T_cde3d0f0_0238_11e9_ac3b_185e0f6ca47frow1_col15\" class=\"data row1 col15\" >233</td> \n",
       "    </tr>    <tr> \n",
       "        <th id=\"T_cde3d0f0_0238_11e9_ac3b_185e0f6ca47flevel0_row2\" class=\"row_heading level0 row2\" rowspan=2>male</th> \n",
       "        <th id=\"T_cde3d0f0_0238_11e9_ac3b_185e0f6ca47flevel1_row2\" class=\"row_heading level1 row2\" >0</th> \n",
       "        <td id=\"T_cde3d0f0_0238_11e9_ac3b_185e0f6ca47frow2_col0\" class=\"data row2 col0\" >59</td> \n",
       "        <td id=\"T_cde3d0f0_0238_11e9_ac3b_185e0f6ca47frow2_col1\" class=\"data row2 col1\" >67</td> \n",
       "        <td id=\"T_cde3d0f0_0238_11e9_ac3b_185e0f6ca47frow2_col2\" class=\"data row2 col2\" >235</td> \n",
       "        <td id=\"T_cde3d0f0_0238_11e9_ac3b_185e0f6ca47frow2_col3\" class=\"data row2 col3\" >16</td> \n",
       "        <td id=\"T_cde3d0f0_0238_11e9_ac3b_185e0f6ca47frow2_col4\" class=\"data row2 col4\" >20</td> \n",
       "        <td id=\"T_cde3d0f0_0238_11e9_ac3b_185e0f6ca47frow2_col5\" class=\"data row2 col5\" >35</td> \n",
       "        <td id=\"T_cde3d0f0_0238_11e9_ac3b_185e0f6ca47frow2_col6\" class=\"data row2 col6\" >1</td> \n",
       "        <td id=\"T_cde3d0f0_0238_11e9_ac3b_185e0f6ca47frow2_col7\" class=\"data row2 col7\" >4</td> \n",
       "        <td id=\"T_cde3d0f0_0238_11e9_ac3b_185e0f6ca47frow2_col8\" class=\"data row2 col8\" >7</td> \n",
       "        <td id=\"T_cde3d0f0_0238_11e9_ac3b_185e0f6ca47frow2_col9\" class=\"data row2 col9\" >1</td> \n",
       "        <td id=\"T_cde3d0f0_0238_11e9_ac3b_185e0f6ca47frow2_col10\" class=\"data row2 col10\" >0</td> \n",
       "        <td id=\"T_cde3d0f0_0238_11e9_ac3b_185e0f6ca47frow2_col11\" class=\"data row2 col11\" >4</td> \n",
       "        <td id=\"T_cde3d0f0_0238_11e9_ac3b_185e0f6ca47frow2_col12\" class=\"data row2 col12\" >11</td> \n",
       "        <td id=\"T_cde3d0f0_0238_11e9_ac3b_185e0f6ca47frow2_col13\" class=\"data row2 col13\" >4</td> \n",
       "        <td id=\"T_cde3d0f0_0238_11e9_ac3b_185e0f6ca47frow2_col14\" class=\"data row2 col14\" >4</td> \n",
       "        <td id=\"T_cde3d0f0_0238_11e9_ac3b_185e0f6ca47frow2_col15\" class=\"data row2 col15\" >468</td> \n",
       "    </tr>    <tr> \n",
       "        <th id=\"T_cde3d0f0_0238_11e9_ac3b_185e0f6ca47flevel1_row3\" class=\"row_heading level1 row3\" >1</th> \n",
       "        <td id=\"T_cde3d0f0_0238_11e9_ac3b_185e0f6ca47frow3_col0\" class=\"data row3 col0\" >29</td> \n",
       "        <td id=\"T_cde3d0f0_0238_11e9_ac3b_185e0f6ca47frow3_col1\" class=\"data row3 col1\" >9</td> \n",
       "        <td id=\"T_cde3d0f0_0238_11e9_ac3b_185e0f6ca47frow3_col2\" class=\"data row3 col2\" >35</td> \n",
       "        <td id=\"T_cde3d0f0_0238_11e9_ac3b_185e0f6ca47frow3_col3\" class=\"data row3 col3\" >15</td> \n",
       "        <td id=\"T_cde3d0f0_0238_11e9_ac3b_185e0f6ca47frow3_col4\" class=\"data row3 col4\" >7</td> \n",
       "        <td id=\"T_cde3d0f0_0238_11e9_ac3b_185e0f6ca47frow3_col5\" class=\"data row3 col5\" >10</td> \n",
       "        <td id=\"T_cde3d0f0_0238_11e9_ac3b_185e0f6ca47frow3_col6\" class=\"data row3 col6\" >1</td> \n",
       "        <td id=\"T_cde3d0f0_0238_11e9_ac3b_185e0f6ca47frow3_col7\" class=\"data row3 col7\" >1</td> \n",
       "        <td id=\"T_cde3d0f0_0238_11e9_ac3b_185e0f6ca47frow3_col8\" class=\"data row3 col8\" >1</td> \n",
       "        <td id=\"T_cde3d0f0_0238_11e9_ac3b_185e0f6ca47frow3_col9\" class=\"data row3 col9\" >0</td> \n",
       "        <td id=\"T_cde3d0f0_0238_11e9_ac3b_185e0f6ca47frow3_col10\" class=\"data row3 col10\" >0</td> \n",
       "        <td id=\"T_cde3d0f0_0238_11e9_ac3b_185e0f6ca47frow3_col11\" class=\"data row3 col11\" >0</td> \n",
       "        <td id=\"T_cde3d0f0_0238_11e9_ac3b_185e0f6ca47frow3_col12\" class=\"data row3 col12\" >1</td> \n",
       "        <td id=\"T_cde3d0f0_0238_11e9_ac3b_185e0f6ca47frow3_col13\" class=\"data row3 col13\" >0</td> \n",
       "        <td id=\"T_cde3d0f0_0238_11e9_ac3b_185e0f6ca47frow3_col14\" class=\"data row3 col14\" >0</td> \n",
       "        <td id=\"T_cde3d0f0_0238_11e9_ac3b_185e0f6ca47frow3_col15\" class=\"data row3 col15\" >109</td> \n",
       "    </tr>    <tr> \n",
       "        <th id=\"T_cde3d0f0_0238_11e9_ac3b_185e0f6ca47flevel0_row4\" class=\"row_heading level0 row4\" >All</th> \n",
       "        <th id=\"T_cde3d0f0_0238_11e9_ac3b_185e0f6ca47flevel1_row4\" class=\"row_heading level1 row4\" ></th> \n",
       "        <td id=\"T_cde3d0f0_0238_11e9_ac3b_185e0f6ca47frow4_col0\" class=\"data row4 col0\" >137</td> \n",
       "        <td id=\"T_cde3d0f0_0238_11e9_ac3b_185e0f6ca47frow4_col1\" class=\"data row4 col1\" >120</td> \n",
       "        <td id=\"T_cde3d0f0_0238_11e9_ac3b_185e0f6ca47frow4_col2\" class=\"data row4 col2\" >351</td> \n",
       "        <td id=\"T_cde3d0f0_0238_11e9_ac3b_185e0f6ca47frow4_col3\" class=\"data row4 col3\" >71</td> \n",
       "        <td id=\"T_cde3d0f0_0238_11e9_ac3b_185e0f6ca47frow4_col4\" class=\"data row4 col4\" >55</td> \n",
       "        <td id=\"T_cde3d0f0_0238_11e9_ac3b_185e0f6ca47frow4_col5\" class=\"data row4 col5\" >83</td> \n",
       "        <td id=\"T_cde3d0f0_0238_11e9_ac3b_185e0f6ca47frow4_col6\" class=\"data row4 col6\" >5</td> \n",
       "        <td id=\"T_cde3d0f0_0238_11e9_ac3b_185e0f6ca47frow4_col7\" class=\"data row4 col7\" >8</td> \n",
       "        <td id=\"T_cde3d0f0_0238_11e9_ac3b_185e0f6ca47frow4_col8\" class=\"data row4 col8\" >15</td> \n",
       "        <td id=\"T_cde3d0f0_0238_11e9_ac3b_185e0f6ca47frow4_col9\" class=\"data row4 col9\" >3</td> \n",
       "        <td id=\"T_cde3d0f0_0238_11e9_ac3b_185e0f6ca47frow4_col10\" class=\"data row4 col10\" >1</td> \n",
       "        <td id=\"T_cde3d0f0_0238_11e9_ac3b_185e0f6ca47frow4_col11\" class=\"data row4 col11\" >12</td> \n",
       "        <td id=\"T_cde3d0f0_0238_11e9_ac3b_185e0f6ca47frow4_col12\" class=\"data row4 col12\" >18</td> \n",
       "        <td id=\"T_cde3d0f0_0238_11e9_ac3b_185e0f6ca47frow4_col13\" class=\"data row4 col13\" >5</td> \n",
       "        <td id=\"T_cde3d0f0_0238_11e9_ac3b_185e0f6ca47frow4_col14\" class=\"data row4 col14\" >7</td> \n",
       "        <td id=\"T_cde3d0f0_0238_11e9_ac3b_185e0f6ca47frow4_col15\" class=\"data row4 col15\" >891</td> \n",
       "    </tr></tbody> \n",
       "</table> "
      ],
      "text/plain": [
       "<pandas.io.formats.style.Styler at 0x25f0a3c1668>"
      ]
     },
     "execution_count": 34,
     "metadata": {},
     "output_type": "execute_result"
    }
   ],
   "source": [
    "pd.crosstab([df_train.Sex, df_train.Survived],[df_train.SibSp, df_train.Pclass], margins=True).style.background_gradient(cmap='autumn_r')"
   ]
  },
  {
   "cell_type": "markdown",
   "metadata": {},
   "source": [
    "For males, no survival rate above 0.5 for any values of SibSp. For females, passengers with SibSp = 3 and Pclass = 3 died, also all females with SibSp > 4 died. For females with SibSp = 1 and Pclass = 3 survival rate is below 0.5"
   ]
  },
  {
   "cell_type": "code",
   "execution_count": 35,
   "metadata": {},
   "outputs": [],
   "source": [
    "# #all females with sibsp > 7 died\n",
    "# df_test.loc[(df_test.Sex=='female')& (df_test.SibSp > 7), 'Survived'] = 0"
   ]
  },
  {
   "cell_type": "code",
   "execution_count": 36,
   "metadata": {},
   "outputs": [
    {
     "data": {
      "text/plain": [
       "<seaborn.axisgrid.FacetGrid at 0x25f0a01df98>"
      ]
     },
     "execution_count": 36,
     "metadata": {},
     "output_type": "execute_result"
    },
    {
     "data": {
      "image/png": "[encoded data removed]",
      "text/plain": [
       "<Figure size 1080x720 with 6 Axes>"
      ]
     },
     "metadata": {},
     "output_type": "display_data"
    }
   ],
   "source": [
    "sns.catplot('Parch','Survived',col='Pclass', row = 'Sex', kind='point', data = df_train)"
   ]
  },
  {
   "cell_type": "code",
   "execution_count": 37,
   "metadata": {},
   "outputs": [
    {
     "data": {
      "text/html": [
       "<style  type=\"text/css\" >\n",
       "    #T_cf2fc3ba_0238_11e9_bb94_185e0f6ca47frow0_col0 {\n",
       "            background-color:  #ffff00;\n",
       "        }    #T_cf2fc3ba_0238_11e9_bb94_185e0f6ca47frow0_col1 {\n",
       "            background-color:  #ffff00;\n",
       "        }    #T_cf2fc3ba_0238_11e9_bb94_185e0f6ca47frow0_col2 {\n",
       "            background-color:  #ffff00;\n",
       "        }    #T_cf2fc3ba_0238_11e9_bb94_185e0f6ca47frow0_col3 {\n",
       "            background-color:  #ffff00;\n",
       "        }    #T_cf2fc3ba_0238_11e9_bb94_185e0f6ca47frow0_col4 {\n",
       "            background-color:  #ffff00;\n",
       "        }    #T_cf2fc3ba_0238_11e9_bb94_185e0f6ca47frow0_col5 {\n",
       "            background-color:  #ffe400;\n",
       "        }    #T_cf2fc3ba_0238_11e9_bb94_185e0f6ca47frow0_col6 {\n",
       "            background-color:  #ffff00;\n",
       "        }    #T_cf2fc3ba_0238_11e9_bb94_185e0f6ca47frow0_col7 {\n",
       "            background-color:  #ffff00;\n",
       "        }    #T_cf2fc3ba_0238_11e9_bb94_185e0f6ca47frow0_col8 {\n",
       "            background-color:  #ffa600;\n",
       "        }    #T_cf2fc3ba_0238_11e9_bb94_185e0f6ca47frow0_col9 {\n",
       "            background-color:  #ffff00;\n",
       "        }    #T_cf2fc3ba_0238_11e9_bb94_185e0f6ca47frow0_col10 {\n",
       "            background-color:  #ffaa00;\n",
       "        }    #T_cf2fc3ba_0238_11e9_bb94_185e0f6ca47frow0_col11 {\n",
       "            background-color:  #ffff00;\n",
       "        }    #T_cf2fc3ba_0238_11e9_bb94_185e0f6ca47frow0_col12 {\n",
       "            background-color:  #ff5500;\n",
       "        }    #T_cf2fc3ba_0238_11e9_bb94_185e0f6ca47frow0_col13 {\n",
       "            background-color:  #ff6600;\n",
       "        }    #T_cf2fc3ba_0238_11e9_bb94_185e0f6ca47frow0_col14 {\n",
       "            background-color:  #ff0000;\n",
       "        }    #T_cf2fc3ba_0238_11e9_bb94_185e0f6ca47frow0_col15 {\n",
       "            background-color:  #ffff00;\n",
       "        }    #T_cf2fc3ba_0238_11e9_bb94_185e0f6ca47frow1_col0 {\n",
       "            background-color:  #ff9e00;\n",
       "        }    #T_cf2fc3ba_0238_11e9_bb94_185e0f6ca47frow1_col1 {\n",
       "            background-color:  #ffba00;\n",
       "        }    #T_cf2fc3ba_0238_11e9_bb94_185e0f6ca47frow1_col2 {\n",
       "            background-color:  #fff400;\n",
       "        }    #T_cf2fc3ba_0238_11e9_bb94_185e0f6ca47frow1_col3 {\n",
       "            background-color:  #ff7300;\n",
       "        }    #T_cf2fc3ba_0238_11e9_bb94_185e0f6ca47frow1_col4 {\n",
       "            background-color:  #ff7b00;\n",
       "        }    #T_cf2fc3ba_0238_11e9_bb94_185e0f6ca47frow1_col5 {\n",
       "            background-color:  #ffea00;\n",
       "        }    #T_cf2fc3ba_0238_11e9_bb94_185e0f6ca47frow1_col6 {\n",
       "            background-color:  #ff8600;\n",
       "        }    #T_cf2fc3ba_0238_11e9_bb94_185e0f6ca47frow1_col7 {\n",
       "            background-color:  #ff4f00;\n",
       "        }    #T_cf2fc3ba_0238_11e9_bb94_185e0f6ca47frow1_col8 {\n",
       "            background-color:  #ffdf00;\n",
       "        }    #T_cf2fc3ba_0238_11e9_bb94_185e0f6ca47frow1_col9 {\n",
       "            background-color:  #ff0000;\n",
       "        }    #T_cf2fc3ba_0238_11e9_bb94_185e0f6ca47frow1_col10 {\n",
       "            background-color:  #ffaa00;\n",
       "        }    #T_cf2fc3ba_0238_11e9_bb94_185e0f6ca47frow1_col11 {\n",
       "            background-color:  #ffff00;\n",
       "        }    #T_cf2fc3ba_0238_11e9_bb94_185e0f6ca47frow1_col12 {\n",
       "            background-color:  #ffff00;\n",
       "        }    #T_cf2fc3ba_0238_11e9_bb94_185e0f6ca47frow1_col13 {\n",
       "            background-color:  #ffcc00;\n",
       "        }    #T_cf2fc3ba_0238_11e9_bb94_185e0f6ca47frow1_col14 {\n",
       "            background-color:  #ffff00;\n",
       "        }    #T_cf2fc3ba_0238_11e9_bb94_185e0f6ca47frow1_col15 {\n",
       "            background-color:  #ffcf00;\n",
       "        }    #T_cf2fc3ba_0238_11e9_bb94_185e0f6ca47frow2_col0 {\n",
       "            background-color:  #ff9e00;\n",
       "        }    #T_cf2fc3ba_0238_11e9_bb94_185e0f6ca47frow2_col1 {\n",
       "            background-color:  #ff6900;\n",
       "        }    #T_cf2fc3ba_0238_11e9_bb94_185e0f6ca47frow2_col2 {\n",
       "            background-color:  #ff5900;\n",
       "        }    #T_cf2fc3ba_0238_11e9_bb94_185e0f6ca47frow2_col3 {\n",
       "            background-color:  #ffad00;\n",
       "        }    #T_cf2fc3ba_0238_11e9_bb94_185e0f6ca47frow2_col4 {\n",
       "            background-color:  #ffce00;\n",
       "        }    #T_cf2fc3ba_0238_11e9_bb94_185e0f6ca47frow2_col5 {\n",
       "            background-color:  #ffb300;\n",
       "        }    #T_cf2fc3ba_0238_11e9_bb94_185e0f6ca47frow2_col6 {\n",
       "            background-color:  #fff200;\n",
       "        }    #T_cf2fc3ba_0238_11e9_bb94_185e0f6ca47frow2_col7 {\n",
       "            background-color:  #ffcf00;\n",
       "        }    #T_cf2fc3ba_0238_11e9_bb94_185e0f6ca47frow2_col8 {\n",
       "            background-color:  #ffb300;\n",
       "        }    #T_cf2fc3ba_0238_11e9_bb94_185e0f6ca47frow2_col9 {\n",
       "            background-color:  #ffff00;\n",
       "        }    #T_cf2fc3ba_0238_11e9_bb94_185e0f6ca47frow2_col10 {\n",
       "            background-color:  #ffaa00;\n",
       "        }    #T_cf2fc3ba_0238_11e9_bb94_185e0f6ca47frow2_col11 {\n",
       "            background-color:  #ff0000;\n",
       "        }    #T_cf2fc3ba_0238_11e9_bb94_185e0f6ca47frow2_col12 {\n",
       "            background-color:  #ffaa00;\n",
       "        }    #T_cf2fc3ba_0238_11e9_bb94_185e0f6ca47frow2_col13 {\n",
       "            background-color:  #ffcc00;\n",
       "        }    #T_cf2fc3ba_0238_11e9_bb94_185e0f6ca47frow2_col14 {\n",
       "            background-color:  #ffff00;\n",
       "        }    #T_cf2fc3ba_0238_11e9_bb94_185e0f6ca47frow2_col15 {\n",
       "            background-color:  #ff8500;\n",
       "        }    #T_cf2fc3ba_0238_11e9_bb94_185e0f6ca47frow3_col0 {\n",
       "            background-color:  #ffc800;\n",
       "        }    #T_cf2fc3ba_0238_11e9_bb94_185e0f6ca47frow3_col1 {\n",
       "            background-color:  #fffa00;\n",
       "        }    #T_cf2fc3ba_0238_11e9_bb94_185e0f6ca47frow3_col2 {\n",
       "            background-color:  #ffff00;\n",
       "        }    #T_cf2fc3ba_0238_11e9_bb94_185e0f6ca47frow3_col3 {\n",
       "            background-color:  #ffde00;\n",
       "        }    #T_cf2fc3ba_0238_11e9_bb94_185e0f6ca47frow3_col4 {\n",
       "            background-color:  #ffce00;\n",
       "        }    #T_cf2fc3ba_0238_11e9_bb94_185e0f6ca47frow3_col5 {\n",
       "            background-color:  #ffff00;\n",
       "        }    #T_cf2fc3ba_0238_11e9_bb94_185e0f6ca47frow3_col6 {\n",
       "            background-color:  #ffd700;\n",
       "        }    #T_cf2fc3ba_0238_11e9_bb94_185e0f6ca47frow3_col7 {\n",
       "            background-color:  #ffdf00;\n",
       "        }    #T_cf2fc3ba_0238_11e9_bb94_185e0f6ca47frow3_col8 {\n",
       "            background-color:  #ffff00;\n",
       "        }    #T_cf2fc3ba_0238_11e9_bb94_185e0f6ca47frow3_col9 {\n",
       "            background-color:  #ffff00;\n",
       "        }    #T_cf2fc3ba_0238_11e9_bb94_185e0f6ca47frow3_col10 {\n",
       "            background-color:  #ffff00;\n",
       "        }    #T_cf2fc3ba_0238_11e9_bb94_185e0f6ca47frow3_col11 {\n",
       "            background-color:  #ffff00;\n",
       "        }    #T_cf2fc3ba_0238_11e9_bb94_185e0f6ca47frow3_col12 {\n",
       "            background-color:  #ffff00;\n",
       "        }    #T_cf2fc3ba_0238_11e9_bb94_185e0f6ca47frow3_col13 {\n",
       "            background-color:  #ffff00;\n",
       "        }    #T_cf2fc3ba_0238_11e9_bb94_185e0f6ca47frow3_col14 {\n",
       "            background-color:  #ffff00;\n",
       "        }    #T_cf2fc3ba_0238_11e9_bb94_185e0f6ca47frow3_col15 {\n",
       "            background-color:  #fff700;\n",
       "        }    #T_cf2fc3ba_0238_11e9_bb94_185e0f6ca47frow4_col0 {\n",
       "            background-color:  #ff0000;\n",
       "        }    #T_cf2fc3ba_0238_11e9_bb94_185e0f6ca47frow4_col1 {\n",
       "            background-color:  #ff0000;\n",
       "        }    #T_cf2fc3ba_0238_11e9_bb94_185e0f6ca47frow4_col2 {\n",
       "            background-color:  #ff0000;\n",
       "        }    #T_cf2fc3ba_0238_11e9_bb94_185e0f6ca47frow4_col3 {\n",
       "            background-color:  #ff0000;\n",
       "        }    #T_cf2fc3ba_0238_11e9_bb94_185e0f6ca47frow4_col4 {\n",
       "            background-color:  #ff0000;\n",
       "        }    #T_cf2fc3ba_0238_11e9_bb94_185e0f6ca47frow4_col5 {\n",
       "            background-color:  #ff0000;\n",
       "        }    #T_cf2fc3ba_0238_11e9_bb94_185e0f6ca47frow4_col6 {\n",
       "            background-color:  #ff0000;\n",
       "        }    #T_cf2fc3ba_0238_11e9_bb94_185e0f6ca47frow4_col7 {\n",
       "            background-color:  #ff0000;\n",
       "        }    #T_cf2fc3ba_0238_11e9_bb94_185e0f6ca47frow4_col8 {\n",
       "            background-color:  #ff0000;\n",
       "        }    #T_cf2fc3ba_0238_11e9_bb94_185e0f6ca47frow4_col9 {\n",
       "            background-color:  #ff0000;\n",
       "        }    #T_cf2fc3ba_0238_11e9_bb94_185e0f6ca47frow4_col10 {\n",
       "            background-color:  #ff0000;\n",
       "        }    #T_cf2fc3ba_0238_11e9_bb94_185e0f6ca47frow4_col11 {\n",
       "            background-color:  #ff0000;\n",
       "        }    #T_cf2fc3ba_0238_11e9_bb94_185e0f6ca47frow4_col12 {\n",
       "            background-color:  #ff0000;\n",
       "        }    #T_cf2fc3ba_0238_11e9_bb94_185e0f6ca47frow4_col13 {\n",
       "            background-color:  #ff0000;\n",
       "        }    #T_cf2fc3ba_0238_11e9_bb94_185e0f6ca47frow4_col14 {\n",
       "            background-color:  #ff0000;\n",
       "        }    #T_cf2fc3ba_0238_11e9_bb94_185e0f6ca47frow4_col15 {\n",
       "            background-color:  #ff0000;\n",
       "        }</style>  \n",
       "<table id=\"T_cf2fc3ba_0238_11e9_bb94_185e0f6ca47f\" > \n",
       "<thead>    <tr> \n",
       "        <th class=\"blank\" ></th> \n",
       "        <th class=\"index_name level0\" >Parch</th> \n",
       "        <th class=\"col_heading level0 col0\" colspan=3>0</th> \n",
       "        <th class=\"col_heading level0 col3\" colspan=3>1</th> \n",
       "        <th class=\"col_heading level0 col6\" colspan=3>2</th> \n",
       "        <th class=\"col_heading level0 col9\" colspan=2>3</th> \n",
       "        <th class=\"col_heading level0 col11\" colspan=2>4</th> \n",
       "        <th class=\"col_heading level0 col13\" >5</th> \n",
       "        <th class=\"col_heading level0 col14\" >6</th> \n",
       "        <th class=\"col_heading level0 col15\" >All</th> \n",
       "    </tr>    <tr> \n",
       "        <th class=\"blank\" ></th> \n",
       "        <th class=\"index_name level1\" >Pclass</th> \n",
       "        <th class=\"col_heading level1 col0\" >1</th> \n",
       "        <th class=\"col_heading level1 col1\" >2</th> \n",
       "        <th class=\"col_heading level1 col2\" >3</th> \n",
       "        <th class=\"col_heading level1 col3\" >1</th> \n",
       "        <th class=\"col_heading level1 col4\" >2</th> \n",
       "        <th class=\"col_heading level1 col5\" >3</th> \n",
       "        <th class=\"col_heading level1 col6\" >1</th> \n",
       "        <th class=\"col_heading level1 col7\" >2</th> \n",
       "        <th class=\"col_heading level1 col8\" >3</th> \n",
       "        <th class=\"col_heading level1 col9\" >2</th> \n",
       "        <th class=\"col_heading level1 col10\" >3</th> \n",
       "        <th class=\"col_heading level1 col11\" >1</th> \n",
       "        <th class=\"col_heading level1 col12\" >3</th> \n",
       "        <th class=\"col_heading level1 col13\" >3</th> \n",
       "        <th class=\"col_heading level1 col14\" >3</th> \n",
       "        <th class=\"col_heading level1 col15\" ></th> \n",
       "    </tr>    <tr> \n",
       "        <th class=\"index_name level0\" >Sex</th> \n",
       "        <th class=\"index_name level1\" >Survived</th> \n",
       "        <th class=\"blank\" ></th> \n",
       "        <th class=\"blank\" ></th> \n",
       "        <th class=\"blank\" ></th> \n",
       "        <th class=\"blank\" ></th> \n",
       "        <th class=\"blank\" ></th> \n",
       "        <th class=\"blank\" ></th> \n",
       "        <th class=\"blank\" ></th> \n",
       "        <th class=\"blank\" ></th> \n",
       "        <th class=\"blank\" ></th> \n",
       "        <th class=\"blank\" ></th> \n",
       "        <th class=\"blank\" ></th> \n",
       "        <th class=\"blank\" ></th> \n",
       "        <th class=\"blank\" ></th> \n",
       "        <th class=\"blank\" ></th> \n",
       "        <th class=\"blank\" ></th> \n",
       "        <th class=\"blank\" ></th> \n",
       "    </tr></thead> \n",
       "<tbody>    <tr> \n",
       "        <th id=\"T_cf2fc3ba_0238_11e9_bb94_185e0f6ca47flevel0_row0\" class=\"row_heading level0 row0\" rowspan=2>female</th> \n",
       "        <th id=\"T_cf2fc3ba_0238_11e9_bb94_185e0f6ca47flevel1_row0\" class=\"row_heading level1 row0\" >0</th> \n",
       "        <td id=\"T_cf2fc3ba_0238_11e9_bb94_185e0f6ca47frow0_col0\" class=\"data row0 col0\" >1</td> \n",
       "        <td id=\"T_cf2fc3ba_0238_11e9_bb94_185e0f6ca47frow0_col1\" class=\"data row0 col1\" >5</td> \n",
       "        <td id=\"T_cf2fc3ba_0238_11e9_bb94_185e0f6ca47frow0_col2\" class=\"data row0 col2\" >35</td> \n",
       "        <td id=\"T_cf2fc3ba_0238_11e9_bb94_185e0f6ca47frow0_col3\" class=\"data row0 col3\" >0</td> \n",
       "        <td id=\"T_cf2fc3ba_0238_11e9_bb94_185e0f6ca47frow0_col4\" class=\"data row0 col4\" >1</td> \n",
       "        <td id=\"T_cf2fc3ba_0238_11e9_bb94_185e0f6ca47frow0_col5\" class=\"data row0 col5\" >13</td> \n",
       "        <td id=\"T_cf2fc3ba_0238_11e9_bb94_185e0f6ca47frow0_col6\" class=\"data row0 col6\" >2</td> \n",
       "        <td id=\"T_cf2fc3ba_0238_11e9_bb94_185e0f6ca47frow0_col7\" class=\"data row0 col7\" >0</td> \n",
       "        <td id=\"T_cf2fc3ba_0238_11e9_bb94_185e0f6ca47frow0_col8\" class=\"data row0 col8\" >17</td> \n",
       "        <td id=\"T_cf2fc3ba_0238_11e9_bb94_185e0f6ca47frow0_col9\" class=\"data row0 col9\" >0</td> \n",
       "        <td id=\"T_cf2fc3ba_0238_11e9_bb94_185e0f6ca47frow0_col10\" class=\"data row0 col10\" >1</td> \n",
       "        <td id=\"T_cf2fc3ba_0238_11e9_bb94_185e0f6ca47frow0_col11\" class=\"data row0 col11\" >0</td> \n",
       "        <td id=\"T_cf2fc3ba_0238_11e9_bb94_185e0f6ca47frow0_col12\" class=\"data row0 col12\" >2</td> \n",
       "        <td id=\"T_cf2fc3ba_0238_11e9_bb94_185e0f6ca47frow0_col13\" class=\"data row0 col13\" >3</td> \n",
       "        <td id=\"T_cf2fc3ba_0238_11e9_bb94_185e0f6ca47frow0_col14\" class=\"data row0 col14\" >1</td> \n",
       "        <td id=\"T_cf2fc3ba_0238_11e9_bb94_185e0f6ca47frow0_col15\" class=\"data row0 col15\" >81</td> \n",
       "    </tr>    <tr> \n",
       "        <th id=\"T_cf2fc3ba_0238_11e9_bb94_185e0f6ca47flevel1_row1\" class=\"row_heading level1 row1\" >1</th> \n",
       "        <td id=\"T_cf2fc3ba_0238_11e9_bb94_185e0f6ca47frow1_col0\" class=\"data row1 col0\" >63</td> \n",
       "        <td id=\"T_cf2fc3ba_0238_11e9_bb94_185e0f6ca47frow1_col1\" class=\"data row1 col1\" >40</td> \n",
       "        <td id=\"T_cf2fc3ba_0238_11e9_bb94_185e0f6ca47frow1_col2\" class=\"data row1 col2\" >50</td> \n",
       "        <td id=\"T_cf2fc3ba_0238_11e9_bb94_185e0f6ca47frow1_col3\" class=\"data row1 col3\" >17</td> \n",
       "        <td id=\"T_cf2fc3ba_0238_11e9_bb94_185e0f6ca47frow1_col4\" class=\"data row1 col4\" >17</td> \n",
       "        <td id=\"T_cf2fc3ba_0238_11e9_bb94_185e0f6ca47frow1_col5\" class=\"data row1 col5\" >12</td> \n",
       "        <td id=\"T_cf2fc3ba_0238_11e9_bb94_185e0f6ca47frow1_col6\" class=\"data row1 col6\" >11</td> \n",
       "        <td id=\"T_cf2fc3ba_0238_11e9_bb94_185e0f6ca47frow1_col7\" class=\"data row1 col7\" >11</td> \n",
       "        <td id=\"T_cf2fc3ba_0238_11e9_bb94_185e0f6ca47frow1_col8\" class=\"data row1 col8\" >8</td> \n",
       "        <td id=\"T_cf2fc3ba_0238_11e9_bb94_185e0f6ca47frow1_col9\" class=\"data row1 col9\" >2</td> \n",
       "        <td id=\"T_cf2fc3ba_0238_11e9_bb94_185e0f6ca47frow1_col10\" class=\"data row1 col10\" >1</td> \n",
       "        <td id=\"T_cf2fc3ba_0238_11e9_bb94_185e0f6ca47frow1_col11\" class=\"data row1 col11\" >0</td> \n",
       "        <td id=\"T_cf2fc3ba_0238_11e9_bb94_185e0f6ca47frow1_col12\" class=\"data row1 col12\" >0</td> \n",
       "        <td id=\"T_cf2fc3ba_0238_11e9_bb94_185e0f6ca47frow1_col13\" class=\"data row1 col13\" >1</td> \n",
       "        <td id=\"T_cf2fc3ba_0238_11e9_bb94_185e0f6ca47frow1_col14\" class=\"data row1 col14\" >0</td> \n",
       "        <td id=\"T_cf2fc3ba_0238_11e9_bb94_185e0f6ca47frow1_col15\" class=\"data row1 col15\" >233</td> \n",
       "    </tr>    <tr> \n",
       "        <th id=\"T_cf2fc3ba_0238_11e9_bb94_185e0f6ca47flevel0_row2\" class=\"row_heading level0 row2\" rowspan=2>male</th> \n",
       "        <th id=\"T_cf2fc3ba_0238_11e9_bb94_185e0f6ca47flevel1_row2\" class=\"row_heading level1 row2\" >0</th> \n",
       "        <td id=\"T_cf2fc3ba_0238_11e9_bb94_185e0f6ca47frow2_col0\" class=\"data row2 col0\" >63</td> \n",
       "        <td id=\"T_cf2fc3ba_0238_11e9_bb94_185e0f6ca47frow2_col1\" class=\"data row2 col1\" >81</td> \n",
       "        <td id=\"T_cf2fc3ba_0238_11e9_bb94_185e0f6ca47frow2_col2\" class=\"data row2 col2\" >260</td> \n",
       "        <td id=\"T_cf2fc3ba_0238_11e9_bb94_185e0f6ca47frow2_col3\" class=\"data row2 col3\" >10</td> \n",
       "        <td id=\"T_cf2fc3ba_0238_11e9_bb94_185e0f6ca47frow2_col4\" class=\"data row2 col4\" >7</td> \n",
       "        <td id=\"T_cf2fc3ba_0238_11e9_bb94_185e0f6ca47frow2_col5\" class=\"data row2 col5\" >22</td> \n",
       "        <td id=\"T_cf2fc3ba_0238_11e9_bb94_185e0f6ca47frow2_col6\" class=\"data row2 col6\" >3</td> \n",
       "        <td id=\"T_cf2fc3ba_0238_11e9_bb94_185e0f6ca47frow2_col7\" class=\"data row2 col7\" >3</td> \n",
       "        <td id=\"T_cf2fc3ba_0238_11e9_bb94_185e0f6ca47frow2_col8\" class=\"data row2 col8\" >15</td> \n",
       "        <td id=\"T_cf2fc3ba_0238_11e9_bb94_185e0f6ca47frow2_col9\" class=\"data row2 col9\" >0</td> \n",
       "        <td id=\"T_cf2fc3ba_0238_11e9_bb94_185e0f6ca47frow2_col10\" class=\"data row2 col10\" >1</td> \n",
       "        <td id=\"T_cf2fc3ba_0238_11e9_bb94_185e0f6ca47frow2_col11\" class=\"data row2 col11\" >1</td> \n",
       "        <td id=\"T_cf2fc3ba_0238_11e9_bb94_185e0f6ca47frow2_col12\" class=\"data row2 col12\" >1</td> \n",
       "        <td id=\"T_cf2fc3ba_0238_11e9_bb94_185e0f6ca47frow2_col13\" class=\"data row2 col13\" >1</td> \n",
       "        <td id=\"T_cf2fc3ba_0238_11e9_bb94_185e0f6ca47frow2_col14\" class=\"data row2 col14\" >0</td> \n",
       "        <td id=\"T_cf2fc3ba_0238_11e9_bb94_185e0f6ca47frow2_col15\" class=\"data row2 col15\" >468</td> \n",
       "    </tr>    <tr> \n",
       "        <th id=\"T_cf2fc3ba_0238_11e9_bb94_185e0f6ca47flevel1_row3\" class=\"row_heading level1 row3\" >1</th> \n",
       "        <td id=\"T_cf2fc3ba_0238_11e9_bb94_185e0f6ca47frow3_col0\" class=\"data row3 col0\" >36</td> \n",
       "        <td id=\"T_cf2fc3ba_0238_11e9_bb94_185e0f6ca47frow3_col1\" class=\"data row3 col1\" >8</td> \n",
       "        <td id=\"T_cf2fc3ba_0238_11e9_bb94_185e0f6ca47frow3_col2\" class=\"data row3 col2\" >36</td> \n",
       "        <td id=\"T_cf2fc3ba_0238_11e9_bb94_185e0f6ca47frow3_col3\" class=\"data row3 col3\" >4</td> \n",
       "        <td id=\"T_cf2fc3ba_0238_11e9_bb94_185e0f6ca47frow3_col4\" class=\"data row3 col4\" >7</td> \n",
       "        <td id=\"T_cf2fc3ba_0238_11e9_bb94_185e0f6ca47frow3_col5\" class=\"data row3 col5\" >8</td> \n",
       "        <td id=\"T_cf2fc3ba_0238_11e9_bb94_185e0f6ca47frow3_col6\" class=\"data row3 col6\" >5</td> \n",
       "        <td id=\"T_cf2fc3ba_0238_11e9_bb94_185e0f6ca47frow3_col7\" class=\"data row3 col7\" >2</td> \n",
       "        <td id=\"T_cf2fc3ba_0238_11e9_bb94_185e0f6ca47frow3_col8\" class=\"data row3 col8\" >3</td> \n",
       "        <td id=\"T_cf2fc3ba_0238_11e9_bb94_185e0f6ca47frow3_col9\" class=\"data row3 col9\" >0</td> \n",
       "        <td id=\"T_cf2fc3ba_0238_11e9_bb94_185e0f6ca47frow3_col10\" class=\"data row3 col10\" >0</td> \n",
       "        <td id=\"T_cf2fc3ba_0238_11e9_bb94_185e0f6ca47frow3_col11\" class=\"data row3 col11\" >0</td> \n",
       "        <td id=\"T_cf2fc3ba_0238_11e9_bb94_185e0f6ca47frow3_col12\" class=\"data row3 col12\" >0</td> \n",
       "        <td id=\"T_cf2fc3ba_0238_11e9_bb94_185e0f6ca47frow3_col13\" class=\"data row3 col13\" >0</td> \n",
       "        <td id=\"T_cf2fc3ba_0238_11e9_bb94_185e0f6ca47frow3_col14\" class=\"data row3 col14\" >0</td> \n",
       "        <td id=\"T_cf2fc3ba_0238_11e9_bb94_185e0f6ca47frow3_col15\" class=\"data row3 col15\" >109</td> \n",
       "    </tr>    <tr> \n",
       "        <th id=\"T_cf2fc3ba_0238_11e9_bb94_185e0f6ca47flevel0_row4\" class=\"row_heading level0 row4\" >All</th> \n",
       "        <th id=\"T_cf2fc3ba_0238_11e9_bb94_185e0f6ca47flevel1_row4\" class=\"row_heading level1 row4\" ></th> \n",
       "        <td id=\"T_cf2fc3ba_0238_11e9_bb94_185e0f6ca47frow4_col0\" class=\"data row4 col0\" >163</td> \n",
       "        <td id=\"T_cf2fc3ba_0238_11e9_bb94_185e0f6ca47frow4_col1\" class=\"data row4 col1\" >134</td> \n",
       "        <td id=\"T_cf2fc3ba_0238_11e9_bb94_185e0f6ca47frow4_col2\" class=\"data row4 col2\" >381</td> \n",
       "        <td id=\"T_cf2fc3ba_0238_11e9_bb94_185e0f6ca47frow4_col3\" class=\"data row4 col3\" >31</td> \n",
       "        <td id=\"T_cf2fc3ba_0238_11e9_bb94_185e0f6ca47frow4_col4\" class=\"data row4 col4\" >32</td> \n",
       "        <td id=\"T_cf2fc3ba_0238_11e9_bb94_185e0f6ca47frow4_col5\" class=\"data row4 col5\" >55</td> \n",
       "        <td id=\"T_cf2fc3ba_0238_11e9_bb94_185e0f6ca47frow4_col6\" class=\"data row4 col6\" >21</td> \n",
       "        <td id=\"T_cf2fc3ba_0238_11e9_bb94_185e0f6ca47frow4_col7\" class=\"data row4 col7\" >16</td> \n",
       "        <td id=\"T_cf2fc3ba_0238_11e9_bb94_185e0f6ca47frow4_col8\" class=\"data row4 col8\" >43</td> \n",
       "        <td id=\"T_cf2fc3ba_0238_11e9_bb94_185e0f6ca47frow4_col9\" class=\"data row4 col9\" >2</td> \n",
       "        <td id=\"T_cf2fc3ba_0238_11e9_bb94_185e0f6ca47frow4_col10\" class=\"data row4 col10\" >3</td> \n",
       "        <td id=\"T_cf2fc3ba_0238_11e9_bb94_185e0f6ca47frow4_col11\" class=\"data row4 col11\" >1</td> \n",
       "        <td id=\"T_cf2fc3ba_0238_11e9_bb94_185e0f6ca47frow4_col12\" class=\"data row4 col12\" >3</td> \n",
       "        <td id=\"T_cf2fc3ba_0238_11e9_bb94_185e0f6ca47frow4_col13\" class=\"data row4 col13\" >5</td> \n",
       "        <td id=\"T_cf2fc3ba_0238_11e9_bb94_185e0f6ca47frow4_col14\" class=\"data row4 col14\" >1</td> \n",
       "        <td id=\"T_cf2fc3ba_0238_11e9_bb94_185e0f6ca47frow4_col15\" class=\"data row4 col15\" >891</td> \n",
       "    </tr></tbody> \n",
       "</table> "
      ],
      "text/plain": [
       "<pandas.io.formats.style.Styler at 0x25f0ac1f828>"
      ]
     },
     "execution_count": 37,
     "metadata": {},
     "output_type": "execute_result"
    }
   ],
   "source": [
    "pd.crosstab([df_train.Sex, df_train.Survived], [df_train.Parch, df_train.Pclass], margins=True).style.background_gradient(cmap='autumn_r')"
   ]
  },
  {
   "cell_type": "code",
   "execution_count": 38,
   "metadata": {},
   "outputs": [],
   "source": [
    "# survival rate is below 0.5 for females with Parch = 2 and Pclass = 3 \n",
    "#df_test.loc[ (df_test.Sex == 'female') & (df_test.Pclass == 3) & (df_test.Parch == 2), 'Survived'] = 0\n",
    "\n",
    "# All females with Parch = 4 and Pclass = 3 died\n",
    "##df_test.loc[ (df_test.Sex == 'female') & (df_test.Pclass == 3) & (df_test.Parch == 4), 'Survived'] = 0\n",
    "\n",
    "# all females with Parch > 4 died\n",
    "#df_test.loc[ (df_test.Sex == 'female') & (df_test.Parch > 4) , 'Survived'] = 0\n",
    "\n",
    "# For males with Parch = 2 and Pclass = 1 survival rate is above 0.5\n",
    "##df_test.loc[ (df_test.Sex == 'male') & (df_test.Pclass == 1) & (df_test.Parch == 1) , 'Survived'] = 1\n",
    "\n",
    "#df_test.head(20)\n"
   ]
  },
  {
   "cell_type": "markdown",
   "metadata": {},
   "source": [
    "**Fare:continuous numerical to 12 bins**"
   ]
  },
  {
   "cell_type": "code",
   "execution_count": 39,
   "metadata": {},
   "outputs": [
    {
     "data": {
      "text/plain": [
       "<matplotlib.axes._subplots.AxesSubplot at 0x25f0aca0978>"
      ]
     },
     "execution_count": 39,
     "metadata": {},
     "output_type": "execute_result"
    },
    {
     "data": {
      "image/png": "[encoded data removed]",
      "text/plain": [
       "<Figure size 432x288 with 1 Axes>"
      ]
     },
     "metadata": {},
     "output_type": "display_data"
    }
   ],
   "source": [
    "sns.distplot(df_train['Fare'])"
   ]
  },
  {
   "cell_type": "code",
   "execution_count": 40,
   "metadata": {},
   "outputs": [],
   "source": [
    "for df in [df_train, df_test]:\n",
    "    df['Fare_bin'] = np.nan\n",
    "    for i in range(12,0,-1):\n",
    "        df.loc[ df['Fare']<=i*50, 'Fare_bin']= i"
   ]
  },
  {
   "cell_type": "code",
   "execution_count": 41,
   "metadata": {},
   "outputs": [
    {
     "data": {
      "text/plain": [
       "<seaborn.axisgrid.FacetGrid at 0x25f084afeb8>"
      ]
     },
     "execution_count": 41,
     "metadata": {},
     "output_type": "execute_result"
    },
    {
     "data": {
      "image/png": "[encoded data removed]",
      "text/plain": [
       "<Figure size 1080x720 with 6 Axes>"
      ]
     },
     "metadata": {},
     "output_type": "display_data"
    }
   ],
   "source": [
    "sns.catplot('Fare_bin','Survived', col='Pclass', row='Sex', kind ='point', data=df_train)"
   ]
  },
  {
   "cell_type": "code",
   "execution_count": 42,
   "metadata": {},
   "outputs": [
    {
     "data": {
      "text/html": [
       "<style  type=\"text/css\" >\n",
       "    #T_d0866ce6_0238_11e9_82bf_185e0f6ca47frow0_col0 {\n",
       "            background-color:  #ffff00;\n",
       "        }    #T_d0866ce6_0238_11e9_82bf_185e0f6ca47frow0_col1 {\n",
       "            background-color:  #ffff00;\n",
       "        }    #T_d0866ce6_0238_11e9_82bf_185e0f6ca47frow0_col2 {\n",
       "            background-color:  #fff000;\n",
       "        }    #T_d0866ce6_0238_11e9_82bf_185e0f6ca47frow0_col3 {\n",
       "            background-color:  #ffff00;\n",
       "        }    #T_d0866ce6_0238_11e9_82bf_185e0f6ca47frow0_col4 {\n",
       "            background-color:  #ffff00;\n",
       "        }    #T_d0866ce6_0238_11e9_82bf_185e0f6ca47frow0_col5 {\n",
       "            background-color:  #ffc900;\n",
       "        }    #T_d0866ce6_0238_11e9_82bf_185e0f6ca47frow0_col6 {\n",
       "            background-color:  #ffff00;\n",
       "        }    #T_d0866ce6_0238_11e9_82bf_185e0f6ca47frow0_col7 {\n",
       "            background-color:  #ffdf00;\n",
       "        }    #T_d0866ce6_0238_11e9_82bf_185e0f6ca47frow0_col8 {\n",
       "            background-color:  #ffff00;\n",
       "        }    #T_d0866ce6_0238_11e9_82bf_185e0f6ca47frow0_col9 {\n",
       "            background-color:  #ffff00;\n",
       "        }    #T_d0866ce6_0238_11e9_82bf_185e0f6ca47frow0_col10 {\n",
       "            background-color:  #ffff00;\n",
       "        }    #T_d0866ce6_0238_11e9_82bf_185e0f6ca47frow0_col11 {\n",
       "            background-color:  #ffff00;\n",
       "        }    #T_d0866ce6_0238_11e9_82bf_185e0f6ca47frow1_col0 {\n",
       "            background-color:  #ffde00;\n",
       "        }    #T_d0866ce6_0238_11e9_82bf_185e0f6ca47frow1_col1 {\n",
       "            background-color:  #ffa300;\n",
       "        }    #T_d0866ce6_0238_11e9_82bf_185e0f6ca47frow1_col2 {\n",
       "            background-color:  #ffee00;\n",
       "        }    #T_d0866ce6_0238_11e9_82bf_185e0f6ca47frow1_col3 {\n",
       "            background-color:  #ff7100;\n",
       "        }    #T_d0866ce6_0238_11e9_82bf_185e0f6ca47frow1_col4 {\n",
       "            background-color:  #ffb600;\n",
       "        }    #T_d0866ce6_0238_11e9_82bf_185e0f6ca47frow1_col5 {\n",
       "            background-color:  #ffff00;\n",
       "        }    #T_d0866ce6_0238_11e9_82bf_185e0f6ca47frow1_col6 {\n",
       "            background-color:  #ff5f00;\n",
       "        }    #T_d0866ce6_0238_11e9_82bf_185e0f6ca47frow1_col7 {\n",
       "            background-color:  #ff7f00;\n",
       "        }    #T_d0866ce6_0238_11e9_82bf_185e0f6ca47frow1_col8 {\n",
       "            background-color:  #ff5d00;\n",
       "        }    #T_d0866ce6_0238_11e9_82bf_185e0f6ca47frow1_col9 {\n",
       "            background-color:  #ff5500;\n",
       "        }    #T_d0866ce6_0238_11e9_82bf_185e0f6ca47frow1_col10 {\n",
       "            background-color:  #ffaa00;\n",
       "        }    #T_d0866ce6_0238_11e9_82bf_185e0f6ca47frow1_col11 {\n",
       "            background-color:  #ffcf00;\n",
       "        }    #T_d0866ce6_0238_11e9_82bf_185e0f6ca47frow2_col0 {\n",
       "            background-color:  #ff7500;\n",
       "        }    #T_d0866ce6_0238_11e9_82bf_185e0f6ca47frow2_col1 {\n",
       "            background-color:  #ff8800;\n",
       "        }    #T_d0866ce6_0238_11e9_82bf_185e0f6ca47frow2_col2 {\n",
       "            background-color:  #ff6b00;\n",
       "        }    #T_d0866ce6_0238_11e9_82bf_185e0f6ca47frow2_col3 {\n",
       "            background-color:  #ffbb00;\n",
       "        }    #T_d0866ce6_0238_11e9_82bf_185e0f6ca47frow2_col4 {\n",
       "            background-color:  #ff4900;\n",
       "        }    #T_d0866ce6_0238_11e9_82bf_185e0f6ca47frow2_col5 {\n",
       "            background-color:  #ff9200;\n",
       "        }    #T_d0866ce6_0238_11e9_82bf_185e0f6ca47frow2_col6 {\n",
       "            background-color:  #ffca00;\n",
       "        }    #T_d0866ce6_0238_11e9_82bf_185e0f6ca47frow2_col7 {\n",
       "            background-color:  #ffff00;\n",
       "        }    #T_d0866ce6_0238_11e9_82bf_185e0f6ca47frow2_col8 {\n",
       "            background-color:  #ffa200;\n",
       "        }    #T_d0866ce6_0238_11e9_82bf_185e0f6ca47frow2_col9 {\n",
       "            background-color:  #ffaa00;\n",
       "        }    #T_d0866ce6_0238_11e9_82bf_185e0f6ca47frow2_col10 {\n",
       "            background-color:  #ffff00;\n",
       "        }    #T_d0866ce6_0238_11e9_82bf_185e0f6ca47frow2_col11 {\n",
       "            background-color:  #ff8500;\n",
       "        }    #T_d0866ce6_0238_11e9_82bf_185e0f6ca47frow3_col0 {\n",
       "            background-color:  #ffb500;\n",
       "        }    #T_d0866ce6_0238_11e9_82bf_185e0f6ca47frow3_col1 {\n",
       "            background-color:  #ffef00;\n",
       "        }    #T_d0866ce6_0238_11e9_82bf_185e0f6ca47frow3_col2 {\n",
       "            background-color:  #ffff00;\n",
       "        }    #T_d0866ce6_0238_11e9_82bf_185e0f6ca47frow3_col3 {\n",
       "            background-color:  #ffd300;\n",
       "        }    #T_d0866ce6_0238_11e9_82bf_185e0f6ca47frow3_col4 {\n",
       "            background-color:  #ffff00;\n",
       "        }    #T_d0866ce6_0238_11e9_82bf_185e0f6ca47frow3_col5 {\n",
       "            background-color:  #ffa400;\n",
       "        }    #T_d0866ce6_0238_11e9_82bf_185e0f6ca47frow3_col6 {\n",
       "            background-color:  #ffd500;\n",
       "        }    #T_d0866ce6_0238_11e9_82bf_185e0f6ca47frow3_col7 {\n",
       "            background-color:  #ffff00;\n",
       "        }    #T_d0866ce6_0238_11e9_82bf_185e0f6ca47frow3_col8 {\n",
       "            background-color:  #ffff00;\n",
       "        }    #T_d0866ce6_0238_11e9_82bf_185e0f6ca47frow3_col9 {\n",
       "            background-color:  #ffff00;\n",
       "        }    #T_d0866ce6_0238_11e9_82bf_185e0f6ca47frow3_col10 {\n",
       "            background-color:  #ff5500;\n",
       "        }    #T_d0866ce6_0238_11e9_82bf_185e0f6ca47frow3_col11 {\n",
       "            background-color:  #fff700;\n",
       "        }    #T_d0866ce6_0238_11e9_82bf_185e0f6ca47frow4_col0 {\n",
       "            background-color:  #ff0000;\n",
       "        }    #T_d0866ce6_0238_11e9_82bf_185e0f6ca47frow4_col1 {\n",
       "            background-color:  #ff0000;\n",
       "        }    #T_d0866ce6_0238_11e9_82bf_185e0f6ca47frow4_col2 {\n",
       "            background-color:  #ff0000;\n",
       "        }    #T_d0866ce6_0238_11e9_82bf_185e0f6ca47frow4_col3 {\n",
       "            background-color:  #ff0000;\n",
       "        }    #T_d0866ce6_0238_11e9_82bf_185e0f6ca47frow4_col4 {\n",
       "            background-color:  #ff0000;\n",
       "        }    #T_d0866ce6_0238_11e9_82bf_185e0f6ca47frow4_col5 {\n",
       "            background-color:  #ff0000;\n",
       "        }    #T_d0866ce6_0238_11e9_82bf_185e0f6ca47frow4_col6 {\n",
       "            background-color:  #ff0000;\n",
       "        }    #T_d0866ce6_0238_11e9_82bf_185e0f6ca47frow4_col7 {\n",
       "            background-color:  #ff0000;\n",
       "        }    #T_d0866ce6_0238_11e9_82bf_185e0f6ca47frow4_col8 {\n",
       "            background-color:  #ff0000;\n",
       "        }    #T_d0866ce6_0238_11e9_82bf_185e0f6ca47frow4_col9 {\n",
       "            background-color:  #ff0000;\n",
       "        }    #T_d0866ce6_0238_11e9_82bf_185e0f6ca47frow4_col10 {\n",
       "            background-color:  #ff0000;\n",
       "        }    #T_d0866ce6_0238_11e9_82bf_185e0f6ca47frow4_col11 {\n",
       "            background-color:  #ff0000;\n",
       "        }</style>  \n",
       "<table id=\"T_d0866ce6_0238_11e9_82bf_185e0f6ca47f\" > \n",
       "<thead>    <tr> \n",
       "        <th class=\"blank\" ></th> \n",
       "        <th class=\"index_name level0\" >Fare_bin</th> \n",
       "        <th class=\"col_heading level0 col0\" colspan=3>1.0</th> \n",
       "        <th class=\"col_heading level0 col3\" colspan=3>2.0</th> \n",
       "        <th class=\"col_heading level0 col6\" >3.0</th> \n",
       "        <th class=\"col_heading level0 col7\" >4.0</th> \n",
       "        <th class=\"col_heading level0 col8\" >5.0</th> \n",
       "        <th class=\"col_heading level0 col9\" >6.0</th> \n",
       "        <th class=\"col_heading level0 col10\" >11.0</th> \n",
       "        <th class=\"col_heading level0 col11\" >All</th> \n",
       "    </tr>    <tr> \n",
       "        <th class=\"blank\" ></th> \n",
       "        <th class=\"index_name level1\" >Pclass</th> \n",
       "        <th class=\"col_heading level1 col0\" >1</th> \n",
       "        <th class=\"col_heading level1 col1\" >2</th> \n",
       "        <th class=\"col_heading level1 col2\" >3</th> \n",
       "        <th class=\"col_heading level1 col3\" >1</th> \n",
       "        <th class=\"col_heading level1 col4\" >2</th> \n",
       "        <th class=\"col_heading level1 col5\" >3</th> \n",
       "        <th class=\"col_heading level1 col6\" >1</th> \n",
       "        <th class=\"col_heading level1 col7\" >1</th> \n",
       "        <th class=\"col_heading level1 col8\" >1</th> \n",
       "        <th class=\"col_heading level1 col9\" >1</th> \n",
       "        <th class=\"col_heading level1 col10\" >1</th> \n",
       "        <th class=\"col_heading level1 col11\" ></th> \n",
       "    </tr>    <tr> \n",
       "        <th class=\"index_name level0\" >Sex</th> \n",
       "        <th class=\"index_name level1\" >Survived</th> \n",
       "        <th class=\"blank\" ></th> \n",
       "        <th class=\"blank\" ></th> \n",
       "        <th class=\"blank\" ></th> \n",
       "        <th class=\"blank\" ></th> \n",
       "        <th class=\"blank\" ></th> \n",
       "        <th class=\"blank\" ></th> \n",
       "        <th class=\"blank\" ></th> \n",
       "        <th class=\"blank\" ></th> \n",
       "        <th class=\"blank\" ></th> \n",
       "        <th class=\"blank\" ></th> \n",
       "        <th class=\"blank\" ></th> \n",
       "        <th class=\"blank\" ></th> \n",
       "    </tr></thead> \n",
       "<tbody>    <tr> \n",
       "        <th id=\"T_d0866ce6_0238_11e9_82bf_185e0f6ca47flevel0_row0\" class=\"row_heading level0 row0\" rowspan=2>female</th> \n",
       "        <th id=\"T_d0866ce6_0238_11e9_82bf_185e0f6ca47flevel1_row0\" class=\"row_heading level1 row0\" >0</th> \n",
       "        <td id=\"T_d0866ce6_0238_11e9_82bf_185e0f6ca47frow0_col0\" class=\"data row0 col0\" >1</td> \n",
       "        <td id=\"T_d0866ce6_0238_11e9_82bf_185e0f6ca47frow0_col1\" class=\"data row0 col1\" >6</td> \n",
       "        <td id=\"T_d0866ce6_0238_11e9_82bf_185e0f6ca47frow0_col2\" class=\"data row0 col2\" >69</td> \n",
       "        <td id=\"T_d0866ce6_0238_11e9_82bf_185e0f6ca47frow0_col3\" class=\"data row0 col3\" >0</td> \n",
       "        <td id=\"T_d0866ce6_0238_11e9_82bf_185e0f6ca47frow0_col4\" class=\"data row0 col4\" >0</td> \n",
       "        <td id=\"T_d0866ce6_0238_11e9_82bf_185e0f6ca47frow0_col5\" class=\"data row0 col5\" >3</td> \n",
       "        <td id=\"T_d0866ce6_0238_11e9_82bf_185e0f6ca47frow0_col6\" class=\"data row0 col6\" >0</td> \n",
       "        <td id=\"T_d0866ce6_0238_11e9_82bf_185e0f6ca47frow0_col7\" class=\"data row0 col7\" >2</td> \n",
       "        <td id=\"T_d0866ce6_0238_11e9_82bf_185e0f6ca47frow0_col8\" class=\"data row0 col8\" >0</td> \n",
       "        <td id=\"T_d0866ce6_0238_11e9_82bf_185e0f6ca47frow0_col9\" class=\"data row0 col9\" >0</td> \n",
       "        <td id=\"T_d0866ce6_0238_11e9_82bf_185e0f6ca47frow0_col10\" class=\"data row0 col10\" >0</td> \n",
       "        <td id=\"T_d0866ce6_0238_11e9_82bf_185e0f6ca47frow0_col11\" class=\"data row0 col11\" >81</td> \n",
       "    </tr>    <tr> \n",
       "        <th id=\"T_d0866ce6_0238_11e9_82bf_185e0f6ca47flevel1_row1\" class=\"row_heading level1 row1\" >1</th> \n",
       "        <td id=\"T_d0866ce6_0238_11e9_82bf_185e0f6ca47frow1_col0\" class=\"data row1 col0\" >11</td> \n",
       "        <td id=\"T_d0866ce6_0238_11e9_82bf_185e0f6ca47frow1_col1\" class=\"data row1 col1\" >68</td> \n",
       "        <td id=\"T_d0866ce6_0238_11e9_82bf_185e0f6ca47frow1_col2\" class=\"data row1 col2\" >72</td> \n",
       "        <td id=\"T_d0866ce6_0238_11e9_82bf_185e0f6ca47frow1_col3\" class=\"data row1 col3\" >48</td> \n",
       "        <td id=\"T_d0866ce6_0238_11e9_82bf_185e0f6ca47frow1_col4\" class=\"data row1 col4\" >2</td> \n",
       "        <td id=\"T_d0866ce6_0238_11e9_82bf_185e0f6ca47frow1_col5\" class=\"data row1 col5\" >0</td> \n",
       "        <td id=\"T_d0866ce6_0238_11e9_82bf_185e0f6ca47frow1_col6\" class=\"data row1 col6\" >15</td> \n",
       "        <td id=\"T_d0866ce6_0238_11e9_82bf_185e0f6ca47frow1_col7\" class=\"data row1 col7\" >5</td> \n",
       "        <td id=\"T_d0866ce6_0238_11e9_82bf_185e0f6ca47frow1_col8\" class=\"data row1 col8\" >7</td> \n",
       "        <td id=\"T_d0866ce6_0238_11e9_82bf_185e0f6ca47frow1_col9\" class=\"data row1 col9\" >4</td> \n",
       "        <td id=\"T_d0866ce6_0238_11e9_82bf_185e0f6ca47frow1_col10\" class=\"data row1 col10\" >1</td> \n",
       "        <td id=\"T_d0866ce6_0238_11e9_82bf_185e0f6ca47frow1_col11\" class=\"data row1 col11\" >233</td> \n",
       "    </tr>    <tr> \n",
       "        <th id=\"T_d0866ce6_0238_11e9_82bf_185e0f6ca47flevel0_row2\" class=\"row_heading level0 row2\" rowspan=2>male</th> \n",
       "        <th id=\"T_d0866ce6_0238_11e9_82bf_185e0f6ca47flevel1_row2\" class=\"row_heading level1 row2\" >0</th> \n",
       "        <td id=\"T_d0866ce6_0238_11e9_82bf_185e0f6ca47frow2_col0\" class=\"data row2 col0\" >42</td> \n",
       "        <td id=\"T_d0866ce6_0238_11e9_82bf_185e0f6ca47frow2_col1\" class=\"data row2 col1\" >86</td> \n",
       "        <td id=\"T_d0866ce6_0238_11e9_82bf_185e0f6ca47frow2_col2\" class=\"data row2 col2\" >294</td> \n",
       "        <td id=\"T_d0866ce6_0238_11e9_82bf_185e0f6ca47frow2_col3\" class=\"data row2 col3\" >23</td> \n",
       "        <td id=\"T_d0866ce6_0238_11e9_82bf_185e0f6ca47frow2_col4\" class=\"data row2 col4\" >5</td> \n",
       "        <td id=\"T_d0866ce6_0238_11e9_82bf_185e0f6ca47frow2_col5\" class=\"data row2 col5\" >6</td> \n",
       "        <td id=\"T_d0866ce6_0238_11e9_82bf_185e0f6ca47frow2_col6\" class=\"data row2 col6\" >5</td> \n",
       "        <td id=\"T_d0866ce6_0238_11e9_82bf_185e0f6ca47frow2_col7\" class=\"data row2 col7\" >1</td> \n",
       "        <td id=\"T_d0866ce6_0238_11e9_82bf_185e0f6ca47frow2_col8\" class=\"data row2 col8\" >4</td> \n",
       "        <td id=\"T_d0866ce6_0238_11e9_82bf_185e0f6ca47frow2_col9\" class=\"data row2 col9\" >2</td> \n",
       "        <td id=\"T_d0866ce6_0238_11e9_82bf_185e0f6ca47frow2_col10\" class=\"data row2 col10\" >0</td> \n",
       "        <td id=\"T_d0866ce6_0238_11e9_82bf_185e0f6ca47frow2_col11\" class=\"data row2 col11\" >468</td> \n",
       "    </tr>    <tr> \n",
       "        <th id=\"T_d0866ce6_0238_11e9_82bf_185e0f6ca47flevel1_row3\" class=\"row_heading level1 row3\" >1</th> \n",
       "        <td id=\"T_d0866ce6_0238_11e9_82bf_185e0f6ca47frow3_col0\" class=\"data row3 col0\" >23</td> \n",
       "        <td id=\"T_d0866ce6_0238_11e9_82bf_185e0f6ca47frow3_col1\" class=\"data row3 col1\" >17</td> \n",
       "        <td id=\"T_d0866ce6_0238_11e9_82bf_185e0f6ca47frow3_col2\" class=\"data row3 col2\" >42</td> \n",
       "        <td id=\"T_d0866ce6_0238_11e9_82bf_185e0f6ca47frow3_col3\" class=\"data row3 col3\" >15</td> \n",
       "        <td id=\"T_d0866ce6_0238_11e9_82bf_185e0f6ca47frow3_col4\" class=\"data row3 col4\" >0</td> \n",
       "        <td id=\"T_d0866ce6_0238_11e9_82bf_185e0f6ca47frow3_col5\" class=\"data row3 col5\" >5</td> \n",
       "        <td id=\"T_d0866ce6_0238_11e9_82bf_185e0f6ca47frow3_col6\" class=\"data row3 col6\" >4</td> \n",
       "        <td id=\"T_d0866ce6_0238_11e9_82bf_185e0f6ca47frow3_col7\" class=\"data row3 col7\" >1</td> \n",
       "        <td id=\"T_d0866ce6_0238_11e9_82bf_185e0f6ca47frow3_col8\" class=\"data row3 col8\" >0</td> \n",
       "        <td id=\"T_d0866ce6_0238_11e9_82bf_185e0f6ca47frow3_col9\" class=\"data row3 col9\" >0</td> \n",
       "        <td id=\"T_d0866ce6_0238_11e9_82bf_185e0f6ca47frow3_col10\" class=\"data row3 col10\" >2</td> \n",
       "        <td id=\"T_d0866ce6_0238_11e9_82bf_185e0f6ca47frow3_col11\" class=\"data row3 col11\" >109</td> \n",
       "    </tr>    <tr> \n",
       "        <th id=\"T_d0866ce6_0238_11e9_82bf_185e0f6ca47flevel0_row4\" class=\"row_heading level0 row4\" >All</th> \n",
       "        <th id=\"T_d0866ce6_0238_11e9_82bf_185e0f6ca47flevel1_row4\" class=\"row_heading level1 row4\" ></th> \n",
       "        <td id=\"T_d0866ce6_0238_11e9_82bf_185e0f6ca47frow4_col0\" class=\"data row4 col0\" >77</td> \n",
       "        <td id=\"T_d0866ce6_0238_11e9_82bf_185e0f6ca47frow4_col1\" class=\"data row4 col1\" >177</td> \n",
       "        <td id=\"T_d0866ce6_0238_11e9_82bf_185e0f6ca47frow4_col2\" class=\"data row4 col2\" >477</td> \n",
       "        <td id=\"T_d0866ce6_0238_11e9_82bf_185e0f6ca47frow4_col3\" class=\"data row4 col3\" >86</td> \n",
       "        <td id=\"T_d0866ce6_0238_11e9_82bf_185e0f6ca47frow4_col4\" class=\"data row4 col4\" >7</td> \n",
       "        <td id=\"T_d0866ce6_0238_11e9_82bf_185e0f6ca47frow4_col5\" class=\"data row4 col5\" >14</td> \n",
       "        <td id=\"T_d0866ce6_0238_11e9_82bf_185e0f6ca47frow4_col6\" class=\"data row4 col6\" >24</td> \n",
       "        <td id=\"T_d0866ce6_0238_11e9_82bf_185e0f6ca47frow4_col7\" class=\"data row4 col7\" >9</td> \n",
       "        <td id=\"T_d0866ce6_0238_11e9_82bf_185e0f6ca47frow4_col8\" class=\"data row4 col8\" >11</td> \n",
       "        <td id=\"T_d0866ce6_0238_11e9_82bf_185e0f6ca47frow4_col9\" class=\"data row4 col9\" >6</td> \n",
       "        <td id=\"T_d0866ce6_0238_11e9_82bf_185e0f6ca47frow4_col10\" class=\"data row4 col10\" >3</td> \n",
       "        <td id=\"T_d0866ce6_0238_11e9_82bf_185e0f6ca47frow4_col11\" class=\"data row4 col11\" >891</td> \n",
       "    </tr></tbody> \n",
       "</table> "
      ],
      "text/plain": [
       "<pandas.io.formats.style.Styler at 0x25f08235278>"
      ]
     },
     "execution_count": 42,
     "metadata": {},
     "output_type": "execute_result"
    }
   ],
   "source": [
    "pd.crosstab([df_train.Sex, df_train.Survived],[df_train.Fare_bin, df_train.Pclass], margins=True).style.background_gradient(cmap='autumn_r')"
   ]
  },
  {
   "cell_type": "code",
   "execution_count": 43,
   "metadata": {},
   "outputs": [],
   "source": [
    "# # males in Fare_bin = 11 survived\n",
    "# df_test.loc[ (df_test.Sex == 'male') & (df_test.Fare_bin == 11), 'Survived'] = 1"
   ]
  },
  {
   "cell_type": "markdown",
   "metadata": {},
   "source": [
    "fourth model: model 3+ Age_bin, SibSp, Parch and Fare_bin<br>\n",
    "submission: 0.789 accuracy"
   ]
  },
  {
   "cell_type": "code",
   "execution_count": 46,
   "metadata": {},
   "outputs": [],
   "source": [
    "# model 4\n",
    "# df_test[['PassengerId', 'Survived']].to_csv('model_4.csv', index=False)"
   ]
  },
  {
   "cell_type": "markdown",
   "metadata": {},
   "source": [
    "## Part2: Data wrangling"
   ]
  },
  {
   "cell_type": "markdown",
   "metadata": {},
   "source": [
    "building two new dataframes df_train_ml and df_test_ml<br>\n",
    "these will have only ordinal features and no missing values so they can be used for ML algorithms<br>\n",
    "converting categorical to numerical by pd.get_dummies<br>\n",
    "droping all features that seen to be not useful for prediction<br>\n",
    "Then use the Standard scaler and apply train/test split"
   ]
  },
  {
   "cell_type": "code",
   "execution_count": 50,
   "metadata": {},
   "outputs": [],
   "source": [
    "df_train_ml = df_train.copy()\n",
    "df_test_ml = df_test.copy()"
   ]
  },
  {
   "cell_type": "markdown",
   "metadata": {},
   "source": [
    "**pandas get_dummies for categorical features**"
   ]
  },
  {
   "cell_type": "code",
   "execution_count": 51,
   "metadata": {},
   "outputs": [],
   "source": [
    "df_train_ml = pd.get_dummies(df_train_ml, columns=['Sex', 'Embarked','Pclass'], drop_first=True)\n",
    "df_train_ml.drop(['PassengerId','Name','Ticket','Cabin','Age_bin','Fare_bin'], axis=1, inplace=True)\n",
    "df_train_ml.dropna(inplace=True)"
   ]
  },
  {
   "cell_type": "code",
   "execution_count": 53,
   "metadata": {},
   "outputs": [],
   "source": [
    "passenger_id = df_test_ml['PassengerId']\n",
    "df_test_ml = pd.get_dummies(df_test_ml, columns=['Sex','Embarked','Pclass'], drop_first=True)\n",
    "df_test_ml.drop(['PassengerId','Name','Ticket','Cabin','Age_bin','Fare_bin'], axis=1, inplace=True)"
   ]
  },
  {
   "cell_type": "code",
   "execution_count": 55,
   "metadata": {},
   "outputs": [
    {
     "data": {
      "text/html": [
       "<div>\n",
       "<style scoped>\n",
       "    .dataframe tbody tr th:only-of-type {\n",
       "        vertical-align: middle;\n",
       "    }\n",
       "\n",
       "    .dataframe tbody tr th {\n",
       "        vertical-align: top;\n",
       "    }\n",
       "\n",
       "    .dataframe thead th {\n",
       "        text-align: right;\n",
       "    }\n",
       "</style>\n",
       "<table border=\"1\" class=\"dataframe\">\n",
       "  <thead>\n",
       "    <tr style=\"text-align: right;\">\n",
       "      <th></th>\n",
       "      <th>Survived</th>\n",
       "      <th>Age</th>\n",
       "      <th>SibSp</th>\n",
       "      <th>Parch</th>\n",
       "      <th>Fare</th>\n",
       "      <th>Sex_male</th>\n",
       "      <th>Embarked_Q</th>\n",
       "      <th>Embarked_S</th>\n",
       "      <th>Pclass_2</th>\n",
       "      <th>Pclass_3</th>\n",
       "    </tr>\n",
       "  </thead>\n",
       "  <tbody>\n",
       "    <tr>\n",
       "      <th>0</th>\n",
       "      <td>0</td>\n",
       "      <td>22.0</td>\n",
       "      <td>1</td>\n",
       "      <td>0</td>\n",
       "      <td>7.2500</td>\n",
       "      <td>1</td>\n",
       "      <td>0</td>\n",
       "      <td>1</td>\n",
       "      <td>0</td>\n",
       "      <td>1</td>\n",
       "    </tr>\n",
       "    <tr>\n",
       "      <th>1</th>\n",
       "      <td>1</td>\n",
       "      <td>38.0</td>\n",
       "      <td>1</td>\n",
       "      <td>0</td>\n",
       "      <td>71.2833</td>\n",
       "      <td>0</td>\n",
       "      <td>0</td>\n",
       "      <td>0</td>\n",
       "      <td>0</td>\n",
       "      <td>0</td>\n",
       "    </tr>\n",
       "    <tr>\n",
       "      <th>2</th>\n",
       "      <td>1</td>\n",
       "      <td>26.0</td>\n",
       "      <td>0</td>\n",
       "      <td>0</td>\n",
       "      <td>7.9250</td>\n",
       "      <td>0</td>\n",
       "      <td>0</td>\n",
       "      <td>1</td>\n",
       "      <td>0</td>\n",
       "      <td>1</td>\n",
       "    </tr>\n",
       "    <tr>\n",
       "      <th>3</th>\n",
       "      <td>1</td>\n",
       "      <td>35.0</td>\n",
       "      <td>1</td>\n",
       "      <td>0</td>\n",
       "      <td>53.1000</td>\n",
       "      <td>0</td>\n",
       "      <td>0</td>\n",
       "      <td>1</td>\n",
       "      <td>0</td>\n",
       "      <td>0</td>\n",
       "    </tr>\n",
       "    <tr>\n",
       "      <th>4</th>\n",
       "      <td>0</td>\n",
       "      <td>35.0</td>\n",
       "      <td>0</td>\n",
       "      <td>0</td>\n",
       "      <td>8.0500</td>\n",
       "      <td>1</td>\n",
       "      <td>0</td>\n",
       "      <td>1</td>\n",
       "      <td>0</td>\n",
       "      <td>1</td>\n",
       "    </tr>\n",
       "  </tbody>\n",
       "</table>\n",
       "</div>"
      ],
      "text/plain": [
       "   Survived   Age  SibSp  Parch     Fare  Sex_male  Embarked_Q  Embarked_S  \\\n",
       "0         0  22.0      1      0   7.2500         1           0           1   \n",
       "1         1  38.0      1      0  71.2833         0           0           0   \n",
       "2         1  26.0      0      0   7.9250         0           0           1   \n",
       "3         1  35.0      1      0  53.1000         0           0           1   \n",
       "4         0  35.0      0      0   8.0500         1           0           1   \n",
       "\n",
       "   Pclass_2  Pclass_3  \n",
       "0         0         1  \n",
       "1         0         0  \n",
       "2         0         1  \n",
       "3         0         0  \n",
       "4         0         1  "
      ]
     },
     "execution_count": 55,
     "metadata": {},
     "output_type": "execute_result"
    }
   ],
   "source": [
    "df_train_ml.head()"
   ]
  },
  {
   "cell_type": "code",
   "execution_count": 56,
   "metadata": {},
   "outputs": [
    {
     "name": "stdout",
     "output_type": "stream",
     "text": [
      "<class 'pandas.core.frame.DataFrame'>\n",
      "Int64Index: 714 entries, 0 to 890\n",
      "Data columns (total 10 columns):\n",
      "Survived      714 non-null int64\n",
      "Age           714 non-null float64\n",
      "SibSp         714 non-null int64\n",
      "Parch         714 non-null int64\n",
      "Fare          714 non-null float64\n",
      "Sex_male      714 non-null uint8\n",
      "Embarked_Q    714 non-null uint8\n",
      "Embarked_S    714 non-null uint8\n",
      "Pclass_2      714 non-null uint8\n",
      "Pclass_3      714 non-null uint8\n",
      "dtypes: float64(2), int64(3), uint8(5)\n",
      "memory usage: 37.0 KB\n"
     ]
    }
   ],
   "source": [
    "df_train_ml.info()"
   ]
  },
  {
   "cell_type": "code",
   "execution_count": 57,
   "metadata": {},
   "outputs": [
    {
     "name": "stdout",
     "output_type": "stream",
     "text": [
      "<class 'pandas.core.frame.DataFrame'>\n",
      "RangeIndex: 418 entries, 0 to 417\n",
      "Data columns (total 9 columns):\n",
      "Age           332 non-null float64\n",
      "SibSp         418 non-null int64\n",
      "Parch         418 non-null int64\n",
      "Fare          417 non-null float64\n",
      "Sex_male      418 non-null uint8\n",
      "Embarked_Q    418 non-null uint8\n",
      "Embarked_S    418 non-null uint8\n",
      "Pclass_2      418 non-null uint8\n",
      "Pclass_3      418 non-null uint8\n",
      "dtypes: float64(2), int64(2), uint8(5)\n",
      "memory usage: 15.2 KB\n"
     ]
    }
   ],
   "source": [
    "df_test_ml.info()"
   ]
  },
  {
   "cell_type": "markdown",
   "metadata": {},
   "source": [
    "**Correlation Matrix**"
   ]
  },
  {
   "cell_type": "code",
   "execution_count": 59,
   "metadata": {},
   "outputs": [
    {
     "data": {
      "image/png": "[encoded data removed]",
      "text/plain": [
       "<Figure size 648x432 with 2 Axes>"
      ]
     },
     "metadata": {},
     "output_type": "display_data"
    }
   ],
   "source": [
    "corr = df_train_ml.corr()\n",
    "f,ax = plt.subplots(figsize=(9,6))\n",
    "sns.heatmap(corr, annot = True, linewidths=1.5, fmt='.2f', ax=ax)\n",
    "plt.show()"
   ]
  },
  {
   "cell_type": "markdown",
   "metadata": {},
   "source": [
    "Survived and Fare positively correlated, Survived and Sex_male negatively correlated.<br>\n",
    "Also, Survived and Pclass_3 negatively correlated. SibSp and Parch correlated"
   ]
  },
  {
   "cell_type": "markdown",
   "metadata": {},
   "source": [
    "**Sklearn StandardScaler**"
   ]
  },
  {
   "cell_type": "code",
   "execution_count": 60,
   "metadata": {},
   "outputs": [],
   "source": [
    "from sklearn.preprocessing import StandardScaler"
   ]
  },
  {
   "cell_type": "code",
   "execution_count": 61,
   "metadata": {},
   "outputs": [],
   "source": [
    "scaler = StandardScaler()\n",
    "\n",
    "#for df_train_ml\n",
    "scaler.fit(df_train_ml.drop('Survived', axis=1))\n",
    "scaled_features = scaler.transform(df_train_ml.drop('Survived', axis=1))\n",
    "df_train_ml_sc = pd.DataFrame(scaled_features, columns=df_train_ml.columns[:-1])\n",
    "\n",
    "#for df_test_ml\n",
    "df_test_ml.fillna(df_test_ml.mean(), inplace=True)\n",
    "\n",
    "#scaler.fit(df_test_ml)\n",
    "scaled_features = scaler.transform(df_test_ml)\n",
    "df_test_ml_sc = pd.DataFrame(scaled_features, columns=df_test_ml.columns)"
   ]
  },
  {
   "cell_type": "code",
   "execution_count": null,
   "metadata": {},
   "outputs": [],
   "source": []
  }
 ],
 "metadata": {
  "kernelspec": {
   "display_name": "Python 3",
   "language": "python",
   "name": "python3"
  },
  "language_info": {
   "codemirror_mode": {
    "name": "ipython",
    "version": 3
   },
   "file_extension": ".py",
   "mimetype": "text/x-python",
   "name": "python",
   "nbconvert_exporter": "python",
   "pygments_lexer": "ipython3",
   "version": "3.6.6"
  }
 },
 "nbformat": 4,
 "nbformat_minor": 2
}
