{
 "cells": [
  {
   "cell_type": "markdown",
   "metadata": {},
   "source": [
    "as we saw above, every row of W is a classifier for one of the classes..The geometric interpretation of these number is that as we change one of the rows of W, the corresponding line in the pixel space will rotate in different directions. The biases b, on the other hand, allow our classifiers to translate the lines. In particular, note that without the bias terms, plugging in x = 0 would always give score of zero regardless of the weights, so all lines would be forced to cross the origin."
   ]
  },
  {
   "cell_type": "markdown",
   "metadata": {},
   "source": [
    "interpretation of linear classifiers as template matching. Another interpretation for the weights W is that each row of W corresponds to a template"
   ]
  },
  {
   "cell_type": "markdown",
   "metadata": {},
   "source": [
    "Additinally, note that the horse template seems to contain a two-headed horse, which is due to both left and right facing horses in the dataset. The linear classifier mergs these two modes of horses in the data into a single template."
   ]
  }
 ],
 "metadata": {
  "kernelspec": {
   "display_name": "Python 3",
   "language": "python",
   "name": "python3"
  },
  "language_info": {
   "codemirror_mode": {
    "name": "ipython",
    "version": 3
   },
   "file_extension": ".py",
   "mimetype": "text/x-python",
   "name": "python",
   "nbconvert_exporter": "python",
   "pygments_lexer": "ipython3",
   "version": "3.6.6"
  }
 },
 "nbformat": 4,
 "nbformat_minor": 2
}
